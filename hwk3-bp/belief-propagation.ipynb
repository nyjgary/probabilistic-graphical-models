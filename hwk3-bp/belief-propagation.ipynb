{
 "cells": [
  {
   "cell_type": "markdown",
   "metadata": {},
   "source": [
    "# DS 1005 Hwk 3 - Belief Propagation"
   ]
  },
  {
   "cell_type": "markdown",
   "metadata": {},
   "source": [
    "## Q1 - Sum-product algorithm "
   ]
  },
  {
   "cell_type": "code",
   "execution_count": 1,
   "metadata": {},
   "outputs": [],
   "source": [
    "import numpy as np \n",
    "import networkx as nx\n",
    "from fglib import graphs, nodes, rv, inference, utils\n",
    "from itertools import product\n",
    "import matplotlib.pyplot as plt\n",
    "import cv2\n",
    "%matplotlib inline"
   ]
  },
  {
   "cell_type": "code",
   "execution_count": 2,
   "metadata": {},
   "outputs": [
    {
     "name": "stdout",
     "output_type": "stream",
     "text": [
      "[[0.2 0.3]\n",
      " [0.2 0.3]]\n",
      "(2, 2)\n",
      "[[[0.2]\n",
      "  [0.3]]\n",
      "\n",
      " [[0.2]\n",
      "  [0.3]]]\n",
      "(2, 2, 1)\n",
      "[[[0.2, 0.8], [0.25, 0.75]], [[0.7, 0.3], [0.3, 0.7]]]\n",
      "[[[0.04  0.16 ]\n",
      "  [0.075 0.225]]\n",
      "\n",
      " [[0.14  0.06 ]\n",
      "  [0.09  0.21 ]]]\n",
      "(2, 2, 2)\n",
      "[0.345 0.655]\n",
      "[[0.1725 0.1725]\n",
      " [0.4585 0.1965]]\n",
      "(2, 2)\n"
     ]
    }
   ],
   "source": [
    "dist_f3 = [0.5, 0.5]\n",
    "dist_f4 = [0.4,0.6]\n",
    "px3x4=np.outer(dist_f3,dist_f4)\n",
    "print(px3x4)\n",
    "print(px3x4.shape)\n",
    "px3x4=np.reshape(px3x4, np.shape(px3x4)+(1,))\n",
    "print(px3x4)\n",
    "print(px3x4.shape)\n",
    "px2_conditioned_x3x4=[[[0.2,0.8],\n",
    "                     [0.25,0.75],],\n",
    "                     [[0.7,0.3],\n",
    "                     [0.3,0.7]]]\n",
    "print(px2_conditioned_x3x4)\n",
    "dist_f234 =px3x4*px2_conditioned_x3x4\n",
    "print(dist_f234)\n",
    "print(dist_f234.shape)\n",
    "px2= np.sum(dist_f234, axis=(0,1))\n",
    "print(px2)\n",
    "px1_conditioned_x2 = [[0.5,0.5],\n",
    "                     [0.7,0.3]]\n",
    "dist_f12 =px2[:,np.newaxis]*px1_conditioned_x2\n",
    "print(dist_f12)\n",
    "print(dist_f12.shape)"
   ]
  },
  {
   "cell_type": "code",
   "execution_count": 3,
   "metadata": {},
   "outputs": [],
   "source": [
    "def make_debug_graph():\n",
    "\n",
    "    # Create factor graph\n",
    "    fg = graphs.FactorGraph()\n",
    "\n",
    "    # Create variable nodes\n",
    "    x1 = nodes.VNode(\"x1\", rv.Discrete)\n",
    "    x2 = nodes.VNode(\"x2\", rv.Discrete)\n",
    "    x3 = nodes.VNode(\"x3\", rv.Discrete)\n",
    "    x4 = nodes.VNode(\"x4\", rv.Discrete)\n",
    "\n",
    "    # Create factor nodes\n",
    "    f12 = nodes.FNode(\"f12\")\n",
    "    f234 = nodes.FNode(\"f234\")\n",
    "    f3 = nodes.FNode(\"f3\")\n",
    "    f4 = nodes.FNode(\"f4\")\n",
    "\n",
    "    # Add nodes to factor graph\n",
    "    fg.set_nodes([x1, x2, x3, x4])\n",
    "    fg.set_nodes([f12, f234, f3,f4 ])\n",
    "\n",
    "    # Add edges to factor graph\n",
    "    fg.set_edge(x1, f12)\n",
    "    fg.set_edge(f12, x2)\n",
    "    fg.set_edge(x2, f234)\n",
    "    fg.set_edge(f234, x3)\n",
    "    fg.set_edge(f234, x4)\n",
    "    fg.set_edge(x3, f3)\n",
    "    fg.set_edge(x4, f4)\n",
    "\n",
    "    #add potential for f_3: p(x3)\n",
    "    dist_f3 = [0.5, 0.5]\n",
    "    f3.factor = rv.Discrete(dist_f3,x3)\n",
    "    \n",
    "    #add potential for f_4: p(x4)\n",
    "    dist_f4 = [0.4,0.6]\n",
    "    f4.factor = rv.Discrete(dist_f4,x4)\n",
    "    \n",
    "    # add potential for f_{234}: p(x2, x3, x4) = p(x2|x3,x4) p(x3,x4)\n",
    "    px3x4=np.outer(dist_f3,dist_f4)\n",
    "    px3x4=np.reshape(px3x4, np.shape(px3x4)+(1,))\n",
    "    px2_conditioned_x3x4=[[[0.2,0.8],\n",
    "                         [0.25,0.75],],\n",
    "                         [[0.7,0.3],\n",
    "                         [0.3,0.7]]]\n",
    "    \n",
    "    dist_f234 =px3x4*px2_conditioned_x3x4\n",
    "    f234.factor = rv.Discrete(dist_f234,x3,x4,x2)\n",
    "   \n",
    "    # add potential for f_{12}:  p (x1,x2) = p(x1 | x2) p(x2)\n",
    "    px1_conditioned_x2 = [[0.5,0.5],\n",
    "                         [0.7,0.3]]\n",
    "    px2= np.sum(dist_f234, axis=(0,1))\n",
    "    dist_f12 =px2[:,np.newaxis]*px1_conditioned_x2\n",
    "    f12.factor = rv.Discrete(dist_f12,x2,x1)\n",
    "    # Perform sum-product algorithm on factor graph\n",
    "    # and request belief of variable node x1\n",
    "    \n",
    "    belief = inference.sum_product(fg, x1)\n",
    "    print(belief)\n",
    "    return (fg)\n"
   ]
  },
  {
   "cell_type": "markdown",
   "metadata": {},
   "source": [
    "### 1a. Implement sum-product algorithm "
   ]
  },
  {
   "cell_type": "code",
   "execution_count": 4,
   "metadata": {},
   "outputs": [],
   "source": [
    "# # numerically unstable \n",
    "\n",
    "# def get_beliefs(model, n_iter=10):\n",
    "    \n",
    "#     # initialize variable to factor messages \n",
    "#     for v in model.get_vnodes():\n",
    "#         for f in v.neighbors():\n",
    "#             initial_msg = rv.Discrete(np.ones(2,), v)\n",
    "#             model[v][f]['object'].set_message(v, f, initial_msg)\n",
    "\n",
    "#     # run parallel updates for n_iter times \n",
    "#     for i in range(n_iter):\n",
    "        \n",
    "#         # update factor-to-variable messages\n",
    "#         for f in model.get_fnodes():\n",
    "#             for v in f.neighbors():\n",
    "#                 msg = f.factor \n",
    "#                 for n in f.neighbors(exclusion=v):\n",
    "#                     msg *= model[n][f]['object'].get_message(n, f)\n",
    "#                 for n in f.neighbors(exclusion=v):\n",
    "#                     msg = msg.marginalize(n, normalize=False)\n",
    "#                 model[f][v]['object'].set_message(f, v, msg)\n",
    "                \n",
    "#         # update variable-to-factor messages \n",
    "#         for v in model.get_vnodes(): \n",
    "#             for f in v.neighbors():\n",
    "#                 msg = rv.Discrete(np.ones(2,), v)\n",
    "#                 for n in v.neighbors(exclusion=f):\n",
    "#                     msg *= model[n][v]['object'].get_message(n, v)\n",
    "#                 model[v][f]['object'].set_message(v, f, msg)\n",
    "\n",
    "#         # store beliefs of variable nodes \n",
    "#         beliefs = {}\n",
    "#         for v in model.get_vnodes():\n",
    "#             beliefs[v] = v.belief(model)\n",
    "    \n",
    "#     return beliefs"
   ]
  },
  {
   "cell_type": "code",
   "execution_count": 16,
   "metadata": {},
   "outputs": [],
   "source": [
    "# def get_beliefs(model, n_iter=10):\n",
    "    \n",
    "#     # initialize variable to factor messages \n",
    "#     for v in model.get_vnodes():\n",
    "#         for f in v.neighbors():\n",
    "#             initial_msg = rv.Discrete(np.ones(2,), v)\n",
    "#             model[v][f]['object'].set_message(v, f, initial_msg.normalize())\n",
    "\n",
    "#     # run parallel updates for n_iter times \n",
    "#     for i in range(n_iter):\n",
    "        \n",
    "#         # update factor-to-variable messages\n",
    "#         for f in model.get_fnodes():\n",
    "#             for v in f.neighbors():\n",
    "#                 msg = f.factor \n",
    "#                 for n in f.neighbors(exclusion=v):\n",
    "#                     msg *= model[n][f]['object'].get_message(n, f)\n",
    "#                     msg = msg.normalize()\n",
    "#                 for n in f.neighbors(exclusion=v):\n",
    "#                     msg = msg.marginalize(n, normalize=True)\n",
    "#                 model[f][v]['object'].set_message(f, v, msg.normalize())\n",
    "                \n",
    "#         # update variable-to-factor messages \n",
    "#         for v in model.get_vnodes(): \n",
    "#             for f in v.neighbors():\n",
    "#                 msg = rv.Discrete(np.ones(2,), v)\n",
    "#                 for n in v.neighbors(exclusion=f):\n",
    "#                     msg *= model[n][v]['object'].get_message(n, v)\n",
    "#                     msg = msg.normalize()\n",
    "#                 model[v][f]['object'].set_message(v, f, msg.normalize())\n",
    "\n",
    "#         # store beliefs of variable nodes \n",
    "#         beliefs = {}\n",
    "#         for v in model.get_vnodes():\n",
    "#             belief = rv.Discrete(np.ones(2,), v)\n",
    "#             for n in v.neighbors():\n",
    "#                 belief *= model[n][v]['object'].get_message(n, v)\n",
    "#             beliefs[v] = belief.normalize()\n",
    "    \n",
    "#     return beliefs\n",
    "\n",
    "def get_beliefs_at_iter(beliefs_history, n_iter):\n",
    "    beliefs_at_iter = {}\n",
    "    for v in beliefs_history: \n",
    "        beliefs_at_iter[v] = beliefs_history[v][n_iter]\n",
    "    return beliefs_at_iter \n",
    "\n",
    "def get_beliefs(model, n_iter=10):\n",
    "    \n",
    "    beliefs_history = {v:[] for v in model.get_vnodes()}\n",
    "    \n",
    "    # initialize variable to factor messages \n",
    "    for v in model.get_vnodes():\n",
    "        for f in v.neighbors():\n",
    "            initial_msg = rv.Discrete(np.ones(2,), v)\n",
    "            model[v][f]['object'].set_message(v, f, initial_msg.normalize())\n",
    "\n",
    "    # run parallel updates for n_iter times \n",
    "    for i in range(n_iter):\n",
    "        \n",
    "        # update factor-to-variable messages\n",
    "        for f in model.get_fnodes():\n",
    "            for v in f.neighbors():\n",
    "                msg = f.factor \n",
    "                for n in f.neighbors(exclusion=v):\n",
    "                    msg *= model[n][f]['object'].get_message(n, f)\n",
    "                    msg = msg.normalize()\n",
    "                for n in f.neighbors(exclusion=v):\n",
    "                    msg = msg.marginalize(n, normalize=True)\n",
    "                model[f][v]['object'].set_message(f, v, msg.normalize())\n",
    "                \n",
    "        # update variable-to-factor messages \n",
    "        for v in model.get_vnodes(): \n",
    "            for f in v.neighbors():\n",
    "                msg = rv.Discrete(np.ones(2,), v)\n",
    "                for n in v.neighbors(exclusion=f):\n",
    "                    msg *= model[n][v]['object'].get_message(n, v)\n",
    "                    msg = msg.normalize()\n",
    "                model[v][f]['object'].set_message(v, f, msg.normalize())\n",
    "\n",
    "        # store beliefs of variable nodes \n",
    "        for v in model.get_vnodes():\n",
    "            belief = rv.Discrete(np.ones(2,), v)\n",
    "            for n in v.neighbors():\n",
    "                belief *= model[n][v]['object'].get_message(n, v)\n",
    "            beliefs_history[v].append(belief.normalize())\n",
    "            \n",
    "    beliefs = get_beliefs_at_iter(beliefs_history, n_iter-1)\n",
    "    \n",
    "    return beliefs, beliefs_history"
   ]
  },
  {
   "cell_type": "code",
   "execution_count": 17,
   "metadata": {},
   "outputs": [],
   "source": [
    "# # attempt to take log, but answers don't seem correct\n",
    "\n",
    "# def get_beliefs_log(model, n_iter=10):\n",
    "    \n",
    "#     # initialize variable to factor messages \n",
    "#     for v in model.get_vnodes():\n",
    "#         for f in v.neighbors():\n",
    "#             initial_msg = rv.Discrete(np.ones(2,), v).normalize().log()\n",
    "#             model[v][f]['object'].set_message(v, f, initial_msg, logarithmic=True)\n",
    "\n",
    "#     # run parallel updates for n_iter times \n",
    "#     for i in range(n_iter):\n",
    "        \n",
    "#         # update factor-to-variable messages\n",
    "#         for f in model.get_fnodes():\n",
    "#             for v in f.neighbors():\n",
    "#                 sum_lambdas = rv.Discrete(np.zeros(2,), v)\n",
    "#                 for n in f.neighbors(exclusion=v):\n",
    "#                     sum_lambdas += model[n][f]['object'].get_message(n, f)\n",
    "#                 max_lambda = max(np.nan_to_num(sum_lambdas.pmf.flatten()))\n",
    "#                 sum_lambdas = rv.Discrete(sum_lambdas.pmf - max_lambda, v)\n",
    "#                 msg = rv.Discrete(np.exp(sum_lambdas.pmf), *sum_lambdas.dim)\n",
    "#                 msg = f.factor * msg\n",
    "#                 for n in f.neighbors(exclusion=v):\n",
    "#                     msg = msg.marginalize(n, normalize=False)\n",
    "#                 msg = msg.log()\n",
    "#                 msg = rv.Discrete(msg.pmf + max_lambda, v)\n",
    "#                 msg = msg.normalize()\n",
    "#                 model[f][v]['object'].set_message(f, v, msg, logarithmic=True)\n",
    "                \n",
    "#         # update variable-to-factor messages \n",
    "#         for v in model.get_vnodes(): \n",
    "#             for f in v.neighbors():\n",
    "#                 msg = rv.Discrete(np.zeros(2,), v)\n",
    "#                 for n in v.neighbors(exclusion=f):\n",
    "#                     msg += model[n][v]['object'].get_message(n, v)\n",
    "#                 model[v][f]['object'].set_message(v, f, msg, logarithmic=True)\n",
    "\n",
    "#         # store beliefs of variable nodes \n",
    "#         beliefs = {}\n",
    "#         for v in model.get_vnodes():\n",
    "#             log_b = v.belief(normalize=False)\n",
    "#             b = rv.Discrete(np.exp(log_b.pmf), log_b.dim).normalize()\n",
    "#             beliefs[v] = b\n",
    "    \n",
    "#     return beliefs"
   ]
  },
  {
   "cell_type": "markdown",
   "metadata": {},
   "source": [
    "### 1b. Test on 4-node factor graph provided "
   ]
  },
  {
   "cell_type": "code",
   "execution_count": 20,
   "metadata": {},
   "outputs": [
    {
     "name": "stdout",
     "output_type": "stream",
     "text": [
      "[0.65897284 0.34102716]\n",
      "x1 [0.65897284 0.34102716]\n",
      "x2 [0.20513578 0.79486422]\n",
      "x3 [0.52640912 0.47359088]\n",
      "x4 [0.28679718 0.71320282]\n"
     ]
    }
   ],
   "source": [
    "fg = make_debug_graph()\n",
    "beliefs, _ = get_beliefs(fg)\n",
    "for (v,b) in beliefs.items():\n",
    "    print(v, b)"
   ]
  },
  {
   "cell_type": "markdown",
   "metadata": {},
   "source": [
    "## Q2 - Low-Density Priority Check (LDPC)"
   ]
  },
  {
   "cell_type": "code",
   "execution_count": 21,
   "metadata": {},
   "outputs": [],
   "source": [
    "from pyldpc import RegularH, CodingMatrixG # old version of API"
   ]
  },
  {
   "cell_type": "markdown",
   "metadata": {},
   "source": [
    "### Part a:  "
   ]
  },
  {
   "cell_type": "code",
   "execution_count": 22,
   "metadata": {},
   "outputs": [],
   "source": [
    "def get_factor_potentials(d_v): # where d_v = num of variable nodes in parity check equation \n",
    "    permutations = product([0,1], repeat=d_v)\n",
    "    phi = np.zeros([2 for i in range(d_v)])\n",
    "    for idx in permutations:\n",
    "        if sum(idx) % 2 == 0: \n",
    "            phi[idx] = 1\n",
    "        else:\n",
    "            phi[idx] = 0\n",
    "    return phi "
   ]
  },
  {
   "cell_type": "code",
   "execution_count": 23,
   "metadata": {},
   "outputs": [],
   "source": [
    "def make_ldpc_fg(H):\n",
    "    \"\"\" Given an arbitrary parity check matrix create a corresponding factor graph \"\"\"\n",
    "    \n",
    "    # initialize factor graph  \n",
    "    fg = graphs.FactorGraph()\n",
    "    \n",
    "    # infer the number of factor and variable nodes required\n",
    "    num_factors, num_variables = H.shape\n",
    "\n",
    "    # create factor nodes \n",
    "    fnodes = [] \n",
    "    for i in range(num_factors):\n",
    "        fnodes.append(nodes.FNode(\"f\" + str(i)))\n",
    "    \n",
    "    # create variable nodes \n",
    "    vnodes = [] \n",
    "    for j in range(num_variables):\n",
    "        vnodes.append(nodes.VNode(\"x\" + str(j), rv.Discrete))\n",
    "        \n",
    "    # add nodes to factor graph \n",
    "    fg.set_nodes(vnodes)\n",
    "    fg.set_nodes(fnodes)\n",
    "    \n",
    "    # add edges to factor graph based on H \n",
    "    for i in range(num_factors):\n",
    "        for j in range(num_variables):\n",
    "            if H[i,j] == 1:\n",
    "                fg.set_edge(fnodes[i], vnodes[j])\n",
    "                \n",
    "    # set factor potentials \n",
    "    for fnode in fg.get_fnodes():\n",
    "        vnodes2check = [vnode for vnode in fnode.neighbors()]\n",
    "        fnode_potentials = get_factor_potentials(len(vnodes2check))\n",
    "        fnode.factor = rv.Discrete(fnode_potentials, *vnodes2check)\n",
    "        \n",
    "    return fg"
   ]
  },
  {
   "cell_type": "code",
   "execution_count": 24,
   "metadata": {},
   "outputs": [
    {
     "name": "stdout",
     "output_type": "stream",
     "text": [
      "[[1 1 1 1 0 0 0 0]\n",
      " [0 0 0 0 1 1 1 1]\n",
      " [1 0 0 1 1 1 0 0]\n",
      " [0 1 1 0 0 0 1 1]]\n"
     ]
    }
   ],
   "source": [
    "# create parity check matrix (note d_v = ones per column, d_c = ones per row)\n",
    "H = RegularH(n=8, d_v=2, d_c=4)\n",
    "print(H)\n",
    "ldpc_fg = make_ldpc_fg(H)"
   ]
  },
  {
   "cell_type": "code",
   "execution_count": 25,
   "metadata": {},
   "outputs": [],
   "source": [
    "def evaluate_potential(model, codeword):\n",
    "    p = 1\n",
    "    for f in model.get_fnodes():\n",
    "        v_checked = [int(str(v)[1:]) for v in f.neighbors()]\n",
    "        idx = tuple([codeword[i] for i in v_checked])\n",
    "        p *= f.factor.pmf[idx]\n",
    "    return p"
   ]
  },
  {
   "cell_type": "code",
   "execution_count": 26,
   "metadata": {},
   "outputs": [
    {
     "name": "stdout",
     "output_type": "stream",
     "text": [
      "Given H = [[1 1 1 1 0 0 0 0]\n",
      " [0 0 0 0 1 1 1 1]\n",
      " [1 0 0 1 1 1 0 0]\n",
      " [0 1 1 0 0 0 1 1]], this code is expected to fail parity check: [1 0 0 0 0 0 0 0]\n",
      "Prob is 0.0\n"
     ]
    }
   ],
   "source": [
    "# define invalid codewords \n",
    "invalid_code = np.array([1, 0, 0, 0, 0, 0, 0, 0]) # should fail parity check \n",
    "print(\"Given H = {}, this code is expected to fail parity check: {}\".format(H, invalid_code))\n",
    "prob = evaluate_potential(ldpc_fg, invalid_code)\n",
    "print(\"Prob is {}\".format(prob))"
   ]
  },
  {
   "cell_type": "code",
   "execution_count": 27,
   "metadata": {},
   "outputs": [
    {
     "name": "stdout",
     "output_type": "stream",
     "text": [
      "Zeros should always pass parity check: [0 0 0 0 0 0 0 0]\n",
      "Prob is 1.0\n"
     ]
    }
   ],
   "source": [
    "# zero should pass \n",
    "valid_code = np.zeros(8, dtype=int)\n",
    "print(\"Zeros should always pass parity check: {}\".format(valid_code))\n",
    "prob = evaluate_potential(ldpc_fg, valid_code)\n",
    "print(\"Prob is {}\".format(prob))"
   ]
  },
  {
   "cell_type": "markdown",
   "metadata": {},
   "source": [
    "### Part b: 128-bit LDPC"
   ]
  },
  {
   "cell_type": "code",
   "execution_count": 28,
   "metadata": {},
   "outputs": [],
   "source": [
    "def get_unary_potential(bit, err):\n",
    "    phi = np.zeros(shape=(2,))\n",
    "    phi[bit] = 1 - err \n",
    "    phi[1-bit] = err \n",
    "    return phi \n",
    "\n",
    "def set_unary_factors(fg, msg, err):\n",
    "    for vnode in fg.get_vnodes():\n",
    "        idx = int(str(vnode)[1:])\n",
    "        phi = get_unary_potential(msg[idx-1], err)\n",
    "        ufnode = nodes.FNode(\"u\" + str(idx))\n",
    "        ufnode.factor = rv.Discrete(phi, vnode)\n",
    "        fg.set_node(ufnode)\n",
    "        fg.set_edge(ufnode, vnode)\n",
    "    return fg\n",
    "\n",
    "def transmit(original, err):\n",
    "    is_flipped = np.random.rand(len(original)) < err\n",
    "    transmitted = np.where(is_flipped, 1 - original, original)\n",
    "    return transmitted"
   ]
  },
  {
   "cell_type": "code",
   "execution_count": 29,
   "metadata": {},
   "outputs": [
    {
     "data": {
      "text/plain": [
       "array([0, 0, 0, 0, 0, 0, 1, 0, 0, 0, 0, 0, 0, 0, 0, 0, 0, 1, 0, 0, 0, 0,\n",
       "       1, 0, 0, 0, 0, 0, 0, 0, 0, 0, 0, 0, 0, 0, 0, 0, 0, 0, 0, 0, 0, 0,\n",
       "       0, 0, 1, 0, 0, 0, 0, 0, 0, 0, 0, 0, 0, 0, 0, 0, 0, 0, 0, 0, 0, 0,\n",
       "       1, 1, 0, 1, 0, 1, 0, 0, 1, 0, 0, 0, 0, 0, 0, 1, 0, 0, 0, 0, 0, 0,\n",
       "       0, 0, 0, 1, 0, 0, 0, 0, 0, 0, 0, 0, 0, 1, 0, 0, 1, 0, 0, 0, 0, 1,\n",
       "       0, 0, 0, 0, 0, 0, 0, 0, 0, 0, 0, 0, 0, 1, 0, 0, 0, 0, 1, 0, 1, 0,\n",
       "       0, 0, 1, 0, 0, 0, 0, 0, 0, 0, 0, 0, 0, 0, 0, 0, 0, 0, 0, 1, 0, 0,\n",
       "       0, 1, 0, 0, 0, 0, 0, 0, 0, 0, 0, 0, 0, 0, 0, 0, 0, 0, 0, 0, 0, 1,\n",
       "       0, 0, 0, 0, 0, 0, 0, 0, 0, 0, 0, 0, 0, 0, 0, 0, 0, 0, 0, 0, 0, 0,\n",
       "       1, 0, 0, 0, 0, 1, 0, 0, 0, 0, 0, 0, 1, 1, 0, 0, 0, 0, 0, 0, 0, 0,\n",
       "       0, 0, 0, 0, 0, 1, 0, 0, 1, 0, 0, 0, 0, 0, 0, 0, 1, 0, 0, 0, 0, 0,\n",
       "       0, 0, 0, 0, 0, 0, 0, 0, 0, 0, 0, 0, 0, 0])"
      ]
     },
     "execution_count": 29,
     "metadata": {},
     "output_type": "execute_result"
    }
   ],
   "source": [
    "original_codeword = np.zeros(256, dtype=int)\n",
    "transmitted = transmit(original_codeword, err=.1)\n",
    "transmitted"
   ]
  },
  {
   "cell_type": "code",
   "execution_count": 30,
   "metadata": {},
   "outputs": [
    {
     "name": "stdout",
     "output_type": "stream",
     "text": [
      "(128, 256)\n"
     ]
    }
   ],
   "source": [
    "H1 = RegularH(n=256, d_v=4, d_c=8)\n",
    "print(H1.shape)"
   ]
  },
  {
   "cell_type": "code",
   "execution_count": 31,
   "metadata": {},
   "outputs": [
    {
     "name": "stdout",
     "output_type": "stream",
     "text": [
      "x0 [0.9382336 0.0617664]\n",
      "x1 [0.98573046 0.01426954]\n",
      "x2 [0.96560025 0.03439975]\n",
      "x3 [0.96020859 0.03979141]\n",
      "x4 [0.94906486 0.05093514]\n",
      "x5 [0.84875402 0.15124598]\n",
      "x6 [0.78713697 0.21286303]\n",
      "x7 [0.54833453 0.45166547]\n",
      "x8 [0.97351005 0.02648995]\n",
      "x9 [0.96310876 0.03689124]\n",
      "x10 [0.92652347 0.07347653]\n",
      "x11 [0.93929989 0.06070011]\n",
      "x12 [0.94835145 0.05164855]\n",
      "x13 [0.96960206 0.03039794]\n",
      "x14 [0.92530571 0.07469429]\n",
      "x15 [0.98929771 0.01070229]\n",
      "x16 [0.83992792 0.16007208]\n",
      "x17 [0.92035726 0.07964274]\n",
      "x18 [0.17738013 0.82261987]\n",
      "x19 [0.88137217 0.11862783]\n",
      "x20 [0.9528137 0.0471863]\n",
      "x21 [0.90034823 0.09965177]\n",
      "x22 [0.98608022 0.01391978]\n",
      "x23 [0.04109133 0.95890867]\n",
      "x24 [0.97208951 0.02791049]\n",
      "x25 [0.97433546 0.02566454]\n",
      "x26 [0.91045288 0.08954712]\n",
      "x27 [0.9308438 0.0691562]\n",
      "x28 [0.84146594 0.15853406]\n",
      "x29 [0.96842479 0.03157521]\n",
      "x30 [0.93399665 0.06600335]\n",
      "x31 [0.95152804 0.04847196]\n",
      "x32 [0.98273027 0.01726973]\n",
      "x33 [0.8352225 0.1647775]\n",
      "x34 [0.97479882 0.02520118]\n",
      "x35 [0.95487331 0.04512669]\n",
      "x36 [0.91677724 0.08322276]\n",
      "x37 [0.89641884 0.10358116]\n",
      "x38 [0.97105013 0.02894987]\n",
      "x39 [0.92545674 0.07454326]\n",
      "x40 [0.70717186 0.29282814]\n",
      "x41 [0.93685143 0.06314857]\n",
      "x42 [0.88851892 0.11148108]\n",
      "x43 [0.94544404 0.05455596]\n",
      "x44 [0.91845786 0.08154214]\n",
      "x45 [0.90421346 0.09578654]\n",
      "x46 [0.71524155 0.28475845]\n",
      "x47 [0.24598517 0.75401483]\n",
      "x48 [0.98679525 0.01320475]\n",
      "x49 [0.98952923 0.01047077]\n",
      "x50 [0.982874 0.017126]\n",
      "x51 [0.98544635 0.01455365]\n",
      "x52 [0.9745672 0.0254328]\n",
      "x53 [0.99568266 0.00431734]\n",
      "x54 [0.97324568 0.02675432]\n",
      "x55 [0.98711971 0.01288029]\n",
      "x56 [0.97665238 0.02334762]\n",
      "x57 [0.97632838 0.02367162]\n",
      "x58 [0.92734132 0.07265868]\n",
      "x59 [0.76995166 0.23004834]\n",
      "x60 [0.96193083 0.03806917]\n",
      "x61 [0.92260893 0.07739107]\n",
      "x62 [0.87959937 0.12040063]\n",
      "x63 [0.97587833 0.02412167]\n",
      "x64 [0.9366412 0.0633588]\n",
      "x65 [0.79000662 0.20999338]\n",
      "x66 [0.58600515 0.41399485]\n",
      "x67 [0.16515564 0.83484436]\n",
      "x68 [0.03211941 0.96788059]\n",
      "x69 [0.98910666 0.01089334]\n",
      "x70 [0.40676505 0.59323495]\n",
      "x71 [0.87199896 0.12800104]\n",
      "x72 [0.02645552 0.97354448]\n",
      "x73 [0.95754095 0.04245905]\n",
      "x74 [0.96420391 0.03579609]\n",
      "x75 [0.04057647 0.95942353]\n",
      "x76 [0.98864152 0.01135848]\n",
      "x77 [0.97008106 0.02991894]\n",
      "x78 [0.99382755 0.00617245]\n",
      "x79 [0.97073234 0.02926766]\n",
      "x80 [0.71334209 0.28665791]\n",
      "x81 [0.96766483 0.03233517]\n",
      "x82 [0.03619171 0.96380829]\n",
      "x83 [0.92552985 0.07447015]\n",
      "x84 [0.97667597 0.02332403]\n",
      "x85 [0.94983567 0.05016433]\n",
      "x86 [0.56269955 0.43730045]\n",
      "x87 [0.82423324 0.17576676]\n",
      "x88 [0.82096149 0.17903851]\n",
      "x89 [0.97421048 0.02578952]\n",
      "x90 [0.91057232 0.08942768]\n",
      "x91 [0.94839521 0.05160479]\n",
      "x92 [0.31316287 0.68683713]\n",
      "x93 [0.90611178 0.09388822]\n",
      "x94 [0.75123686 0.24876314]\n",
      "x95 [0.95791727 0.04208273]\n",
      "x96 [0.88617042 0.11382958]\n",
      "x97 [0.59506592 0.40493408]\n",
      "x98 [0.94429205 0.05570795]\n",
      "x99 [0.92094424 0.07905576]\n",
      "x100 [0.85191154 0.14808846]\n",
      "x101 [0.94066194 0.05933806]\n",
      "x102 [0.13532433 0.86467567]\n",
      "x103 [0.89051602 0.10948398]\n",
      "x104 [0.94718982 0.05281018]\n",
      "x105 [0.10146852 0.89853148]\n",
      "x106 [0.97780381 0.02219619]\n",
      "x107 [0.96222559 0.03777441]\n",
      "x108 [0.94740086 0.05259914]\n",
      "x109 [0.91218271 0.08781729]\n",
      "x110 [0.09000339 0.90999661]\n",
      "x111 [0.94321955 0.05678045]\n",
      "x112 [0.94195225 0.05804775]\n",
      "x113 [0.96126265 0.03873735]\n",
      "x114 [0.94270596 0.05729404]\n",
      "x115 [0.99175258 0.00824742]\n",
      "x116 [0.9858746 0.0141254]\n",
      "x117 [0.83053057 0.16946943]\n",
      "x118 [0.93016633 0.06983367]\n",
      "x119 [0.96711596 0.03288404]\n",
      "x120 [0.81659648 0.18340352]\n",
      "x121 [0.98507706 0.01492294]\n",
      "x122 [0.91235925 0.08764075]\n",
      "x123 [0.84552937 0.15447063]\n",
      "x124 [0.56666558 0.43333442]\n",
      "x125 [0.94172488 0.05827512]\n",
      "x126 [0.97454727 0.02545273]\n",
      "x127 [0.95756479 0.04243521]\n",
      "x128 [0.90627156 0.09372844]\n",
      "x129 [0.09548107 0.90451893]\n",
      "x130 [0.88423216 0.11576784]\n",
      "x131 [0.08646287 0.91353713]\n",
      "x132 [0.92362608 0.07637392]\n",
      "x133 [0.74739185 0.25260815]\n",
      "x134 [0.75458924 0.24541076]\n",
      "x135 [0.08986343 0.91013657]\n",
      "x136 [0.91467903 0.08532097]\n",
      "x137 [0.95800298 0.04199702]\n",
      "x138 [0.91909491 0.08090509]\n",
      "x139 [0.98850211 0.01149789]\n",
      "x140 [0.96163313 0.03836687]\n",
      "x141 [0.9766386 0.0233614]\n",
      "x142 [0.90239353 0.09760647]\n",
      "x143 [0.97128321 0.02871679]\n",
      "x144 [0.97037504 0.02962496]\n",
      "x145 [0.76779041 0.23220959]\n",
      "x146 [0.87047718 0.12952282]\n",
      "x147 [0.93651205 0.06348795]\n",
      "x148 [0.86435643 0.13564357]\n",
      "x149 [0.90376465 0.09623535]\n",
      "x150 [0.95803342 0.04196658]\n",
      "x151 [0.97436309 0.02563691]\n",
      "x152 [0.07798811 0.92201189]\n",
      "x153 [0.83489996 0.16510004]\n",
      "x154 [0.98284443 0.01715557]\n",
      "x155 [0.93530149 0.06469851]\n",
      "x156 [0.0205204 0.9794796]\n",
      "x157 [0.96454178 0.03545822]\n",
      "x158 [0.90703684 0.09296316]\n",
      "x159 [0.91914856 0.08085144]\n",
      "x160 [0.95954626 0.04045374]\n",
      "x161 [0.9636207 0.0363793]\n",
      "x162 [0.92268012 0.07731988]\n",
      "x163 [0.99521785 0.00478215]\n",
      "x164 [0.853485 0.146515]\n",
      "x165 [0.97163356 0.02836644]\n",
      "x166 [0.84340735 0.15659265]\n",
      "x167 [0.96259389 0.03740611]\n",
      "x168 [0.98822758 0.01177242]\n",
      "x169 [0.99364225 0.00635775]\n",
      "x170 [0.97010854 0.02989146]\n",
      "x171 [0.96676736 0.03323264]\n",
      "x172 [0.96564013 0.03435987]\n",
      "x173 [0.98817553 0.01182447]\n",
      "x174 [0.97631478 0.02368522]\n",
      "x175 [0.98531606 0.01468394]\n",
      "x176 [0.06566541 0.93433459]\n",
      "x177 [0.85326357 0.14673643]\n",
      "x178 [0.93678145 0.06321855]\n",
      "x179 [0.88224114 0.11775886]\n",
      "x180 [0.90673485 0.09326515]\n",
      "x181 [0.94104519 0.05895481]\n",
      "x182 [0.94084703 0.05915297]\n",
      "x183 [0.42303384 0.57696616]\n",
      "x184 [0.92140376 0.07859624]\n",
      "x185 [0.99461473 0.00538527]\n",
      "x186 [0.96271508 0.03728492]\n",
      "x187 [0.97361647 0.02638353]\n",
      "x188 [0.97097946 0.02902054]\n",
      "x189 [0.99265041 0.00734959]\n",
      "x190 [0.98779233 0.01220767]\n",
      "x191 [0.98599776 0.01400224]\n",
      "x192 [0.88183655 0.11816345]\n",
      "x193 [0.95027553 0.04972447]\n",
      "x194 [0.94900116 0.05099884]\n",
      "x195 [0.78098939 0.21901061]\n",
      "x196 [0.95676009 0.04323991]\n",
      "x197 [0.7398189 0.2601811]\n",
      "x198 [0.83994935 0.16005065]\n",
      "x199 [0.16743863 0.83256137]\n",
      "x200 [0.87535409 0.12464591]\n",
      "x201 [0.96752572 0.03247428]\n",
      "x202 [0.97524335 0.02475665]\n",
      "x203 [0.98587983 0.01412017]\n",
      "x204 [0.67600759 0.32399241]\n",
      "x205 [0.95871584 0.04128416]\n",
      "x206 [0.9649964 0.0350036]\n",
      "x207 [0.90364599 0.09635401]\n",
      "x208 [0.96865204 0.03134796]\n",
      "x209 [0.96911969 0.03088031]\n",
      "x210 [0.95275174 0.04724826]\n",
      "x211 [0.17178204 0.82821796]\n",
      "x212 [0.02215061 0.97784939]\n",
      "x213 [0.95192168 0.04807832]\n",
      "x214 [0.94316394 0.05683606]\n",
      "x215 [0.87320103 0.12679897]\n",
      "x216 [0.57474815 0.42525185]\n",
      "x217 [0.87253918 0.12746082]\n",
      "x218 [0.49569614 0.50430386]\n",
      "x219 [0.93548833 0.06451167]\n",
      "x220 [0.95272917 0.04727083]\n",
      "x221 [0.85821589 0.14178411]\n",
      "x222 [0.96421143 0.03578857]\n",
      "x223 [0.95679029 0.04320971]\n",
      "x224 [0.8163053 0.1836947]\n",
      "x225 [0.44611552 0.55388448]\n",
      "x226 [0.06424684 0.93575316]\n",
      "x227 [0.94557707 0.05442293]\n",
      "x228 [0.95930007 0.04069993]\n",
      "x229 [0.07636688 0.92363312]\n",
      "x230 [0.81921334 0.18078666]\n",
      "x231 [0.68577413 0.31422587]\n",
      "x232 [0.97681866 0.02318134]\n",
      "x233 [0.89888139 0.10111861]\n",
      "x234 [0.91503491 0.08496509]\n",
      "x235 [0.41681786 0.58318214]\n",
      "x236 [0.89530315 0.10469685]\n",
      "x237 [0.07143012 0.92856988]\n",
      "x238 [0.92147605 0.07852395]\n",
      "x239 [0.95560964 0.04439036]\n",
      "x240 [0.98514899 0.01485101]\n",
      "x241 [0.92731626 0.07268374]\n",
      "x242 [0.98490217 0.01509783]\n",
      "x243 [0.97712133 0.02287867]\n",
      "x244 [0.95602027 0.04397973]\n",
      "x245 [0.98799804 0.01200196]\n",
      "x246 [0.97489926 0.02510074]\n",
      "x247 [0.92574243 0.07425757]\n",
      "x248 [0.92553671 0.07446329]\n",
      "x249 [0.94548987 0.05451013]\n",
      "x250 [0.90844421 0.09155579]\n",
      "x251 [0.98139038 0.01860962]\n",
      "x252 [0.90474539 0.09525461]\n",
      "x253 [0.93188124 0.06811876]\n",
      "x254 [0.96427665 0.03572335]\n",
      "x255 [0.94149737 0.05850263]\n"
     ]
    }
   ],
   "source": [
    "ldpc_fg1 = make_ldpc_fg(H1)\n",
    "ldpc_fg1 = set_unary_factors(ldpc_fg1, transmitted, 0.1)\n",
    "beliefs, beliefs_history = get_beliefs(ldpc_fg1, 50)\n",
    "for (v,b) in beliefs.items():\n",
    "    print(v, b)"
   ]
  },
  {
   "cell_type": "markdown",
   "metadata": {},
   "source": [
    "### Part E "
   ]
  },
  {
   "cell_type": "code",
   "execution_count": null,
   "metadata": {},
   "outputs": [],
   "source": [
    "img = cv2.imread('binary-image.png',2)\n",
    "img = cv2.resize(img, (40, 40))\n",
    "ret, bw_img = cv2.threshold(img,127,255,cv2.THRESH_BINARY)\n",
    "#cv2.imshow(\"Binary Image\",bw_img)\n",
    "plt.imshow(bw_img)"
   ]
  },
  {
   "cell_type": "code",
   "execution_count": null,
   "metadata": {},
   "outputs": [],
   "source": [
    "img_code = (bw_img / 255).astype(int)\n",
    "img_code_flattened = img_code.flatten()\n",
    "img_code_transmitted = transmit(img_code_flattened, err=0.05)\n",
    "transmitted_reshaped = img_code_transmitted.reshape(img_code.shape)\n",
    "plt.imshow(transmitted_reshaped)"
   ]
  },
  {
   "cell_type": "code",
   "execution_count": null,
   "metadata": {},
   "outputs": [],
   "source": [
    "H2 = RegularH(n=256, d_v=64, d_c=128)\n",
    "print(H2.shape)"
   ]
  },
  {
   "cell_type": "code",
   "execution_count": null,
   "metadata": {},
   "outputs": [],
   "source": [
    "ldpc_fg2 = make_ldpc_fg(H2)"
   ]
  },
  {
   "cell_type": "code",
   "execution_count": null,
   "metadata": {},
   "outputs": [],
   "source": [
    "H2.mean()"
   ]
  },
  {
   "cell_type": "markdown",
   "metadata": {},
   "source": [
    "## Q4 - Messsage passing on a tree"
   ]
  },
  {
   "cell_type": "code",
   "execution_count": null,
   "metadata": {},
   "outputs": [],
   "source": [
    "from scipy.stats import norm"
   ]
  },
  {
   "cell_type": "code",
   "execution_count": null,
   "metadata": {},
   "outputs": [],
   "source": [
    "norm.pdf(50, loc=50, scale=np.sqrt(10))"
   ]
  },
  {
   "cell_type": "code",
   "execution_count": null,
   "metadata": {},
   "outputs": [],
   "source": [
    "norm.pdf(50, loc=60, scale=np.sqrt(10))"
   ]
  },
  {
   "cell_type": "code",
   "execution_count": null,
   "metadata": {},
   "outputs": [],
   "source": [
    "norm.pdf(60, loc=50, scale=np.sqrt(10))"
   ]
  },
  {
   "cell_type": "code",
   "execution_count": null,
   "metadata": {},
   "outputs": [],
   "source": [
    "norm.pdf(60, loc=60, scale=np.sqrt(10))"
   ]
  },
  {
   "cell_type": "code",
   "execution_count": null,
   "metadata": {},
   "outputs": [],
   "source": []
  }
 ],
 "metadata": {
  "anaconda-cloud": {},
  "celltoolbar": "Raw Cell Format",
  "kernelspec": {
   "display_name": "Python 3",
   "language": "python",
   "name": "python3"
  },
  "language_info": {
   "codemirror_mode": {
    "name": "ipython",
    "version": 3
   },
   "file_extension": ".py",
   "mimetype": "text/x-python",
   "name": "python",
   "nbconvert_exporter": "python",
   "pygments_lexer": "ipython3",
   "version": "3.6.7"
  }
 },
 "nbformat": 4,
 "nbformat_minor": 1
}
