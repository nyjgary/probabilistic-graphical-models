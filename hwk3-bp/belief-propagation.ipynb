{
 "cells": [
  {
   "cell_type": "markdown",
   "metadata": {},
   "source": [
    "# DS 1005 Hwk 3 - Belief Propagation"
   ]
  },
  {
   "cell_type": "markdown",
   "metadata": {},
   "source": [
    "## Q1 - Sum-product algorithm "
   ]
  },
  {
   "cell_type": "code",
   "execution_count": 113,
   "metadata": {},
   "outputs": [],
   "source": [
    "import numpy as np \n",
    "import networkx as nx\n",
    "from fglib import graphs, nodes, rv, inference, utils\n",
    "from itertools import product\n",
    "import matplotlib.pyplot as plt\n",
    "import cv2\n",
    "%matplotlib inline"
   ]
  },
  {
   "cell_type": "code",
   "execution_count": 2,
   "metadata": {},
   "outputs": [
    {
     "name": "stdout",
     "output_type": "stream",
     "text": [
      "[[0.2 0.3]\n",
      " [0.2 0.3]]\n",
      "(2, 2)\n",
      "[[[0.2]\n",
      "  [0.3]]\n",
      "\n",
      " [[0.2]\n",
      "  [0.3]]]\n",
      "(2, 2, 1)\n",
      "[[[0.2, 0.8], [0.25, 0.75]], [[0.7, 0.3], [0.3, 0.7]]]\n",
      "[[[0.04  0.16 ]\n",
      "  [0.075 0.225]]\n",
      "\n",
      " [[0.14  0.06 ]\n",
      "  [0.09  0.21 ]]]\n",
      "(2, 2, 2)\n",
      "[0.345 0.655]\n",
      "[[0.1725 0.1725]\n",
      " [0.4585 0.1965]]\n",
      "(2, 2)\n"
     ]
    }
   ],
   "source": [
    "dist_f3 = [0.5, 0.5]\n",
    "dist_f4 = [0.4,0.6]\n",
    "px3x4=np.outer(dist_f3,dist_f4)\n",
    "print(px3x4)\n",
    "print(px3x4.shape)\n",
    "px3x4=np.reshape(px3x4, np.shape(px3x4)+(1,))\n",
    "print(px3x4)\n",
    "print(px3x4.shape)\n",
    "px2_conditioned_x3x4=[[[0.2,0.8],\n",
    "                     [0.25,0.75],],\n",
    "                     [[0.7,0.3],\n",
    "                     [0.3,0.7]]]\n",
    "print(px2_conditioned_x3x4)\n",
    "dist_f234 =px3x4*px2_conditioned_x3x4\n",
    "print(dist_f234)\n",
    "print(dist_f234.shape)\n",
    "px2= np.sum(dist_f234, axis=(0,1))\n",
    "print(px2)\n",
    "px1_conditioned_x2 = [[0.5,0.5],\n",
    "                     [0.7,0.3]]\n",
    "dist_f12 =px2[:,np.newaxis]*px1_conditioned_x2\n",
    "print(dist_f12)\n",
    "print(dist_f12.shape)"
   ]
  },
  {
   "cell_type": "code",
   "execution_count": 3,
   "metadata": {},
   "outputs": [],
   "source": [
    "def make_debug_graph():\n",
    "\n",
    "    # Create factor graph\n",
    "    fg = graphs.FactorGraph()\n",
    "\n",
    "    # Create variable nodes\n",
    "    x1 = nodes.VNode(\"x1\", rv.Discrete)\n",
    "    x2 = nodes.VNode(\"x2\", rv.Discrete)\n",
    "    x3 = nodes.VNode(\"x3\", rv.Discrete)\n",
    "    x4 = nodes.VNode(\"x4\", rv.Discrete)\n",
    "\n",
    "    # Create factor nodes\n",
    "    f12 = nodes.FNode(\"f12\")\n",
    "    f234 = nodes.FNode(\"f234\")\n",
    "    f3 = nodes.FNode(\"f3\")\n",
    "    f4 = nodes.FNode(\"f4\")\n",
    "\n",
    "    # Add nodes to factor graph\n",
    "    fg.set_nodes([x1, x2, x3, x4])\n",
    "    fg.set_nodes([f12, f234, f3,f4 ])\n",
    "\n",
    "    # Add edges to factor graph\n",
    "    fg.set_edge(x1, f12)\n",
    "    fg.set_edge(f12, x2)\n",
    "    fg.set_edge(x2, f234)\n",
    "    fg.set_edge(f234, x3)\n",
    "    fg.set_edge(f234, x4)\n",
    "    fg.set_edge(x3, f3)\n",
    "    fg.set_edge(x4, f4)\n",
    "\n",
    "    #add potential for f_3: p(x3)\n",
    "    dist_f3 = [0.5, 0.5]\n",
    "    f3.factor = rv.Discrete(dist_f3,x3)\n",
    "    \n",
    "    #add potential for f_4: p(x4)\n",
    "    dist_f4 = [0.4,0.6]\n",
    "    f4.factor = rv.Discrete(dist_f4,x4)\n",
    "    \n",
    "    # add potential for f_{234}: p(x2, x3, x4) = p(x2|x3,x4) p(x3,x4)\n",
    "    px3x4=np.outer(dist_f3,dist_f4)\n",
    "    px3x4=np.reshape(px3x4, np.shape(px3x4)+(1,))\n",
    "    px2_conditioned_x3x4=[[[0.2,0.8],\n",
    "                         [0.25,0.75],],\n",
    "                         [[0.7,0.3],\n",
    "                         [0.3,0.7]]]\n",
    "    \n",
    "    dist_f234 =px3x4*px2_conditioned_x3x4\n",
    "    f234.factor = rv.Discrete(dist_f234,x3,x4,x2)\n",
    "   \n",
    "    # add potential for f_{12}:  p (x1,x2) = p(x1 | x2) p(x2)\n",
    "    px1_conditioned_x2 = [[0.5,0.5],\n",
    "                         [0.7,0.3]]\n",
    "    px2= np.sum(dist_f234, axis=(0,1))\n",
    "    dist_f12 =px2[:,np.newaxis]*px1_conditioned_x2\n",
    "    f12.factor = rv.Discrete(dist_f12,x2,x1)\n",
    "    # Perform sum-product algorithm on factor graph\n",
    "    # and request belief of variable node x1\n",
    "    \n",
    "    belief = inference.sum_product(fg, x1)\n",
    "    print(belief)\n",
    "    return (fg)\n"
   ]
  },
  {
   "cell_type": "markdown",
   "metadata": {},
   "source": [
    "### 1a. Implement sum-product algorithm "
   ]
  },
  {
   "cell_type": "code",
   "execution_count": 4,
   "metadata": {},
   "outputs": [],
   "source": [
    "# # numerically unstable \n",
    "\n",
    "# def get_beliefs(model, n_iter=10):\n",
    "    \n",
    "#     # initialize variable to factor messages \n",
    "#     for v in model.get_vnodes():\n",
    "#         for f in v.neighbors():\n",
    "#             initial_msg = rv.Discrete(np.ones(2,), v)\n",
    "#             model[v][f]['object'].set_message(v, f, initial_msg)\n",
    "\n",
    "#     # run parallel updates for n_iter times \n",
    "#     for i in range(n_iter):\n",
    "        \n",
    "#         # update factor-to-variable messages\n",
    "#         for f in model.get_fnodes():\n",
    "#             for v in f.neighbors():\n",
    "#                 msg = f.factor \n",
    "#                 for n in f.neighbors(exclusion=v):\n",
    "#                     msg *= model[n][f]['object'].get_message(n, f)\n",
    "#                 for n in f.neighbors(exclusion=v):\n",
    "#                     msg = msg.marginalize(n, normalize=False)\n",
    "#                 model[f][v]['object'].set_message(f, v, msg)\n",
    "                \n",
    "#         # update variable-to-factor messages \n",
    "#         for v in model.get_vnodes(): \n",
    "#             for f in v.neighbors():\n",
    "#                 msg = rv.Discrete(np.ones(2,), v)\n",
    "#                 for n in v.neighbors(exclusion=f):\n",
    "#                     msg *= model[n][v]['object'].get_message(n, v)\n",
    "#                 model[v][f]['object'].set_message(v, f, msg)\n",
    "\n",
    "#         # store beliefs of variable nodes \n",
    "#         beliefs = {}\n",
    "#         for v in model.get_vnodes():\n",
    "#             beliefs[v] = v.belief(model)\n",
    "    \n",
    "#     return beliefs"
   ]
  },
  {
   "cell_type": "code",
   "execution_count": 5,
   "metadata": {},
   "outputs": [],
   "source": [
    "def get_beliefs(model, n_iter=10):\n",
    "    \n",
    "    # initialize variable to factor messages \n",
    "    for v in model.get_vnodes():\n",
    "        for f in v.neighbors():\n",
    "            initial_msg = rv.Discrete(np.ones(2,), v)\n",
    "            model[v][f]['object'].set_message(v, f, initial_msg.normalize())\n",
    "\n",
    "    # run parallel updates for n_iter times \n",
    "    for i in range(n_iter):\n",
    "        \n",
    "        # update factor-to-variable messages\n",
    "        for f in model.get_fnodes():\n",
    "            for v in f.neighbors():\n",
    "                msg = f.factor \n",
    "                for n in f.neighbors(exclusion=v):\n",
    "                    msg *= model[n][f]['object'].get_message(n, f)\n",
    "                    msg = msg.normalize()\n",
    "                for n in f.neighbors(exclusion=v):\n",
    "                    msg = msg.marginalize(n, normalize=True)\n",
    "                model[f][v]['object'].set_message(f, v, msg.normalize())\n",
    "                \n",
    "        # update variable-to-factor messages \n",
    "        for v in model.get_vnodes(): \n",
    "            for f in v.neighbors():\n",
    "                msg = rv.Discrete(np.ones(2,), v)\n",
    "                for n in v.neighbors(exclusion=f):\n",
    "                    msg *= model[n][v]['object'].get_message(n, v)\n",
    "                    msg = msg.normalize()\n",
    "                model[v][f]['object'].set_message(v, f, msg.normalize())\n",
    "\n",
    "        # store beliefs of variable nodes \n",
    "        beliefs = {}\n",
    "        for v in model.get_vnodes():\n",
    "            belief = rv.Discrete(np.ones(2,), v)\n",
    "            for n in v.neighbors():\n",
    "                belief *= model[n][v]['object'].get_message(n, v)\n",
    "            beliefs[v] = belief.normalize()\n",
    "    \n",
    "    return beliefs"
   ]
  },
  {
   "cell_type": "code",
   "execution_count": 6,
   "metadata": {},
   "outputs": [],
   "source": [
    "# # attempt to take log, but answers don't seem correct\n",
    "\n",
    "# def get_beliefs_log(model, n_iter=10):\n",
    "    \n",
    "#     # initialize variable to factor messages \n",
    "#     for v in model.get_vnodes():\n",
    "#         for f in v.neighbors():\n",
    "#             initial_msg = rv.Discrete(np.ones(2,), v).normalize().log()\n",
    "#             model[v][f]['object'].set_message(v, f, initial_msg, logarithmic=True)\n",
    "\n",
    "#     # run parallel updates for n_iter times \n",
    "#     for i in range(n_iter):\n",
    "        \n",
    "#         # update factor-to-variable messages\n",
    "#         for f in model.get_fnodes():\n",
    "#             for v in f.neighbors():\n",
    "#                 sum_lambdas = rv.Discrete(np.zeros(2,), v)\n",
    "#                 for n in f.neighbors(exclusion=v):\n",
    "#                     sum_lambdas += model[n][f]['object'].get_message(n, f)\n",
    "#                 max_lambda = max(np.nan_to_num(sum_lambdas.pmf.flatten()))\n",
    "#                 sum_lambdas = rv.Discrete(sum_lambdas.pmf - max_lambda, v)\n",
    "#                 msg = rv.Discrete(np.exp(sum_lambdas.pmf), *sum_lambdas.dim)\n",
    "#                 msg = f.factor * msg\n",
    "#                 for n in f.neighbors(exclusion=v):\n",
    "#                     msg = msg.marginalize(n, normalize=False)\n",
    "#                 msg = msg.log()\n",
    "#                 msg = rv.Discrete(msg.pmf + max_lambda, v)\n",
    "#                 msg = msg.normalize()\n",
    "#                 model[f][v]['object'].set_message(f, v, msg, logarithmic=True)\n",
    "                \n",
    "#         # update variable-to-factor messages \n",
    "#         for v in model.get_vnodes(): \n",
    "#             for f in v.neighbors():\n",
    "#                 msg = rv.Discrete(np.zeros(2,), v)\n",
    "#                 for n in v.neighbors(exclusion=f):\n",
    "#                     msg += model[n][v]['object'].get_message(n, v)\n",
    "#                 model[v][f]['object'].set_message(v, f, msg, logarithmic=True)\n",
    "\n",
    "#         # store beliefs of variable nodes \n",
    "#         beliefs = {}\n",
    "#         for v in model.get_vnodes():\n",
    "#             log_b = v.belief(normalize=False)\n",
    "#             b = rv.Discrete(np.exp(log_b.pmf), log_b.dim).normalize()\n",
    "#             beliefs[v] = b\n",
    "    \n",
    "#     return beliefs"
   ]
  },
  {
   "cell_type": "markdown",
   "metadata": {},
   "source": [
    "### 1b. Test on 4-node factor graph provided "
   ]
  },
  {
   "cell_type": "code",
   "execution_count": 7,
   "metadata": {},
   "outputs": [
    {
     "name": "stdout",
     "output_type": "stream",
     "text": [
      "[0.65897284 0.34102716]\n",
      "Belief of variable nodes \n",
      "x1 [0.65897284 0.34102716]\n",
      "x2 [0.20513578 0.79486422]\n",
      "x3 [0.52640912 0.47359088]\n",
      "x4 [0.28679718 0.71320282]\n"
     ]
    }
   ],
   "source": [
    "fg = make_debug_graph()\n",
    "beliefs = get_beliefs(fg)\n",
    "print(\"Belief of variable nodes \")\n",
    "for (v,b) in beliefs.items():\n",
    "    print(v, b)"
   ]
  },
  {
   "cell_type": "markdown",
   "metadata": {},
   "source": [
    "## Q2 - Low-Density Priority Check (LDPC)"
   ]
  },
  {
   "cell_type": "code",
   "execution_count": 8,
   "metadata": {},
   "outputs": [],
   "source": [
    "from pyldpc import RegularH, CodingMatrixG # old version of API"
   ]
  },
  {
   "cell_type": "markdown",
   "metadata": {},
   "source": [
    "### Part a:  "
   ]
  },
  {
   "cell_type": "code",
   "execution_count": 11,
   "metadata": {},
   "outputs": [],
   "source": [
    "def get_factor_potentials(d_v): # where d_v = num of variable nodes in parity check equation \n",
    "    permutations = product([0,1], repeat=d_v)\n",
    "    phi = np.zeros([2 for i in range(d_v)])\n",
    "    for idx in permutations:\n",
    "        if sum(idx) % 2 == 0: \n",
    "            phi[idx] = 1\n",
    "        else:\n",
    "            phi[idx] = 0\n",
    "    return phi "
   ]
  },
  {
   "cell_type": "code",
   "execution_count": 12,
   "metadata": {},
   "outputs": [],
   "source": [
    "def make_ldpc_fg(H):\n",
    "    \"\"\" Given an arbitrary parity check matrix create a corresponding factor graph \"\"\"\n",
    "    \n",
    "    # initialize factor graph  \n",
    "    fg = graphs.FactorGraph()\n",
    "    \n",
    "    # infer the number of factor and variable nodes required\n",
    "    num_factors, num_variables = H.shape\n",
    "\n",
    "    # create factor nodes \n",
    "    fnodes = [] \n",
    "    for i in range(num_factors):\n",
    "        fnodes.append(nodes.FNode(\"f\" + str(i)))\n",
    "    \n",
    "    # create variable nodes \n",
    "    vnodes = [] \n",
    "    for j in range(num_variables):\n",
    "        vnodes.append(nodes.VNode(\"x\" + str(j), rv.Discrete))\n",
    "        \n",
    "    # add nodes to factor graph \n",
    "    fg.set_nodes(vnodes)\n",
    "    fg.set_nodes(fnodes)\n",
    "    \n",
    "    # add edges to factor graph based on H \n",
    "    for i in range(num_factors):\n",
    "        for j in range(num_variables):\n",
    "            if H[i,j] == 1:\n",
    "                fg.set_edge(fnodes[i], vnodes[j])\n",
    "                \n",
    "    # set factor potentials \n",
    "    for fnode in fg.get_fnodes():\n",
    "        vnodes2check = [vnode for vnode in fnode.neighbors()]\n",
    "        fnode_potentials = get_factor_potentials(len(vnodes2check))\n",
    "        fnode.factor = rv.Discrete(fnode_potentials, *vnodes2check)\n",
    "        \n",
    "    return fg"
   ]
  },
  {
   "cell_type": "code",
   "execution_count": 13,
   "metadata": {},
   "outputs": [
    {
     "name": "stdout",
     "output_type": "stream",
     "text": [
      "[[1 1 1 1 0 0 0 0]\n",
      " [0 0 0 0 1 1 1 1]\n",
      " [1 0 1 1 0 0 0 1]\n",
      " [0 1 0 0 1 1 1 0]]\n"
     ]
    }
   ],
   "source": [
    "# create parity check matrix (note d_v = ones per column, d_c = ones per row)\n",
    "H = RegularH(n=8, d_v=2, d_c=4)\n",
    "print(H)\n",
    "ldpc_fg = make_ldpc_fg(H)"
   ]
  },
  {
   "cell_type": "code",
   "execution_count": 63,
   "metadata": {},
   "outputs": [],
   "source": [
    "def evaluate_potential(model, codeword):\n",
    "    p = 1\n",
    "    for f in model.get_fnodes():\n",
    "        v_checked = [int(str(v)[1:]) for v in f.neighbors()]\n",
    "        idx = tuple([codeword[i] for i in v_checked])\n",
    "        p *= f.factor.pmf[idx]\n",
    "    return p"
   ]
  },
  {
   "cell_type": "code",
   "execution_count": 64,
   "metadata": {},
   "outputs": [
    {
     "name": "stdout",
     "output_type": "stream",
     "text": [
      "Given H = [[1 1 1 1 0 0 0 0]\n",
      " [0 0 0 0 1 1 1 1]\n",
      " [1 0 1 1 0 0 0 1]\n",
      " [0 1 0 0 1 1 1 0]], this code is expected to fail parity check: [1 0 0 0 0 0 0 0]\n",
      "Prob is 0.0\n"
     ]
    }
   ],
   "source": [
    "# define invalid codewords \n",
    "invalid_code = np.array([1, 0, 0, 0, 0, 0, 0, 0]) # should fail parity check \n",
    "print(\"Given H = {}, this code is expected to fail parity check: {}\".format(H, invalid_code))\n",
    "prob = evaluate_potential(ldpc_fg, invalid_code)\n",
    "print(\"Prob is {}\".format(prob))"
   ]
  },
  {
   "cell_type": "code",
   "execution_count": 65,
   "metadata": {},
   "outputs": [
    {
     "name": "stdout",
     "output_type": "stream",
     "text": [
      "Zeros should always pass parity check: [0 0 0 0 0 0 0 0]\n",
      "Prob is 1.0\n"
     ]
    }
   ],
   "source": [
    "# zero should pass \n",
    "valid_code = np.zeros(8, dtype=int)\n",
    "print(\"Zeros should always pass parity check: {}\".format(valid_code))\n",
    "prob = evaluate_potential(ldpc_fg, valid_code)\n",
    "print(\"Prob is {}\".format(prob))"
   ]
  },
  {
   "cell_type": "markdown",
   "metadata": {},
   "source": [
    "### Part b: 128-bit LDPC"
   ]
  },
  {
   "cell_type": "code",
   "execution_count": 85,
   "metadata": {},
   "outputs": [],
   "source": [
    "def get_unary_potential(bit, err):\n",
    "    phi = np.zeros(shape=(2,))\n",
    "    phi[bit] = 1 - err \n",
    "    phi[1-bit] = err \n",
    "    return phi \n",
    "\n",
    "def set_unary_factors(fg, msg, err):\n",
    "    for vnode in fg.get_vnodes():\n",
    "        idx = int(str(vnode)[1:])\n",
    "        phi = get_unary_potential(msg[idx-1], err)\n",
    "        ufnode = nodes.FNode(\"u\" + str(idx))\n",
    "        ufnode.factor = rv.Discrete(phi, vnode)\n",
    "        fg.set_node(ufnode)\n",
    "        fg.set_edge(ufnode, vnode)\n",
    "    return fg\n",
    "\n",
    "def transmit(original, err):\n",
    "    is_flipped = np.random.rand(len(original)) < err\n",
    "    transmitted = np.where(is_flipped, 1 - original, original)\n",
    "    return transmitted"
   ]
  },
  {
   "cell_type": "code",
   "execution_count": 101,
   "metadata": {},
   "outputs": [
    {
     "data": {
      "text/plain": [
       "array([0, 0, 0, 0, 0, 0, 0, 0, 0, 0, 1, 0, 0, 0, 0, 0, 1, 0, 0, 0, 0, 0,\n",
       "       0, 0, 0, 0, 0, 0, 1, 0, 0, 1, 0, 0, 0, 0, 0, 1, 0, 0, 0, 0, 1, 0,\n",
       "       0, 0, 0, 0, 0, 0, 0, 0, 0, 0, 0, 0, 0, 0, 0, 0, 0, 0, 0, 0, 0, 0,\n",
       "       0, 0, 0, 1, 0, 0, 0, 0, 0, 0, 0, 0, 0, 0, 0, 0, 0, 0, 0, 0, 0, 0,\n",
       "       0, 1, 0, 0, 0, 0, 0, 0, 1, 0, 0, 0, 0, 0, 0, 0, 0, 0, 1, 0, 0, 0,\n",
       "       0, 0, 0, 0, 0, 0, 0, 0, 0, 0, 0, 0, 0, 0, 0, 0, 0, 0, 0, 0, 0, 0,\n",
       "       1, 0, 0, 0, 0, 0, 0, 0, 0, 0, 0, 0, 0, 0, 0, 0, 0, 1, 0, 0, 0, 1,\n",
       "       0, 0, 0, 0, 0, 0, 0, 0, 0, 0, 0, 0, 0, 0, 0, 0, 0, 1, 0, 0, 0, 0,\n",
       "       0, 0, 0, 0, 0, 1, 1, 1, 0, 0, 0, 0, 0, 0, 0, 0, 0, 0, 0, 0, 1, 0,\n",
       "       1, 0, 0, 0, 1, 0, 1, 0, 0, 1, 0, 0, 1, 0, 0, 0, 0, 0, 0, 0, 0, 0,\n",
       "       0, 0, 1, 0, 0, 0, 0, 0, 0, 0, 0, 0, 0, 0, 0, 0, 0, 0, 0, 1, 0, 0,\n",
       "       0, 0, 0, 0, 0, 0, 1, 0, 0, 0, 0, 0, 0, 1])"
      ]
     },
     "execution_count": 101,
     "metadata": {},
     "output_type": "execute_result"
    }
   ],
   "source": [
    "original_codeword = np.zeros(256, dtype=int)\n",
    "transmitted = transmit(original_codeword, err=.1)\n",
    "transmitted"
   ]
  },
  {
   "cell_type": "code",
   "execution_count": 102,
   "metadata": {},
   "outputs": [
    {
     "name": "stdout",
     "output_type": "stream",
     "text": [
      "(128, 256)\n"
     ]
    }
   ],
   "source": [
    "H1 = RegularH(n=256, d_v=4, d_c=8)\n",
    "print(H1.shape)"
   ]
  },
  {
   "cell_type": "code",
   "execution_count": 104,
   "metadata": {},
   "outputs": [
    {
     "name": "stdout",
     "output_type": "stream",
     "text": [
      "x0 [0.23926336 0.76073664]\n",
      "x1 [0.70484963 0.29515037]\n",
      "x2 [0.92812095 0.07187905]\n",
      "x3 [0.91331186 0.08668814]\n",
      "x4 [0.78710185 0.21289815]\n",
      "x5 [0.93936156 0.06063844]\n",
      "x6 [0.94903912 0.05096088]\n",
      "x7 [0.90368456 0.09631544]\n",
      "x8 [0.86676946 0.13323054]\n",
      "x9 [0.94438684 0.05561316]\n",
      "x10 [0.91100666 0.08899334]\n",
      "x11 [0.31905433 0.68094567]\n",
      "x12 [0.87744718 0.12255282]\n",
      "x13 [0.84853342 0.15146658]\n",
      "x14 [0.88345686 0.11654314]\n",
      "x15 [0.90239909 0.09760091]\n",
      "x16 [0.87072907 0.12927093]\n",
      "x17 [0.05294376 0.94705624]\n",
      "x18 [0.89496116 0.10503884]\n",
      "x19 [0.79497796 0.20502204]\n",
      "x20 [0.91632167 0.08367833]\n",
      "x21 [0.83386147 0.16613853]\n",
      "x22 [0.70393627 0.29606373]\n",
      "x23 [0.8120391 0.1879609]\n",
      "x24 [0.79574204 0.20425796]\n",
      "x25 [0.95068243 0.04931757]\n",
      "x26 [0.97060226 0.02939774]\n",
      "x27 [0.82470667 0.17529333]\n",
      "x28 [0.68659212 0.31340788]\n",
      "x29 [0.24400617 0.75599383]\n",
      "x30 [0.80043448 0.19956552]\n",
      "x31 [0.87763218 0.12236782]\n",
      "x32 [0.15399455 0.84600545]\n",
      "x33 [0.92208812 0.07791188]\n",
      "x34 [0.97164078 0.02835922]\n",
      "x35 [0.89702881 0.10297119]\n",
      "x36 [0.84661221 0.15338779]\n",
      "x37 [0.8917405 0.1082595]\n",
      "x38 [0.10271921 0.89728079]\n",
      "x39 [0.93182332 0.06817668]\n",
      "x40 [0.85650718 0.14349282]\n",
      "x41 [0.89848744 0.10151256]\n",
      "x42 [0.92752853 0.07247147]\n",
      "x43 [0.44744207 0.55255793]\n",
      "x44 [0.91520854 0.08479146]\n",
      "x45 [0.84501953 0.15498047]\n",
      "x46 [0.89310822 0.10689178]\n",
      "x47 [0.93544577 0.06455423]\n",
      "x48 [0.96839245 0.03160755]\n",
      "x49 [0.94016372 0.05983628]\n",
      "x50 [0.91882594 0.08117406]\n",
      "x51 [0.94760408 0.05239592]\n",
      "x52 [0.94421866 0.05578134]\n",
      "x53 [0.97277792 0.02722208]\n",
      "x54 [0.94776613 0.05223387]\n",
      "x55 [0.84040173 0.15959827]\n",
      "x56 [0.9144509 0.0855491]\n",
      "x57 [0.96611422 0.03388578]\n",
      "x58 [0.9554374 0.0445626]\n",
      "x59 [0.89272789 0.10727211]\n",
      "x60 [0.95297544 0.04702456]\n",
      "x61 [0.97955491 0.02044509]\n",
      "x62 [0.91533736 0.08466264]\n",
      "x63 [0.96560919 0.03439081]\n",
      "x64 [0.78932439 0.21067561]\n",
      "x65 [0.55860209 0.44139791]\n",
      "x66 [0.94827265 0.05172735]\n",
      "x67 [0.85356929 0.14643071]\n",
      "x68 [0.94756682 0.05243318]\n",
      "x69 [0.90551126 0.09448874]\n",
      "x70 [0.0572428 0.9427572]\n",
      "x71 [0.92948871 0.07051129]\n",
      "x72 [0.93893838 0.06106162]\n",
      "x73 [0.91657373 0.08342627]\n",
      "x74 [0.94525988 0.05474012]\n",
      "x75 [0.85703897 0.14296103]\n",
      "x76 [0.90898606 0.09101394]\n",
      "x77 [0.97723213 0.02276787]\n",
      "x78 [0.78419666 0.21580334]\n",
      "x79 [0.94550802 0.05449198]\n",
      "x80 [0.97540987 0.02459013]\n",
      "x81 [0.95199057 0.04800943]\n",
      "x82 [0.92241672 0.07758328]\n",
      "x83 [0.97064249 0.02935751]\n",
      "x84 [0.95170134 0.04829866]\n",
      "x85 [0.97799437 0.02200563]\n",
      "x86 [0.96001808 0.03998192]\n",
      "x87 [0.95352179 0.04647821]\n",
      "x88 [0.83065423 0.16934577]\n",
      "x89 [0.93371518 0.06628482]\n",
      "x90 [0.29833529 0.70166471]\n",
      "x91 [0.90461043 0.09538957]\n",
      "x92 [0.86490852 0.13509148]\n",
      "x93 [0.79027826 0.20972174]\n",
      "x94 [0.86454127 0.13545873]\n",
      "x95 [0.91910112 0.08089888]\n",
      "x96 [0.87567755 0.12432245]\n",
      "x97 [0.24589541 0.75410459]\n",
      "x98 [0.82772557 0.17227443]\n",
      "x99 [0.94101413 0.05898587]\n",
      "x100 [0.88251408 0.11748592]\n",
      "x101 [0.89912143 0.10087857]\n",
      "x102 [0.85818864 0.14181136]\n",
      "x103 [0.81047315 0.18952685]\n",
      "x104 [0.80604835 0.19395165]\n",
      "x105 [0.90602273 0.09397727]\n",
      "x106 [0.79431679 0.20568321]\n",
      "x107 [0.27529446 0.72470554]\n",
      "x108 [0.87156015 0.12843985]\n",
      "x109 [0.81686093 0.18313907]\n",
      "x110 [0.93161962 0.06838038]\n",
      "x111 [0.93242748 0.06757252]\n",
      "x112 [0.92553763 0.07446237]\n",
      "x113 [0.92067829 0.07932171]\n",
      "x114 [0.92324527 0.07675473]\n",
      "x115 [0.91555908 0.08444092]\n",
      "x116 [0.95788048 0.04211952]\n",
      "x117 [0.97240721 0.02759279]\n",
      "x118 [0.92500211 0.07499789]\n",
      "x119 [0.96191698 0.03808302]\n",
      "x120 [0.96073572 0.03926428]\n",
      "x121 [0.85264436 0.14735564]\n",
      "x122 [0.83641645 0.16358355]\n",
      "x123 [0.91730681 0.08269319]\n",
      "x124 [0.95904865 0.04095135]\n",
      "x125 [0.84447279 0.15552721]\n",
      "x126 [0.94901832 0.05098168]\n",
      "x127 [0.77360373 0.22639627]\n",
      "x128 [0.91784278 0.08215722]\n",
      "x129 [0.64322467 0.35677533]\n",
      "x130 [0.83091757 0.16908243]\n",
      "x131 [0.91612384 0.08387616]\n",
      "x132 [0.94939637 0.05060363]\n",
      "x133 [0.15607253 0.84392747]\n",
      "x134 [0.91848043 0.08151957]\n",
      "x135 [0.74682217 0.25317783]\n",
      "x136 [0.76465164 0.23534836]\n",
      "x137 [0.79520551 0.20479449]\n",
      "x138 [0.92486569 0.07513431]\n",
      "x139 [0.87943889 0.12056111]\n",
      "x140 [0.85198484 0.14801516]\n",
      "x141 [0.89467458 0.10532542]\n",
      "x142 [0.94594785 0.05405215]\n",
      "x143 [0.94893384 0.05106616]\n",
      "x144 [0.92588145 0.07411855]\n",
      "x145 [0.75729263 0.24270737]\n",
      "x146 [0.87567298 0.12432702]\n",
      "x147 [0.9191375 0.0808625]\n",
      "x148 [0.91863933 0.08136067]\n",
      "x149 [0.91924934 0.08075066]\n",
      "x150 [0.48671884 0.51328116]\n",
      "x151 [0.95804609 0.04195391]\n",
      "x152 [0.95558921 0.04441079]\n",
      "x153 [0.92049858 0.07950142]\n",
      "x154 [0.43668918 0.56331082]\n",
      "x155 [0.96075856 0.03924144]\n",
      "x156 [0.86966854 0.13033146]\n",
      "x157 [0.85406497 0.14593503]\n",
      "x158 [0.82870133 0.17129867]\n",
      "x159 [0.86702479 0.13297521]\n",
      "x160 [0.96071609 0.03928391]\n",
      "x161 [0.92646792 0.07353208]\n",
      "x162 [0.96515533 0.03484467]\n",
      "x163 [0.93286136 0.06713864]\n",
      "x164 [0.94283142 0.05716858]\n",
      "x165 [0.96175297 0.03824703]\n",
      "x166 [0.97611825 0.02388175]\n",
      "x167 [0.93990362 0.06009638]\n",
      "x168 [0.82467592 0.17532408]\n",
      "x169 [0.91081641 0.08918359]\n",
      "x170 [0.91751718 0.08248282]\n",
      "x171 [0.58845547 0.41154453]\n",
      "x172 [0.12603684 0.87396316]\n",
      "x173 [0.91939098 0.08060902]\n",
      "x174 [0.90163193 0.09836807]\n",
      "x175 [0.94568009 0.05431991]\n",
      "x176 [0.96444563 0.03555437]\n",
      "x177 [0.95374913 0.04625087]\n",
      "x178 [0.94500754 0.05499246]\n",
      "x179 [0.92143758 0.07856242]\n",
      "x180 [0.96389289 0.03610711]\n",
      "x181 [0.96830696 0.03169304]\n",
      "x182 [0.05734013 0.94265987]\n",
      "x183 [0.02725555 0.97274445]\n",
      "x184 [0.16068344 0.83931656]\n",
      "x185 [0.63934917 0.36065083]\n",
      "x186 [0.91917045 0.08082955]\n",
      "x187 [0.95220592 0.04779408]\n",
      "x188 [0.70111879 0.29888121]\n",
      "x189 [0.85391569 0.14608431]\n",
      "x190 [0.96715018 0.03284982]\n",
      "x191 [0.8776405 0.1223595]\n",
      "x192 [0.95630806 0.04369194]\n",
      "x193 [0.90964357 0.09035643]\n",
      "x194 [0.92867484 0.07132516]\n",
      "x195 [0.94235587 0.05764413]\n",
      "x196 [0.95399989 0.04600011]\n",
      "x197 [0.17222523 0.82777477]\n",
      "x198 [0.92497774 0.07502226]\n",
      "x199 [0.10147401 0.89852599]\n",
      "x200 [0.97712665 0.02287335]\n",
      "x201 [0.90309937 0.09690063]\n",
      "x202 [0.96031336 0.03968664]\n",
      "x203 [0.10777995 0.89222005]\n",
      "x204 [0.9233977 0.0766023]\n",
      "x205 [0.09568001 0.90431999]\n",
      "x206 [0.92176454 0.07823546]\n",
      "x207 [0.90648526 0.09351474]\n",
      "x208 [0.06621559 0.93378441]\n",
      "x209 [0.92413818 0.07586182]\n",
      "x210 [0.94499758 0.05500242]\n",
      "x211 [0.08963315 0.91036685]\n",
      "x212 [0.91078252 0.08921748]\n",
      "x213 [0.93818673 0.06181327]\n",
      "x214 [0.92020858 0.07979142]\n",
      "x215 [0.96740178 0.03259822]\n",
      "x216 [0.90897955 0.09102045]\n",
      "x217 [0.9287527 0.0712473]\n",
      "x218 [0.87616575 0.12383425]\n",
      "x219 [0.87469088 0.12530912]\n",
      "x220 [0.87294741 0.12705259]\n",
      "x221 [0.81659032 0.18340968]\n",
      "x222 [0.78842849 0.21157151]\n",
      "x223 [0.27847947 0.72152053]\n",
      "x224 [0.8433348 0.1566652]\n",
      "x225 [0.87543519 0.12456481]\n",
      "x226 [0.92242834 0.07757166]\n",
      "x227 [0.92802105 0.07197895]\n",
      "x228 [0.8176761 0.1823239]\n",
      "x229 [0.66869772 0.33130228]\n",
      "x230 [0.89806249 0.10193751]\n",
      "x231 [0.91044784 0.08955216]\n",
      "x232 [0.89878098 0.10121902]\n",
      "x233 [0.90681016 0.09318984]\n",
      "x234 [0.98139 0.01861]\n",
      "x235 [0.83137334 0.16862666]\n",
      "x236 [0.84479263 0.15520737]\n",
      "x237 [0.95099797 0.04900203]\n",
      "x238 [0.86459535 0.13540465]\n",
      "x239 [0.92294086 0.07705914]\n",
      "x240 [0.20128943 0.79871057]\n",
      "x241 [0.82809326 0.17190674]\n",
      "x242 [0.90069108 0.09930892]\n",
      "x243 [0.94888857 0.05111143]\n",
      "x244 [0.88125806 0.11874194]\n",
      "x245 [0.77984438 0.22015562]\n",
      "x246 [0.93123876 0.06876124]\n",
      "x247 [0.84454882 0.15545118]\n",
      "x248 [0.89920212 0.10079788]\n",
      "x249 [0.08303897 0.91696103]\n",
      "x250 [0.95717122 0.04282878]\n",
      "x251 [0.85484518 0.14515482]\n",
      "x252 [0.84895386 0.15104614]\n",
      "x253 [0.86650216 0.13349784]\n",
      "x254 [0.80903078 0.19096922]\n",
      "x255 [0.7309487 0.2690513]\n"
     ]
    }
   ],
   "source": [
    "ldpc_fg1 = make_ldpc_fg(H1)\n",
    "ldpc_fg1 = set_unary_factors(ldpc_fg1, transmitted, 0.1)\n",
    "beliefs = get_beliefs(ldpc_fg1, 50)\n",
    "for (v,b) in beliefs.items():\n",
    "    print(v, b)"
   ]
  },
  {
   "cell_type": "markdown",
   "metadata": {},
   "source": [
    "### Part E "
   ]
  },
  {
   "cell_type": "code",
   "execution_count": 126,
   "metadata": {},
   "outputs": [
    {
     "data": {
      "text/plain": [
       "<matplotlib.image.AxesImage at 0xa1bbb76a0>"
      ]
     },
     "execution_count": 126,
     "metadata": {},
     "output_type": "execute_result"
    },
    {
     "data": {
      "image/png": "[encoded data removed]",
      "text/plain": [
       "<Figure size 432x288 with 1 Axes>"
      ]
     },
     "metadata": {
      "needs_background": "light"
     },
     "output_type": "display_data"
    }
   ],
   "source": [
    "img = cv2.imread('binary-image.png',2)\n",
    "img = cv2.resize(img, (40, 40))\n",
    "ret, bw_img = cv2.threshold(img,127,255,cv2.THRESH_BINARY)\n",
    "#cv2.imshow(\"Binary Image\",bw_img)\n",
    "plt.imshow(bw_img)"
   ]
  },
  {
   "cell_type": "code",
   "execution_count": 137,
   "metadata": {},
   "outputs": [
    {
     "data": {
      "text/plain": [
       "<matplotlib.image.AxesImage at 0xa2020a358>"
      ]
     },
     "execution_count": 137,
     "metadata": {},
     "output_type": "execute_result"
    },
    {
     "data": {
      "image/png": "[encoded data removed]",
      "text/plain": [
       "<Figure size 432x288 with 1 Axes>"
      ]
     },
     "metadata": {
      "needs_background": "light"
     },
     "output_type": "display_data"
    }
   ],
   "source": [
    "img_code = (bw_img / 255).astype(int)\n",
    "img_code_flattened = img_code.flatten()\n",
    "img_code_transmitted = transmit(img_code_flattened, err=0.05)\n",
    "transmitted_reshaped = img_code_transmitted.reshape(img_code.shape)\n",
    "plt.imshow(transmitted_reshaped)"
   ]
  },
  {
   "cell_type": "markdown",
   "metadata": {},
   "source": [
    "## Q4 - Messsage passing on a tree"
   ]
  },
  {
   "cell_type": "code",
   "execution_count": null,
   "metadata": {},
   "outputs": [],
   "source": [
    "from scipy.stats import norm"
   ]
  },
  {
   "cell_type": "code",
   "execution_count": null,
   "metadata": {},
   "outputs": [],
   "source": [
    "norm.pdf(50, loc=50, scale=np.sqrt(10))"
   ]
  },
  {
   "cell_type": "code",
   "execution_count": null,
   "metadata": {},
   "outputs": [],
   "source": [
    "norm.pdf(50, loc=60, scale=np.sqrt(10))"
   ]
  },
  {
   "cell_type": "code",
   "execution_count": null,
   "metadata": {},
   "outputs": [],
   "source": [
    "norm.pdf(60, loc=50, scale=np.sqrt(10))"
   ]
  },
  {
   "cell_type": "code",
   "execution_count": null,
   "metadata": {},
   "outputs": [],
   "source": [
    "norm.pdf(60, loc=60, scale=np.sqrt(10))"
   ]
  },
  {
   "cell_type": "code",
   "execution_count": null,
   "metadata": {},
   "outputs": [],
   "source": []
  }
 ],
 "metadata": {
  "anaconda-cloud": {},
  "celltoolbar": "Raw Cell Format",
  "kernelspec": {
   "display_name": "Python 3",
   "language": "python",
   "name": "python3"
  },
  "language_info": {
   "codemirror_mode": {
    "name": "ipython",
    "version": 3
   },
   "file_extension": ".py",
   "mimetype": "text/x-python",
   "name": "python",
   "nbconvert_exporter": "python",
   "pygments_lexer": "ipython3",
   "version": "3.6.7"
  }
 },
 "nbformat": 4,
 "nbformat_minor": 1
}
