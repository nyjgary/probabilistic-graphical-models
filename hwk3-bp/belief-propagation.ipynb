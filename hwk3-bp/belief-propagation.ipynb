{
 "cells": [
  {
   "cell_type": "markdown",
   "metadata": {},
   "source": [
    "# DS 1005 Hwk 3 - Belief Propagation"
   ]
  },
  {
   "cell_type": "markdown",
   "metadata": {},
   "source": [
    "## Q1 - Sum-product algorithm "
   ]
  },
  {
   "cell_type": "code",
   "execution_count": 46,
   "metadata": {},
   "outputs": [],
   "source": [
    "import numpy as np \n",
    "import pandas as pd\n",
    "import networkx as nx\n",
    "from fglib import graphs, nodes, rv, inference, utils\n",
    "from pyldpc import RegularH # from old version of API \n",
    "from pyldpc_latest import coding_matrix_systematic # from new version of API \n",
    "from itertools import product\n",
    "import matplotlib.pyplot as plt\n",
    "import cv2\n",
    "import math\n",
    "%matplotlib inline"
   ]
  },
  {
   "cell_type": "code",
   "execution_count": 2,
   "metadata": {},
   "outputs": [
    {
     "name": "stdout",
     "output_type": "stream",
     "text": [
      "[[0.2 0.3]\n",
      " [0.2 0.3]]\n",
      "(2, 2)\n",
      "[[[0.2]\n",
      "  [0.3]]\n",
      "\n",
      " [[0.2]\n",
      "  [0.3]]]\n",
      "(2, 2, 1)\n",
      "[[[0.2, 0.8], [0.25, 0.75]], [[0.7, 0.3], [0.3, 0.7]]]\n",
      "[[[0.04  0.16 ]\n",
      "  [0.075 0.225]]\n",
      "\n",
      " [[0.14  0.06 ]\n",
      "  [0.09  0.21 ]]]\n",
      "(2, 2, 2)\n",
      "[0.345 0.655]\n",
      "[[0.1725 0.1725]\n",
      " [0.4585 0.1965]]\n",
      "(2, 2)\n"
     ]
    }
   ],
   "source": [
    "dist_f3 = [0.5, 0.5]\n",
    "dist_f4 = [0.4,0.6]\n",
    "px3x4=np.outer(dist_f3,dist_f4)\n",
    "print(px3x4)\n",
    "print(px3x4.shape)\n",
    "px3x4=np.reshape(px3x4, np.shape(px3x4)+(1,))\n",
    "print(px3x4)\n",
    "print(px3x4.shape)\n",
    "px2_conditioned_x3x4=[[[0.2,0.8],\n",
    "                     [0.25,0.75],],\n",
    "                     [[0.7,0.3],\n",
    "                     [0.3,0.7]]]\n",
    "print(px2_conditioned_x3x4)\n",
    "dist_f234 =px3x4*px2_conditioned_x3x4\n",
    "print(dist_f234)\n",
    "print(dist_f234.shape)\n",
    "px2= np.sum(dist_f234, axis=(0,1))\n",
    "print(px2)\n",
    "px1_conditioned_x2 = [[0.5,0.5],\n",
    "                     [0.7,0.3]]\n",
    "dist_f12 =px2[:,np.newaxis]*px1_conditioned_x2\n",
    "print(dist_f12)\n",
    "print(dist_f12.shape)"
   ]
  },
  {
   "cell_type": "code",
   "execution_count": 3,
   "metadata": {},
   "outputs": [],
   "source": [
    "def make_debug_graph():\n",
    "\n",
    "    # Create factor graph\n",
    "    fg = graphs.FactorGraph()\n",
    "\n",
    "    # Create variable nodes\n",
    "    x1 = nodes.VNode(\"x1\", rv.Discrete)\n",
    "    x2 = nodes.VNode(\"x2\", rv.Discrete)\n",
    "    x3 = nodes.VNode(\"x3\", rv.Discrete)\n",
    "    x4 = nodes.VNode(\"x4\", rv.Discrete)\n",
    "\n",
    "    # Create factor nodes\n",
    "    f12 = nodes.FNode(\"f12\")\n",
    "    f234 = nodes.FNode(\"f234\")\n",
    "    f3 = nodes.FNode(\"f3\")\n",
    "    f4 = nodes.FNode(\"f4\")\n",
    "\n",
    "    # Add nodes to factor graph\n",
    "    fg.set_nodes([x1, x2, x3, x4])\n",
    "    fg.set_nodes([f12, f234, f3,f4 ])\n",
    "\n",
    "    # Add edges to factor graph\n",
    "    fg.set_edge(x1, f12)\n",
    "    fg.set_edge(f12, x2)\n",
    "    fg.set_edge(x2, f234)\n",
    "    fg.set_edge(f234, x3)\n",
    "    fg.set_edge(f234, x4)\n",
    "    fg.set_edge(x3, f3)\n",
    "    fg.set_edge(x4, f4)\n",
    "\n",
    "    #add potential for f_3: p(x3)\n",
    "    dist_f3 = [0.5, 0.5]\n",
    "    f3.factor = rv.Discrete(dist_f3,x3)\n",
    "    \n",
    "    #add potential for f_4: p(x4)\n",
    "    dist_f4 = [0.4,0.6]\n",
    "    f4.factor = rv.Discrete(dist_f4,x4)\n",
    "    \n",
    "    # add potential for f_{234}: p(x2, x3, x4) = p(x2|x3,x4) p(x3,x4)\n",
    "    px3x4=np.outer(dist_f3,dist_f4)\n",
    "    px3x4=np.reshape(px3x4, np.shape(px3x4)+(1,))\n",
    "    px2_conditioned_x3x4=[[[0.2,0.8],\n",
    "                         [0.25,0.75],],\n",
    "                         [[0.7,0.3],\n",
    "                         [0.3,0.7]]]\n",
    "    \n",
    "    dist_f234 =px3x4*px2_conditioned_x3x4\n",
    "    f234.factor = rv.Discrete(dist_f234,x3,x4,x2)\n",
    "   \n",
    "    # add potential for f_{12}:  p (x1,x2) = p(x1 | x2) p(x2)\n",
    "    px1_conditioned_x2 = [[0.5,0.5],\n",
    "                         [0.7,0.3]]\n",
    "    px2= np.sum(dist_f234, axis=(0,1))\n",
    "    dist_f12 =px2[:,np.newaxis]*px1_conditioned_x2\n",
    "    f12.factor = rv.Discrete(dist_f12,x2,x1)\n",
    "    # Perform sum-product algorithm on factor graph\n",
    "    # and request belief of variable node x1\n",
    "    \n",
    "    belief = inference.sum_product(fg, x1)\n",
    "    print(belief)\n",
    "    return (fg)\n"
   ]
  },
  {
   "cell_type": "markdown",
   "metadata": {},
   "source": [
    "### 1a. Implement sum-product algorithm "
   ]
  },
  {
   "cell_type": "code",
   "execution_count": 4,
   "metadata": {},
   "outputs": [],
   "source": [
    "def get_beliefs_at_iter(beliefs_hist, iter_num):\n",
    "    \n",
    "    \"\"\" Retrieves beliefs at a given iteration. \n",
    "    \n",
    "    Parameters\n",
    "    ----------\n",
    "    beliefs_hist: dict\n",
    "        A log of beliefs after each iteration of loopy belief propagation, represented by {k:v} where k is \n",
    "        iteration number and v is a nested dictionary representing beliefs at that iteration \n",
    "    iter_num: int\n",
    "        Iteration number at which to retrieve beliefs \n",
    "        \n",
    "    Returns\n",
    "    -------\n",
    "    beliefs_at_iter: dict \n",
    "        A dictionary of beliefs at iter_num {k1:v1}, where k1 is variable node and v1 is the node's beliefs,\n",
    "        represented by their probability mass functions \n",
    "    \"\"\"\n",
    "    \n",
    "    beliefs_at_iter = {}\n",
    "    for v in beliefs_hist: \n",
    "        beliefs_at_iter[v] = beliefs_hist[v][iter_num]\n",
    "    return beliefs_at_iter \n",
    "\n",
    "def get_beliefs(model, n_iter=10):\n",
    "    \n",
    "    \"\"\" Runs loopy belief propagation (sum-product) algorithm through a factor graph model \n",
    "    \n",
    "    Parameters\n",
    "    ----------\n",
    "    model: object \n",
    "        An instance of FactorGraph class in fglib library. \n",
    "    n_iter: int\n",
    "        Number of iterations to run loopy belief propagation \n",
    "        \n",
    "    Returns\n",
    "    -------\n",
    "    beliefs: dict    \n",
    "        A dictionary of beliefs after the last iteration of loopy belief propagation \n",
    "    \n",
    "    beliefs_hist: dict of dicts \n",
    "        A log of beliefs after each iteration of loopy belief propagation, represented by {k:v} where k is \n",
    "        iteration number and v is a nested dictionary representing beliefs at that iteration \n",
    "\n",
    "    \"\"\"\n",
    "    \n",
    "    beliefs_hist = {v:[] for v in model.get_vnodes()}\n",
    "    \n",
    "    # initialize variable to factor messages \n",
    "    for v in model.get_vnodes():\n",
    "        for f in v.neighbors():\n",
    "            initial_msg = rv.Discrete(np.ones(2,), v)\n",
    "            model[v][f]['object'].set_message(v, f, initial_msg.normalize())\n",
    "\n",
    "    # run parallel updates for n_iter times \n",
    "    for i in range(n_iter):\n",
    "        \n",
    "        # update factor-to-variable messages\n",
    "        for f in model.get_fnodes():\n",
    "            for v in f.neighbors():\n",
    "                msg = f.factor \n",
    "                for n in f.neighbors(exclusion=v):\n",
    "                    msg *= model[n][f]['object'].get_message(n, f)\n",
    "                    msg = msg.normalize()\n",
    "                for n in f.neighbors(exclusion=v):\n",
    "                    msg = msg.marginalize(n, normalize=True)\n",
    "                model[f][v]['object'].set_message(f, v, msg.normalize())\n",
    "                \n",
    "        # update variable-to-factor messages \n",
    "        for v in model.get_vnodes(): \n",
    "            for f in v.neighbors():\n",
    "                msg = rv.Discrete(np.ones(2,), v)\n",
    "                for n in v.neighbors(exclusion=f):\n",
    "                    msg *= model[n][v]['object'].get_message(n, v)\n",
    "                    msg = msg.normalize()\n",
    "                model[v][f]['object'].set_message(v, f, msg.normalize())\n",
    "\n",
    "        # store beliefs of variable nodes \n",
    "        for v in model.get_vnodes():\n",
    "            belief = rv.Discrete(np.ones(2,), v)\n",
    "            for n in v.neighbors():\n",
    "                belief *= model[n][v]['object'].get_message(n, v)\n",
    "            beliefs_hist[v].append(belief.normalize())\n",
    "            \n",
    "    beliefs = get_beliefs_at_iter(beliefs_hist, n_iter-1)\n",
    "    \n",
    "    return beliefs, beliefs_hist\n",
    "\n",
    "def print_beliefs(beliefs):\n",
    "    \n",
    "    \"\"\" Print out beliefs at each variable node \n",
    "    \n",
    "    Parameters\n",
    "    ----------\n",
    "    beliefs: dict \n",
    "        A dictionary of beliefs represented by {k:v}, where k is a variable node and v its corresponding PMF  \n",
    "        \n",
    "    Returns\n",
    "    -------\n",
    "    None. Prints out beliefs, one line per variable node.  \n",
    "    \"\"\"\n",
    "    \n",
    "    for (v,b) in beliefs.items():\n",
    "        print(v, b)"
   ]
  },
  {
   "cell_type": "markdown",
   "metadata": {},
   "source": [
    "### 1b. Test on 4-node factor graph provided "
   ]
  },
  {
   "cell_type": "code",
   "execution_count": 5,
   "metadata": {},
   "outputs": [
    {
     "name": "stdout",
     "output_type": "stream",
     "text": [
      "[0.65897284 0.34102716]\n",
      "x1 [0.65897284 0.34102716]\n",
      "x2 [0.20513578 0.79486422]\n",
      "x3 [0.52640912 0.47359088]\n",
      "x4 [0.28679718 0.71320282]\n"
     ]
    }
   ],
   "source": [
    "fg = make_debug_graph()\n",
    "beliefs, _ = get_beliefs(fg)\n",
    "print_beliefs(beliefs)"
   ]
  },
  {
   "cell_type": "markdown",
   "metadata": {},
   "source": [
    "## Q2 - Low-Density Priority Check (LDPC)"
   ]
  },
  {
   "cell_type": "markdown",
   "metadata": {},
   "source": [
    "### Part a:  "
   ]
  },
  {
   "cell_type": "code",
   "execution_count": 6,
   "metadata": {},
   "outputs": [],
   "source": [
    "def get_factor_potentials(d_v): # where d_v = num of variable nodes in parity check equation \n",
    "    \"\"\" Build N-dimensional factor potential to represent a parity check equation  \n",
    "\n",
    "    Parameters\n",
    "    ----------\n",
    "    d_v: int \n",
    "        Number of dimensions in factor potential, aka # of variable nodes per partiy check equation \n",
    "        \n",
    "    Returns\n",
    "    -------\n",
    "    phi: np.array\n",
    "        N-dimentional factor potential representing the parity check equation. Indices of array represent possible\n",
    "        permutations of binary values {0,1} across dimensions, and phi=1 iff sum of indices is divisible by 2 \n",
    "        (i.e. passes parity check), and phi=0 otherwise (i.e. fails parity check)\n",
    "    \"\"\"\n",
    "    \n",
    "    permutations = product([0,1], repeat=d_v)\n",
    "    phi = np.zeros([2 for i in range(d_v)])\n",
    "    for idx in permutations:\n",
    "        if sum(idx) % 2 == 0: \n",
    "            phi[idx] = 1\n",
    "        else:\n",
    "            phi[idx] = 0\n",
    "    return phi "
   ]
  },
  {
   "cell_type": "code",
   "execution_count": 7,
   "metadata": {},
   "outputs": [],
   "source": [
    "def make_ldpc_fg(H):\n",
    "    \"\"\" Given an arbitrary parity check matrix create a corresponding factor graph \n",
    "    \n",
    "    Parameters\n",
    "    ----------\n",
    "    H: np.array\n",
    "        MxN parity check matrix where M = # of parity check equations and N = # of variable nodes \n",
    "        \n",
    "    Returns\n",
    "    -------\n",
    "    fg: object \n",
    "        An instantiation of the FactorGraph class in fglib library, representing the LDPC graph that will \n",
    "        be used for decoding messages         \n",
    "    \"\"\"\n",
    "    \n",
    "    # initialize factor graph  \n",
    "    fg = graphs.FactorGraph()\n",
    "    \n",
    "    # infer the number of factor and variable nodes required\n",
    "    num_factors, num_variables = H.shape\n",
    "\n",
    "    # create factor nodes \n",
    "    fnodes = [] \n",
    "    for i in range(num_factors):\n",
    "        fnodes.append(nodes.FNode(\"f\" + str(i)))\n",
    "    \n",
    "    # create variable nodes \n",
    "    vnodes = [] \n",
    "    for j in range(num_variables):\n",
    "        vnodes.append(nodes.VNode(\"x\" + str(j), rv.Discrete))\n",
    "        \n",
    "    # add nodes to factor graph \n",
    "    fg.set_nodes(vnodes)\n",
    "    fg.set_nodes(fnodes)\n",
    "    \n",
    "    # add edges to factor graph based on H \n",
    "    for i in range(num_factors):\n",
    "        for j in range(num_variables):\n",
    "            if H[i,j] == 1:\n",
    "                fg.set_edge(fnodes[i], vnodes[j])\n",
    "                \n",
    "    # set factor potentials \n",
    "    for fnode in fg.get_fnodes():\n",
    "        vnodes2check = [vnode for vnode in fnode.neighbors()]\n",
    "        fnode_potentials = get_factor_potentials(len(vnodes2check))\n",
    "        fnode.factor = rv.Discrete(fnode_potentials, *vnodes2check)\n",
    "        \n",
    "    return fg"
   ]
  },
  {
   "cell_type": "code",
   "execution_count": 8,
   "metadata": {},
   "outputs": [],
   "source": [
    "def evaluate_prob(model, codeword):\n",
    "    \"\"\" Evaluate the unnormalized probability of a given codeword under a LDPC graphical model \n",
    "\n",
    "    Parameters\n",
    "    ----------\n",
    "    model: object\n",
    "        MxN parity check matrix where M = # of parity check equations and N = # of variable nodes \n",
    "    codeword: np.array\n",
    "        Message represented by an array of binary values to be evaluated\n",
    "        \n",
    "    Returns\n",
    "    -------\n",
    "    prob: float \n",
    "        Unnormalized probability of a given codeword under the LDPC graphical model \n",
    "        In our use case, this evaluates to 0 if the codeword fails parity checks, and 1 if it passes \n",
    "    \"\"\"\n",
    "    \n",
    "    prob = 1\n",
    "    for f in model.get_fnodes():\n",
    "        v_checked = [int(str(v)[1:]) for v in f.neighbors()]\n",
    "        idx = tuple([codeword[i] for i in v_checked])\n",
    "        prob *= f.factor.pmf[idx]\n",
    "    return prob"
   ]
  },
  {
   "cell_type": "code",
   "execution_count": 9,
   "metadata": {},
   "outputs": [
    {
     "name": "stdout",
     "output_type": "stream",
     "text": [
      "[[1 1 1 1 0 0 0 0]\n",
      " [0 0 0 0 1 1 1 1]\n",
      " [0 1 1 0 0 1 0 1]\n",
      " [1 0 0 1 1 0 1 0]]\n"
     ]
    }
   ],
   "source": [
    "# create parity check matrix (note d_v = ones per column, d_c = ones per row)\n",
    "H = RegularH(n=8, d_v=2, d_c=4)\n",
    "print(H)\n",
    "ldpc_fg = make_ldpc_fg(H)"
   ]
  },
  {
   "cell_type": "code",
   "execution_count": 10,
   "metadata": {},
   "outputs": [
    {
     "name": "stdout",
     "output_type": "stream",
     "text": [
      "Given H = [[1 1 1 1 0 0 0 0]\n",
      " [0 0 0 0 1 1 1 1]\n",
      " [0 1 1 0 0 1 0 1]\n",
      " [1 0 0 1 1 0 1 0]], this code is expected to fail parity check: [1 0 0 0 0 0 0 0]\n",
      "Prob is 0.0\n"
     ]
    }
   ],
   "source": [
    "# define invalid codewords \n",
    "invalid_code = np.array([1, 0, 0, 0, 0, 0, 0, 0]) # should fail parity check \n",
    "print(\"Given H = {}, this code is expected to fail parity check: {}\".format(H, invalid_code))\n",
    "prob = evaluate_prob(ldpc_fg, invalid_code)\n",
    "print(\"Prob is {}\".format(prob))"
   ]
  },
  {
   "cell_type": "code",
   "execution_count": 11,
   "metadata": {},
   "outputs": [
    {
     "name": "stdout",
     "output_type": "stream",
     "text": [
      "Zeros should always pass parity check: [0 0 0 0 0 0 0 0]\n",
      "Prob is 1.0\n"
     ]
    }
   ],
   "source": [
    "# zero should pass \n",
    "valid_code = np.zeros(8, dtype=int)\n",
    "print(\"Zeros should always pass parity check: {}\".format(valid_code))\n",
    "prob = evaluate_prob(ldpc_fg, valid_code)\n",
    "print(\"Prob is {}\".format(prob))"
   ]
  },
  {
   "cell_type": "markdown",
   "metadata": {},
   "source": [
    "### Part b: 128-bit LDPC"
   ]
  },
  {
   "cell_type": "code",
   "execution_count": 97,
   "metadata": {},
   "outputs": [],
   "source": [
    "def get_unary_potential(obs, err):\n",
    "    \"\"\" Build unary potential of a variable node based on observed data\n",
    "    \n",
    "    Parameters\n",
    "    ----------\n",
    "    obs: int\n",
    "        Observed bit (either 0 or 1) at variable node of interest \n",
    "    err: float\n",
    "        Assumed error rate of the binary symmetric channel  \n",
    "        \n",
    "    Returns\n",
    "    -------\n",
    "    phi: np.array\n",
    "        Unary potential of the variable node, represented by an array of two values, which are the respective\n",
    "        probabilities that the node might take on value of 0 vs. 1, given the observation and error rate  \n",
    "    \"\"\"\n",
    "    \n",
    "    phi = np.zeros(shape=(2,))\n",
    "    phi[obs] = 1 - err \n",
    "    phi[1-obs] = err \n",
    "    return phi \n",
    "\n",
    "def set_unary_factors(fg, msg, err):\n",
    "    \"\"\" Adds unary factors to a LDPC factor graph \n",
    "\n",
    "    Parameters\n",
    "    ----------\n",
    "    fg: object\n",
    "        An instantiation of the FactorGraph class in fglib library, representing the LDPC graphical model \n",
    "        *before* unary factors are added \n",
    "    msg: np.array\n",
    "        Message received, represented by an array of binary values \n",
    "    err: float \n",
    "        Assumed error rate of the binary symmetric channel  \n",
    "        \n",
    "    Returns\n",
    "    -------\n",
    "    fg: object \n",
    "        An instantiation of the FactorGraph class in fglib library, representing the LDPC graphical model \n",
    "        *after* unary factors are added \n",
    "    \"\"\"\n",
    "    \n",
    "    for vnode in fg.get_vnodes():\n",
    "        idx = int(str(vnode)[1:])\n",
    "        phi = get_unary_potential(msg[idx-1], err)\n",
    "        ufnode = nodes.FNode(\"u\" + str(idx))\n",
    "        ufnode.factor = rv.Discrete(phi, vnode)\n",
    "        fg.set_node(ufnode)\n",
    "        fg.set_edge(ufnode, vnode)\n",
    "    return fg\n",
    "\n",
    "def add_noise(original, err):\n",
    "    \"\"\" Adds noise to simulate output of a binary symmetric channel  \n",
    "    \n",
    "    Parameters\n",
    "    ----------\n",
    "    original: np.array\n",
    "        Original message transmitted, represented by an array of binary bits  \n",
    "    err: float \n",
    "        Assumed error rate of the binary symmetric channel  \n",
    "        \n",
    "    Returns\n",
    "    -------\n",
    "    received: np.array \n",
    "        Message received as output of binary symmetric channel, i.e. after error was introduced \n",
    "    \"\"\"\n",
    "    \n",
    "    is_flipped = np.random.rand(len(original)) < err\n",
    "    received = np.where(is_flipped, 1 - original, original)\n",
    "    return received\n",
    "\n",
    "def decode_msg(beliefs):\n",
    "\n",
    "    \"\"\" Decodes message by setting each bit to the maximum of posterior marginal beliefs \n",
    "    \n",
    "    Parameters\n",
    "    ----------\n",
    "    beliefs: dict\n",
    "        A dictionary of beliefs represented by {k:v}, where k is a variable node and v its corresponding PMF  \n",
    "        \n",
    "    Returns\n",
    "    -------\n",
    "    decoded: np.array \n",
    "        Decoded message \n",
    "    \"\"\"\n",
    "    \n",
    "    decoded = np.zeros(len(beliefs))\n",
    "    for v in beliefs:\n",
    "        pos = int(str(v)[1:]) \n",
    "        decoded[pos] = np.asscalar(np.argmax(beliefs[v].pmf))\n",
    "    return decoded \n",
    "\n",
    "def hamming_dist(source, decoded):\n",
    "    \n",
    "    \"\"\" Computes hamming instance between the source message and decoded message \n",
    "    \n",
    "    Parameters\n",
    "    ----------\n",
    "    source: np.array\n",
    "        Source message, represented an array of binary bits \n",
    "    decoded: np.array\n",
    "        Decoded message, represented an array of binary bits          \n",
    "        \n",
    "    Returns\n",
    "    -------\n",
    "    hdist: int \n",
    "        Hamming distance between source and decoded messages, defined as number of differing bits \n",
    "    \"\"\"\n",
    "    \n",
    "    return np.sum(source != decoded)"
   ]
  },
  {
   "cell_type": "code",
   "execution_count": 98,
   "metadata": {},
   "outputs": [],
   "source": [
    "def run_experiment(source, err, n_iter, d_v=4, d_c=8):\n",
    "    \n",
    "    \"\"\" Simulate transmission of a source message through a binary symmetric channel then \n",
    "        run loopy belief propagation to decode the received message \n",
    "        \n",
    "    Parameters\n",
    "    ----------\n",
    "    source: np.array\n",
    "        Source message, represented an array of binary bits \n",
    "    err: float \n",
    "        Assumed error rate of the binary symmetric channel  \n",
    "    n_iter: int\n",
    "        Number of iterations to run loopy belief propagation \n",
    "    d_v: int (default 4)\n",
    "        Number of variable nodes checked in each parity check equation \n",
    "    d_c: int (default 8)\n",
    "        Number of parity check equations \n",
    "        \n",
    "    Returns\n",
    "    -------\n",
    "    hdist: int \n",
    "        Hamming distance between source and decoded messages, defined as number of differing bits \n",
    "    beliefs: dict    \n",
    "        A dictionary of beliefs after the last iteration of loopy belief propagation \n",
    "    beliefs_hist: dict of dicts \n",
    "        A log of beliefs after each iteration of loopy belief propagation, represented by {k:v} where k is \n",
    "        iteration number and v is a nested dictionary representing beliefs at that iteration \n",
    "    decoded: np.array\n",
    "        Decoded message, represented an array of binary bits          \n",
    "    \"\"\"\n",
    "    \n",
    "    # add noise to msg transmitted \n",
    "    received = add_noise(source, err)\n",
    "    \n",
    "    # create factor graph model used to decode message (SHOULD THIS BE REFACTORED?)\n",
    "    H = RegularH(len(source), d_v, d_c)\n",
    "    ldpc_fg = make_ldpc_fg(H)\n",
    "    ldpc_fg = set_unary_factors(ldpc_fg, received, err)\n",
    "    \n",
    "    # run loopy belief propagation \n",
    "    beliefs, beliefs_hist = get_beliefs(ldpc_fg, n_iter)\n",
    "    \n",
    "    # decode message and compute distance \n",
    "    decoded = decode_msg(beliefs)\n",
    "    hdist = hamming_dist(source, decoded)\n",
    "    \n",
    "    return hdist, beliefs, beliefs_hist, decoded"
   ]
  },
  {
   "cell_type": "code",
   "execution_count": 14,
   "metadata": {},
   "outputs": [],
   "source": [
    "source = np.zeros(256, dtype=int)\n",
    "hdist, beliefs, beliefs_hist, decoded = run_experiment(source, .05, 50)"
   ]
  },
  {
   "cell_type": "code",
   "execution_count": 15,
   "metadata": {},
   "outputs": [
    {
     "data": {
      "text/plain": [
       "0"
      ]
     },
     "execution_count": 15,
     "metadata": {},
     "output_type": "execute_result"
    }
   ],
   "source": [
    "hdist"
   ]
  },
  {
   "cell_type": "code",
   "execution_count": 16,
   "metadata": {},
   "outputs": [
    {
     "data": {
      "text/plain": [
       "array([0., 0., 0., 0., 0., 0., 0., 0., 0., 0., 0., 0., 0., 0., 0., 0., 0.,\n",
       "       0., 0., 0., 0., 0., 0., 0., 0., 0., 0., 0., 0., 0., 0., 0., 0., 0.,\n",
       "       0., 0., 0., 0., 0., 0., 0., 0., 0., 0., 0., 0., 0., 0., 0., 0., 0.,\n",
       "       0., 0., 0., 0., 0., 0., 0., 0., 0., 0., 0., 0., 0., 0., 0., 0., 0.,\n",
       "       0., 0., 0., 0., 0., 0., 0., 0., 0., 0., 0., 0., 0., 0., 0., 0., 0.,\n",
       "       0., 0., 0., 0., 0., 0., 0., 0., 0., 0., 0., 0., 0., 0., 0., 0., 0.,\n",
       "       0., 0., 0., 0., 0., 0., 0., 0., 0., 0., 0., 0., 0., 0., 0., 0., 0.,\n",
       "       0., 0., 0., 0., 0., 0., 0., 0., 0., 0., 0., 0., 0., 0., 0., 0., 0.,\n",
       "       0., 0., 0., 0., 0., 0., 0., 0., 0., 0., 0., 0., 0., 0., 0., 0., 0.,\n",
       "       0., 0., 0., 0., 0., 0., 0., 0., 0., 0., 0., 0., 0., 0., 0., 0., 0.,\n",
       "       0., 0., 0., 0., 0., 0., 0., 0., 0., 0., 0., 0., 0., 0., 0., 0., 0.,\n",
       "       0., 0., 0., 0., 0., 0., 0., 0., 0., 0., 0., 0., 0., 0., 0., 0., 0.,\n",
       "       0., 0., 0., 0., 0., 0., 0., 0., 0., 0., 0., 0., 0., 0., 0., 0., 0.,\n",
       "       0., 0., 0., 0., 0., 0., 0., 0., 0., 0., 0., 0., 0., 0., 0., 0., 0.,\n",
       "       0., 0., 0., 0., 0., 0., 0., 0., 0., 0., 0., 0., 0., 0., 0., 0., 0.,\n",
       "       0.])"
      ]
     },
     "execution_count": 16,
     "metadata": {},
     "output_type": "execute_result"
    }
   ],
   "source": [
    "decoded"
   ]
  },
  {
   "cell_type": "markdown",
   "metadata": {},
   "source": [
    "### Part C "
   ]
  },
  {
   "cell_type": "code",
   "execution_count": 17,
   "metadata": {},
   "outputs": [],
   "source": [
    "def evaluate_at_iter(beliefs_hist, source, iter_num):\n",
    "    \"\"\" Given a log of beliefs, decode and evaluate hamming distance at a given iteration \n",
    "    \n",
    "    Parameters\n",
    "    ----------\n",
    "    beliefs_hist: dict of dicts \n",
    "        A log of beliefs after each iteration of loopy belief propagation, represented by {k:v} where k is \n",
    "        iteration number and v is a nested dictionary representing beliefs at that iteration \n",
    "    original: np.array\n",
    "        Source message, represented an array of binary bits     \n",
    "    iter_num: int \n",
    "        Iteration number at which to retrieve beliefs \n",
    "    \n",
    "    Returns\n",
    "    -------\n",
    "    hdist: int \n",
    "        Hamming distance between source and decoded messages, defined as number of differing bits \n",
    "    decoded: np.array\n",
    "        Decoded message, represented an array of binary bits              \n",
    "\n",
    "    \"\"\"\n",
    "    \n",
    "    beliefs_at_iter = get_beliefs_at_iter(beliefs_hist, iter_num)\n",
    "    decoded = decode_msg(beliefs_at_iter)\n",
    "    hdist = hamming_dist(source, decoded)\n",
    "    \n",
    "    return hdist, decoded "
   ]
  },
  {
   "cell_type": "code",
   "execution_count": 18,
   "metadata": {},
   "outputs": [],
   "source": [
    "def plot_results(results, err, n_trials):\n",
    "    \n",
    "    \"\"\" Plots Hamming distance curves (by iteration) for N random trials \n",
    "    \n",
    "    Parameters\n",
    "    ----------\n",
    "    results: list of dictionaries \n",
    "        Each dictionary stores the Hamming distance (value) at each iteration (key) for a given trial \n",
    "    err: float \n",
    "        Assumed error rate of the binary symmetric channel  \n",
    "    n_trials: int\n",
    "        Number of random trials \n",
    "    \n",
    "    Returns\n",
    "    -------\n",
    "    hdist: int \n",
    "        Hamming distance between source and decoded messages, defined as number of differing bits \n",
    "    decoded: np.array\n",
    "        Decoded message, represented an array of binary bits              \n",
    "    \n",
    "    \n",
    "    \"\"\"\n",
    "    n_trials = len(results)\n",
    "    pd.DataFrame(results).T.plot(figsize=(10,5), legend=None)\n",
    "    plt.ylabel('Hamming distance')\n",
    "    plt.xlabel('Iteration')\n",
    "    plt.title('Hamming distance versus iteration with err={} for {} random trials'.format(err, n_trials))"
   ]
  },
  {
   "cell_type": "code",
   "execution_count": 19,
   "metadata": {},
   "outputs": [],
   "source": [
    "def run_experiments(err, n_trials, source, n_iter, d_v=4, d_c=8):\n",
    "    \n",
    "    \"\"\" Repeat experiment (simulate transmission of a source message through a BSC then run loopy BP to decode \n",
    "    the received message) for multiple trials and return hamming distance at each iteration for each trial \n",
    "\n",
    "    Parameters\n",
    "    ----------\n",
    "    err: float\n",
    "        Assumed error rate of the binary symmetric channel  \n",
    "    n_trials: int \n",
    "        Number of times to repeat experiment \n",
    "    source: np.array\n",
    "        Source message, represented an array of binary bits \n",
    "    n_iter: int\n",
    "        Number of iterations to run loopy belief propagation \n",
    "    d_v: int (default 4)\n",
    "        Number of variable nodes checked in each parity check equation \n",
    "    d_c: int (default 8)\n",
    "        Number of parity check equations \n",
    "    \n",
    "    Returns\n",
    "    -------\n",
    "    results: list of dictionaries \n",
    "        Each dictionary stores the Hamming distance (value) at each iteration (key) for a given trial \n",
    "    plot: \n",
    "        Hamming distance vs. Iteration\n",
    "    \"\"\"\n",
    "    \n",
    "    results = []  \n",
    "    \n",
    "    for trial_num in range(n_trials):\n",
    "        hdist, beliefs, beliefs_hist, decoded = run_experiment(source, err, n_iter, d_v, d_c)\n",
    "        \n",
    "        result = {} \n",
    "        for iter_num in range(n_iter):\n",
    "            hdist, _ = evaluate_at_iter(beliefs_hist, source, iter_num)\n",
    "            result[iter_num+1] = hdist # record results as 1-indexed\n",
    "        results.append(result)\n",
    "        \n",
    "    plot_results(results, err, n_trials)\n",
    "    \n",
    "    return results"
   ]
  },
  {
   "cell_type": "code",
   "execution_count": 20,
   "metadata": {},
   "outputs": [
    {
     "data": {
      "image/png": "[encoded data removed]",
      "text/plain": [
       "<Figure size 720x360 with 1 Axes>"
      ]
     },
     "metadata": {
      "needs_background": "light"
     },
     "output_type": "display_data"
    }
   ],
   "source": [
    "# test \n",
    "zero_msg = np.zeros(256, dtype=int)\n",
    "results = run_experiments(err=0.05, n_trials=3, source=zero_msg, n_iter=10, d_v=4, d_c=8)"
   ]
  },
  {
   "cell_type": "code",
   "execution_count": null,
   "metadata": {},
   "outputs": [],
   "source": [
    "zero_msg = np.zeros(256, dtype=int)\n",
    "results = run_experiments(err=0.05, n_trials=10, source=zero_msg, n_iter=50, d_v=4, d_c=8)"
   ]
  },
  {
   "cell_type": "markdown",
   "metadata": {},
   "source": [
    "### Part D"
   ]
  },
  {
   "cell_type": "code",
   "execution_count": null,
   "metadata": {},
   "outputs": [],
   "source": [
    "results_err8 = run_experiments(err=0.08, n_trials=10, source=zero_msg, n_iter=50, d_v=4, d_c=8)\n",
    "#results_err8 = run_experiments(err=0.08, n_trials=10, n_iter=50, msg_len=256, d_v=4, d_c=8)"
   ]
  },
  {
   "cell_type": "code",
   "execution_count": null,
   "metadata": {},
   "outputs": [],
   "source": [
    "results_err10 = run_experiments(err=0.10, n_trials=10, source=zero_msg, n_iter=50, d_v=4, d_c=8)\n",
    "#results_err10 = run_experiments(err=0.10, n_trials=10, n_iter=50, msg_len=256, d_v=4, d_c=8)"
   ]
  },
  {
   "cell_type": "markdown",
   "metadata": {},
   "source": [
    "### Part E "
   ]
  },
  {
   "cell_type": "code",
   "execution_count": 99,
   "metadata": {},
   "outputs": [],
   "source": [
    "def load_image(img_filepath, desired_width=40):\n",
    "    \"\"\" Load image, reshape, and flatten into an array of bits \n",
    "\n",
    "    Parameters\n",
    "    ----------\n",
    "    img_filepath: str\n",
    "        Filepath to image \n",
    "    \n",
    "    Returns\n",
    "    -------\n",
    "    img_bits: np.array \n",
    "        Representation of image as a flattened array of bits \n",
    "    \"\"\"\n",
    "    \n",
    "    img = cv2.imread(img_filepath,2)\n",
    "    img = cv2.resize(img, (desired_width, desired_width))\n",
    "    ret, bw_img = cv2.threshold(img,127,255,cv2.THRESH_BINARY)\n",
    "    img_bits = (bw_img / 255).astype(int)\n",
    "    img_bits = img_bits.flatten()\n",
    "    return img_bits \n",
    "\n",
    "def visualize_image(img_bits):\n",
    "    \"\"\" Reshape flattened image bits back to N*N array and visualize it \n",
    "\n",
    "    Parameters\n",
    "    ----------\n",
    "    img_bits: np.array \n",
    "        Representation of image as a flattened array of bits \n",
    "    \n",
    "    Returns\n",
    "    -------\n",
    "    None. Prints out image. \n",
    "    \"\"\"\n",
    "    \n",
    "    width = int(math.sqrt(len(img_bits)))\n",
    "    img = img_bits.reshape((width, width))\n",
    "    plt.imshow(img)\n",
    "    \n",
    "def pad_img_bits(img_bits, Gt):\n",
    "    \"\"\" Pad img_bits with 0's so that its length matches the number of columns in Gt\n",
    "\n",
    "    Parameters\n",
    "    ----------\n",
    "    img_bits: np.array \n",
    "        Representation of image as a flattened array of bits \n",
    "    Gt:  \n",
    "        Transpose of generator matrix G \n",
    "            \n",
    "    Returns\n",
    "    -------\n",
    "    img_bits_padded: np.array \n",
    "        img_bits right-padded with 0's to match the number of columns in Gt \n",
    "    \"\"\"\n",
    "    \n",
    "    required_size = Gt.shape[1]\n",
    "    pad_width = required_size - len(img_bits)\n",
    "    img_bits_padded = np.concatenate([img_bits, np.zeros(pad_width, dtype=int)])\n",
    "    \n",
    "    return img_bits_padded\n",
    "    \n",
    "def encode_img(img_bits, d_v=4, d_c=8):\n",
    "    \"\"\" Encodes image using LDPC codes, returns encoded message along with coding matrices H and Gt \n",
    "    \n",
    "    Parameters\n",
    "    ----------\n",
    "    img_bits: np.array (of length N)\n",
    "        Representation of image as a flattened array of N bits \n",
    "    d_v: int (default 4)\n",
    "        Number of variable nodes checked in each parity check equation \n",
    "    d_c: int (default 8)\n",
    "        Number of parity check equations \n",
    "\n",
    "    Returns\n",
    "    -------\n",
    "    encoded: np.array (of length 2*N)\n",
    "        Encoded message of 2N bits, first N of which represent the image \n",
    "    \"\"\"\n",
    "    \n",
    "    img_len = len(img_bits)\n",
    "    H_ = RegularH(2*img_len, d_v, d_c)\n",
    "    H, Gt = coding_matrix_systematic(H_)\n",
    "    img_bits_padded = pad_img_bits(img_bits, Gt)\n",
    "    encoded = Gt @ img_bits_padded \n",
    "    encoded = encoded % 2\n",
    "    \n",
    "    return encoded, H, Gt "
   ]
  },
  {
   "cell_type": "code",
   "execution_count": 123,
   "metadata": {},
   "outputs": [
    {
     "data": {
      "image/png": "[encoded data removed]",
      "text/plain": [
       "<Figure size 432x288 with 1 Axes>"
      ]
     },
     "metadata": {
      "needs_background": "light"
     },
     "output_type": "display_data"
    }
   ],
   "source": [
    "img_bits = load_image('binary-image.png')\n",
    "visualize_image(img_bits)"
   ]
  },
  {
   "cell_type": "code",
   "execution_count": 124,
   "metadata": {},
   "outputs": [],
   "source": [
    "encoded, H, Gt = encode_img(img_bits, d_v=8, d_c=16)"
   ]
  },
  {
   "cell_type": "code",
   "execution_count": 125,
   "metadata": {},
   "outputs": [
    {
     "data": {
      "image/png": "[encoded data removed]",
      "text/plain": [
       "<Figure size 432x288 with 1 Axes>"
      ]
     },
     "metadata": {
      "needs_background": "light"
     },
     "output_type": "display_data"
    }
   ],
   "source": [
    "visualize_image(encoded[:1600])"
   ]
  },
  {
   "cell_type": "code",
   "execution_count": 126,
   "metadata": {},
   "outputs": [
    {
     "data": {
      "image/png": "[encoded data removed]",
      "text/plain": [
       "<Figure size 432x288 with 1 Axes>"
      ]
     },
     "metadata": {
      "needs_background": "light"
     },
     "output_type": "display_data"
    }
   ],
   "source": [
    "corrupted = add_noise(encoded, .03)\n",
    "visualize_image(corrupted[:1600])"
   ]
  },
  {
   "cell_type": "code",
   "execution_count": 127,
   "metadata": {},
   "outputs": [
    {
     "ename": "KeyboardInterrupt",
     "evalue": "",
     "output_type": "error",
     "traceback": [
      "\u001b[0;31m---------------------------------------------------------------------------\u001b[0m",
      "\u001b[0;31mKeyboardInterrupt\u001b[0m                         Traceback (most recent call last)",
      "\u001b[0;32m<ipython-input-127-78dc828f8445>\u001b[0m in \u001b[0;36m<module>\u001b[0;34m\u001b[0m\n\u001b[1;32m      1\u001b[0m \u001b[0mldpc_img\u001b[0m \u001b[0;34m=\u001b[0m \u001b[0mmake_ldpc_fg\u001b[0m\u001b[0;34m(\u001b[0m\u001b[0mH\u001b[0m\u001b[0;34m)\u001b[0m\u001b[0;34m\u001b[0m\u001b[0;34m\u001b[0m\u001b[0m\n\u001b[1;32m      2\u001b[0m \u001b[0mldpc_img\u001b[0m \u001b[0;34m=\u001b[0m \u001b[0mset_unary_factors\u001b[0m\u001b[0;34m(\u001b[0m\u001b[0mldpc_img\u001b[0m\u001b[0;34m,\u001b[0m \u001b[0mcorrupted\u001b[0m\u001b[0;34m,\u001b[0m \u001b[0;36m.03\u001b[0m\u001b[0;34m)\u001b[0m\u001b[0;34m\u001b[0m\u001b[0;34m\u001b[0m\u001b[0m\n\u001b[0;32m----> 3\u001b[0;31m \u001b[0mbeliefs_img\u001b[0m\u001b[0;34m,\u001b[0m \u001b[0mbeliefs_img_hist\u001b[0m \u001b[0;34m=\u001b[0m \u001b[0mget_beliefs\u001b[0m\u001b[0;34m(\u001b[0m\u001b[0mldpc_img\u001b[0m\u001b[0;34m,\u001b[0m \u001b[0;36m30\u001b[0m\u001b[0;34m)\u001b[0m\u001b[0;34m\u001b[0m\u001b[0;34m\u001b[0m\u001b[0m\n\u001b[0m",
      "\u001b[0;32m<ipython-input-4-922a96df6489>\u001b[0m in \u001b[0;36mget_beliefs\u001b[0;34m(model, n_iter)\u001b[0m\n\u001b[1;32m     64\u001b[0m                     \u001b[0mmsg\u001b[0m \u001b[0;34m=\u001b[0m \u001b[0mmsg\u001b[0m\u001b[0;34m.\u001b[0m\u001b[0mnormalize\u001b[0m\u001b[0;34m(\u001b[0m\u001b[0;34m)\u001b[0m\u001b[0;34m\u001b[0m\u001b[0;34m\u001b[0m\u001b[0m\n\u001b[1;32m     65\u001b[0m                 \u001b[0;32mfor\u001b[0m \u001b[0mn\u001b[0m \u001b[0;32min\u001b[0m \u001b[0mf\u001b[0m\u001b[0;34m.\u001b[0m\u001b[0mneighbors\u001b[0m\u001b[0;34m(\u001b[0m\u001b[0mexclusion\u001b[0m\u001b[0;34m=\u001b[0m\u001b[0mv\u001b[0m\u001b[0;34m)\u001b[0m\u001b[0;34m:\u001b[0m\u001b[0;34m\u001b[0m\u001b[0;34m\u001b[0m\u001b[0m\n\u001b[0;32m---> 66\u001b[0;31m                     \u001b[0mmsg\u001b[0m \u001b[0;34m=\u001b[0m \u001b[0mmsg\u001b[0m\u001b[0;34m.\u001b[0m\u001b[0mmarginalize\u001b[0m\u001b[0;34m(\u001b[0m\u001b[0mn\u001b[0m\u001b[0;34m,\u001b[0m \u001b[0mnormalize\u001b[0m\u001b[0;34m=\u001b[0m\u001b[0;32mTrue\u001b[0m\u001b[0;34m)\u001b[0m\u001b[0;34m\u001b[0m\u001b[0;34m\u001b[0m\u001b[0m\n\u001b[0m\u001b[1;32m     67\u001b[0m                 \u001b[0mmodel\u001b[0m\u001b[0;34m[\u001b[0m\u001b[0mf\u001b[0m\u001b[0;34m]\u001b[0m\u001b[0;34m[\u001b[0m\u001b[0mv\u001b[0m\u001b[0;34m]\u001b[0m\u001b[0;34m[\u001b[0m\u001b[0;34m'object'\u001b[0m\u001b[0;34m]\u001b[0m\u001b[0;34m.\u001b[0m\u001b[0mset_message\u001b[0m\u001b[0;34m(\u001b[0m\u001b[0mf\u001b[0m\u001b[0;34m,\u001b[0m \u001b[0mv\u001b[0m\u001b[0;34m,\u001b[0m \u001b[0mmsg\u001b[0m\u001b[0;34m.\u001b[0m\u001b[0mnormalize\u001b[0m\u001b[0;34m(\u001b[0m\u001b[0;34m)\u001b[0m\u001b[0;34m)\u001b[0m\u001b[0;34m\u001b[0m\u001b[0;34m\u001b[0m\u001b[0m\n\u001b[1;32m     68\u001b[0m \u001b[0;34m\u001b[0m\u001b[0m\n",
      "\u001b[0;32m/anaconda3/envs/py36rocket/lib/python3.6/site-packages/fglib/rv.py\u001b[0m in \u001b[0;36mmarginalize\u001b[0;34m(self, normalize, *dims)\u001b[0m\n\u001b[1;32m    315\u001b[0m \u001b[0;34m\u001b[0m\u001b[0m\n\u001b[1;32m    316\u001b[0m         \u001b[0mnew_dims\u001b[0m \u001b[0;34m=\u001b[0m \u001b[0mtuple\u001b[0m\u001b[0;34m(\u001b[0m\u001b[0md\u001b[0m \u001b[0;32mfor\u001b[0m \u001b[0md\u001b[0m \u001b[0;32min\u001b[0m \u001b[0mself\u001b[0m\u001b[0;34m.\u001b[0m\u001b[0mdim\u001b[0m \u001b[0;32mif\u001b[0m \u001b[0md\u001b[0m \u001b[0;32mnot\u001b[0m \u001b[0;32min\u001b[0m \u001b[0mdims\u001b[0m\u001b[0;34m)\u001b[0m\u001b[0;34m\u001b[0m\u001b[0;34m\u001b[0m\u001b[0m\n\u001b[0;32m--> 317\u001b[0;31m         \u001b[0;32mreturn\u001b[0m \u001b[0mDiscrete\u001b[0m\u001b[0;34m(\u001b[0m\u001b[0mpmf\u001b[0m\u001b[0;34m,\u001b[0m \u001b[0;34m*\u001b[0m\u001b[0mnew_dims\u001b[0m\u001b[0;34m)\u001b[0m\u001b[0;34m\u001b[0m\u001b[0;34m\u001b[0m\u001b[0m\n\u001b[0m\u001b[1;32m    318\u001b[0m \u001b[0;34m\u001b[0m\u001b[0m\n\u001b[1;32m    319\u001b[0m     \u001b[0;32mdef\u001b[0m \u001b[0mmaximize\u001b[0m\u001b[0;34m(\u001b[0m\u001b[0mself\u001b[0m\u001b[0;34m,\u001b[0m \u001b[0;34m*\u001b[0m\u001b[0mdims\u001b[0m\u001b[0;34m,\u001b[0m \u001b[0mnormalize\u001b[0m\u001b[0;34m=\u001b[0m\u001b[0;32mTrue\u001b[0m\u001b[0;34m)\u001b[0m\u001b[0;34m:\u001b[0m\u001b[0;34m\u001b[0m\u001b[0;34m\u001b[0m\u001b[0m\n",
      "\u001b[0;32m/anaconda3/envs/py36rocket/lib/python3.6/site-packages/fglib/rv.py\u001b[0m in \u001b[0;36m__init__\u001b[0;34m(self, raw_pmf, *args)\u001b[0m\n\u001b[1;32m    118\u001b[0m \u001b[0;34m\u001b[0m\u001b[0m\n\u001b[1;32m    119\u001b[0m         \"\"\"\n\u001b[0;32m--> 120\u001b[0;31m         \u001b[0mpmf\u001b[0m \u001b[0;34m=\u001b[0m \u001b[0mnp\u001b[0m\u001b[0;34m.\u001b[0m\u001b[0masarray\u001b[0m\u001b[0;34m(\u001b[0m\u001b[0mraw_pmf\u001b[0m\u001b[0;34m,\u001b[0m \u001b[0mdtype\u001b[0m\u001b[0;34m=\u001b[0m\u001b[0mnp\u001b[0m\u001b[0;34m.\u001b[0m\u001b[0mfloat64\u001b[0m\u001b[0;34m)\u001b[0m\u001b[0;34m\u001b[0m\u001b[0;34m\u001b[0m\u001b[0m\n\u001b[0m\u001b[1;32m    121\u001b[0m \u001b[0;34m\u001b[0m\u001b[0m\n\u001b[1;32m    122\u001b[0m         \u001b[0;31m# Set probability mass function\u001b[0m\u001b[0;34m\u001b[0m\u001b[0;34m\u001b[0m\u001b[0;34m\u001b[0m\u001b[0m\n",
      "\u001b[0;31mKeyboardInterrupt\u001b[0m: "
     ]
    }
   ],
   "source": [
    "ldpc_img = make_ldpc_fg(H)\n",
    "ldpc_img = set_unary_factors(ldpc_img, corrupted, .03)\n",
    "beliefs_img, beliefs_img_hist = get_beliefs(ldpc_img, 30)"
   ]
  },
  {
   "cell_type": "code",
   "execution_count": 122,
   "metadata": {},
   "outputs": [
    {
     "name": "stderr",
     "output_type": "stream",
     "text": [
      "/anaconda3/envs/py36rocket/lib/python3.6/site-packages/ipykernel_launcher.py:110: DeprecationWarning: elementwise comparison failed; this will raise an error in the future.\n"
     ]
    },
    {
     "data": {
      "image/png": "[encoded data removed]",
      "text/plain": [
       "<Figure size 432x288 with 1 Axes>"
      ]
     },
     "metadata": {
      "needs_background": "light"
     },
     "output_type": "display_data"
    }
   ],
   "source": [
    "_, decoded = evaluate_at_iter(beliefs_img_hist, img_bits, iter_num=29)\n",
    "visualize_image(decoded[:1600])"
   ]
  },
  {
   "cell_type": "markdown",
   "metadata": {},
   "source": [
    "## Q4 - Messsage passing on a tree"
   ]
  },
  {
   "cell_type": "code",
   "execution_count": null,
   "metadata": {},
   "outputs": [],
   "source": [
    "from scipy.stats import norm"
   ]
  },
  {
   "cell_type": "code",
   "execution_count": null,
   "metadata": {},
   "outputs": [],
   "source": [
    "norm.pdf(50, loc=50, scale=np.sqrt(10))"
   ]
  },
  {
   "cell_type": "code",
   "execution_count": null,
   "metadata": {},
   "outputs": [],
   "source": [
    "norm.pdf(50, loc=60, scale=np.sqrt(10))"
   ]
  },
  {
   "cell_type": "code",
   "execution_count": null,
   "metadata": {},
   "outputs": [],
   "source": [
    "norm.pdf(60, loc=50, scale=np.sqrt(10))"
   ]
  },
  {
   "cell_type": "code",
   "execution_count": null,
   "metadata": {},
   "outputs": [],
   "source": [
    "norm.pdf(60, loc=60, scale=np.sqrt(10))"
   ]
  },
  {
   "cell_type": "markdown",
   "metadata": {},
   "source": [
    "# OLD CODE"
   ]
  },
  {
   "cell_type": "code",
   "execution_count": null,
   "metadata": {},
   "outputs": [],
   "source": [
    "# # numerically unstable \n",
    "\n",
    "# def get_beliefs(model, n_iter=10):\n",
    "    \n",
    "#     # initialize variable to factor messages \n",
    "#     for v in model.get_vnodes():\n",
    "#         for f in v.neighbors():\n",
    "#             initial_msg = rv.Discrete(np.ones(2,), v)\n",
    "#             model[v][f]['object'].set_message(v, f, initial_msg)\n",
    "\n",
    "#     # run parallel updates for n_iter times \n",
    "#     for i in range(n_iter):\n",
    "        \n",
    "#         # update factor-to-variable messages\n",
    "#         for f in model.get_fnodes():\n",
    "#             for v in f.neighbors():\n",
    "#                 msg = f.factor \n",
    "#                 for n in f.neighbors(exclusion=v):\n",
    "#                     msg *= model[n][f]['object'].get_message(n, f)\n",
    "#                 for n in f.neighbors(exclusion=v):\n",
    "#                     msg = msg.marginalize(n, normalize=False)\n",
    "#                 model[f][v]['object'].set_message(f, v, msg)\n",
    "                \n",
    "#         # update variable-to-factor messages \n",
    "#         for v in model.get_vnodes(): \n",
    "#             for f in v.neighbors():\n",
    "#                 msg = rv.Discrete(np.ones(2,), v)\n",
    "#                 for n in v.neighbors(exclusion=f):\n",
    "#                     msg *= model[n][v]['object'].get_message(n, v)\n",
    "#                 model[v][f]['object'].set_message(v, f, msg)\n",
    "\n",
    "#         # store beliefs of variable nodes \n",
    "#         beliefs = {}\n",
    "#         for v in model.get_vnodes():\n",
    "#             beliefs[v] = v.belief(model)\n",
    "    \n",
    "#     return beliefs"
   ]
  },
  {
   "cell_type": "code",
   "execution_count": null,
   "metadata": {},
   "outputs": [],
   "source": [
    "# def get_beliefs(model, n_iter=10):\n",
    "    \n",
    "#     # initialize variable to factor messages \n",
    "#     for v in model.get_vnodes():\n",
    "#         for f in v.neighbors():\n",
    "#             initial_msg = rv.Discrete(np.ones(2,), v)\n",
    "#             model[v][f]['object'].set_message(v, f, initial_msg.normalize())\n",
    "\n",
    "#     # run parallel updates for n_iter times \n",
    "#     for i in range(n_iter):\n",
    "        \n",
    "#         # update factor-to-variable messages\n",
    "#         for f in model.get_fnodes():\n",
    "#             for v in f.neighbors():\n",
    "#                 msg = f.factor \n",
    "#                 for n in f.neighbors(exclusion=v):\n",
    "#                     msg *= model[n][f]['object'].get_message(n, f)\n",
    "#                     msg = msg.normalize()\n",
    "#                 for n in f.neighbors(exclusion=v):\n",
    "#                     msg = msg.marginalize(n, normalize=True)\n",
    "#                 model[f][v]['object'].set_message(f, v, msg.normalize())\n",
    "                \n",
    "#         # update variable-to-factor messages \n",
    "#         for v in model.get_vnodes(): \n",
    "#             for f in v.neighbors():\n",
    "#                 msg = rv.Discrete(np.ones(2,), v)\n",
    "#                 for n in v.neighbors(exclusion=f):\n",
    "#                     msg *= model[n][v]['object'].get_message(n, v)\n",
    "#                     msg = msg.normalize()\n",
    "#                 model[v][f]['object'].set_message(v, f, msg.normalize())\n",
    "\n",
    "#         # store beliefs of variable nodes \n",
    "#         beliefs = {}\n",
    "#         for v in model.get_vnodes():\n",
    "#             belief = rv.Discrete(np.ones(2,), v)\n",
    "#             for n in v.neighbors():\n",
    "#                 belief *= model[n][v]['object'].get_message(n, v)\n",
    "#             beliefs[v] = belief.normalize()\n",
    "    \n",
    "#     return beliefs"
   ]
  },
  {
   "cell_type": "code",
   "execution_count": null,
   "metadata": {},
   "outputs": [],
   "source": [
    "# # attempt to take log, but answers don't seem correct\n",
    "\n",
    "# def get_beliefs_log(model, n_iter=10):\n",
    "    \n",
    "#     # initialize variable to factor messages \n",
    "#     for v in model.get_vnodes():\n",
    "#         for f in v.neighbors():\n",
    "#             initial_msg = rv.Discrete(np.ones(2,), v).normalize().log()\n",
    "#             model[v][f]['object'].set_message(v, f, initial_msg, logarithmic=True)\n",
    "\n",
    "#     # run parallel updates for n_iter times \n",
    "#     for i in range(n_iter):\n",
    "        \n",
    "#         # update factor-to-variable messages\n",
    "#         for f in model.get_fnodes():\n",
    "#             for v in f.neighbors():\n",
    "#                 sum_lambdas = rv.Discrete(np.zeros(2,), v)\n",
    "#                 for n in f.neighbors(exclusion=v):\n",
    "#                     sum_lambdas += model[n][f]['object'].get_message(n, f)\n",
    "#                 max_lambda = max(np.nan_to_num(sum_lambdas.pmf.flatten()))\n",
    "#                 sum_lambdas = rv.Discrete(sum_lambdas.pmf - max_lambda, v)\n",
    "#                 msg = rv.Discrete(np.exp(sum_lambdas.pmf), *sum_lambdas.dim)\n",
    "#                 msg = f.factor * msg\n",
    "#                 for n in f.neighbors(exclusion=v):\n",
    "#                     msg = msg.marginalize(n, normalize=False)\n",
    "#                 msg = msg.log()\n",
    "#                 msg = rv.Discrete(msg.pmf + max_lambda, v)\n",
    "#                 msg = msg.normalize()\n",
    "#                 model[f][v]['object'].set_message(f, v, msg, logarithmic=True)\n",
    "                \n",
    "#         # update variable-to-factor messages \n",
    "#         for v in model.get_vnodes(): \n",
    "#             for f in v.neighbors():\n",
    "#                 msg = rv.Discrete(np.zeros(2,), v)\n",
    "#                 for n in v.neighbors(exclusion=f):\n",
    "#                     msg += model[n][v]['object'].get_message(n, v)\n",
    "#                 model[v][f]['object'].set_message(v, f, msg, logarithmic=True)\n",
    "\n",
    "#         # store beliefs of variable nodes \n",
    "#         beliefs = {}\n",
    "#         for v in model.get_vnodes():\n",
    "#             log_b = v.belief(normalize=False)\n",
    "#             b = rv.Discrete(np.exp(log_b.pmf), log_b.dim).normalize()\n",
    "#             beliefs[v] = b\n",
    "    \n",
    "#     return beliefs"
   ]
  },
  {
   "cell_type": "code",
   "execution_count": null,
   "metadata": {},
   "outputs": [],
   "source": []
  }
 ],
 "metadata": {
  "anaconda-cloud": {},
  "celltoolbar": "Raw Cell Format",
  "kernelspec": {
   "display_name": "Python 3",
   "language": "python",
   "name": "python3"
  },
  "language_info": {
   "codemirror_mode": {
    "name": "ipython",
    "version": 3
   },
   "file_extension": ".py",
   "mimetype": "text/x-python",
   "name": "python",
   "nbconvert_exporter": "python",
   "pygments_lexer": "ipython3",
   "version": "3.6.7"
  }
 },
 "nbformat": 4,
 "nbformat_minor": 1
}
