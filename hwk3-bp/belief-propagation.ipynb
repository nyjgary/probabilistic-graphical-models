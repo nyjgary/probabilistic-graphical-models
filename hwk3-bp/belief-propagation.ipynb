{
 "cells": [
  {
   "cell_type": "markdown",
   "metadata": {},
   "source": [
    "# DS 1005 Hwk 3 - Belief Propagation"
   ]
  },
  {
   "cell_type": "markdown",
   "metadata": {},
   "source": [
    "## Q1 - Sum-product algorithm "
   ]
  },
  {
   "cell_type": "code",
   "execution_count": 1,
   "metadata": {},
   "outputs": [],
   "source": [
    "import numpy as np \n",
    "import networkx as nx\n",
    "from fglib import graphs, nodes, rv, inference, utils\n",
    "from itertools import product"
   ]
  },
  {
   "cell_type": "code",
   "execution_count": 2,
   "metadata": {},
   "outputs": [
    {
     "name": "stdout",
     "output_type": "stream",
     "text": [
      "[[0.2 0.3]\n",
      " [0.2 0.3]]\n",
      "(2, 2)\n",
      "[[[0.2]\n",
      "  [0.3]]\n",
      "\n",
      " [[0.2]\n",
      "  [0.3]]]\n",
      "(2, 2, 1)\n",
      "[[[0.2, 0.8], [0.25, 0.75]], [[0.7, 0.3], [0.3, 0.7]]]\n",
      "[[[0.04  0.16 ]\n",
      "  [0.075 0.225]]\n",
      "\n",
      " [[0.14  0.06 ]\n",
      "  [0.09  0.21 ]]]\n",
      "(2, 2, 2)\n",
      "[0.345 0.655]\n",
      "[[0.1725 0.1725]\n",
      " [0.4585 0.1965]]\n",
      "(2, 2)\n"
     ]
    }
   ],
   "source": [
    "dist_f3 = [0.5, 0.5]\n",
    "dist_f4 = [0.4,0.6]\n",
    "px3x4=np.outer(dist_f3,dist_f4)\n",
    "print(px3x4)\n",
    "print(px3x4.shape)\n",
    "px3x4=np.reshape(px3x4, np.shape(px3x4)+(1,))\n",
    "print(px3x4)\n",
    "print(px3x4.shape)\n",
    "px2_conditioned_x3x4=[[[0.2,0.8],\n",
    "                     [0.25,0.75],],\n",
    "                     [[0.7,0.3],\n",
    "                     [0.3,0.7]]]\n",
    "print(px2_conditioned_x3x4)\n",
    "dist_f234 =px3x4*px2_conditioned_x3x4\n",
    "print(dist_f234)\n",
    "print(dist_f234.shape)\n",
    "px2= np.sum(dist_f234, axis=(0,1))\n",
    "print(px2)\n",
    "px1_conditioned_x2 = [[0.5,0.5],\n",
    "                     [0.7,0.3]]\n",
    "dist_f12 =px2[:,np.newaxis]*px1_conditioned_x2\n",
    "print(dist_f12)\n",
    "print(dist_f12.shape)"
   ]
  },
  {
   "cell_type": "code",
   "execution_count": 3,
   "metadata": {},
   "outputs": [],
   "source": [
    "def make_debug_graph():\n",
    "\n",
    "    # Create factor graph\n",
    "    fg = graphs.FactorGraph()\n",
    "\n",
    "    # Create variable nodes\n",
    "    x1 = nodes.VNode(\"x1\", rv.Discrete)\n",
    "    x2 = nodes.VNode(\"x2\", rv.Discrete)\n",
    "    x3 = nodes.VNode(\"x3\", rv.Discrete)\n",
    "    x4 = nodes.VNode(\"x4\", rv.Discrete)\n",
    "\n",
    "    # Create factor nodes\n",
    "    f12 = nodes.FNode(\"f12\")\n",
    "    f234 = nodes.FNode(\"f234\")\n",
    "    f3 = nodes.FNode(\"f3\")\n",
    "    f4 = nodes.FNode(\"f4\")\n",
    "\n",
    "    # Add nodes to factor graph\n",
    "    fg.set_nodes([x1, x2, x3, x4])\n",
    "    fg.set_nodes([f12, f234, f3,f4 ])\n",
    "\n",
    "    # Add edges to factor graph\n",
    "    fg.set_edge(x1, f12)\n",
    "    fg.set_edge(f12, x2)\n",
    "    fg.set_edge(x2, f234)\n",
    "    fg.set_edge(f234, x3)\n",
    "    fg.set_edge(f234, x4)\n",
    "    fg.set_edge(x3, f3)\n",
    "    fg.set_edge(x4, f4)\n",
    "\n",
    "    #add potential for f_3: p(x3)\n",
    "    dist_f3 = [0.5, 0.5]\n",
    "    f3.factor = rv.Discrete(dist_f3,x3)\n",
    "    \n",
    "    #add potential for f_4: p(x4)\n",
    "    dist_f4 = [0.4,0.6]\n",
    "    f4.factor = rv.Discrete(dist_f4,x4)\n",
    "    \n",
    "    # add potential for f_{234}: p(x2, x3, x4) = p(x2|x3,x4) p(x3,x4)\n",
    "    px3x4=np.outer(dist_f3,dist_f4)\n",
    "    px3x4=np.reshape(px3x4, np.shape(px3x4)+(1,))\n",
    "    px2_conditioned_x3x4=[[[0.2,0.8],\n",
    "                         [0.25,0.75],],\n",
    "                         [[0.7,0.3],\n",
    "                         [0.3,0.7]]]\n",
    "    \n",
    "    dist_f234 =px3x4*px2_conditioned_x3x4\n",
    "    f234.factor = rv.Discrete(dist_f234,x3,x4,x2)\n",
    "   \n",
    "    # add potential for f_{12}:  p (x1,x2) = p(x1 | x2) p(x2)\n",
    "    px1_conditioned_x2 = [[0.5,0.5],\n",
    "                         [0.7,0.3]]\n",
    "    px2= np.sum(dist_f234, axis=(0,1))\n",
    "    dist_f12 =px2[:,np.newaxis]*px1_conditioned_x2\n",
    "    f12.factor = rv.Discrete(dist_f12,x2,x1)\n",
    "    # Perform sum-product algorithm on factor graph\n",
    "    # and request belief of variable node x1\n",
    "    \n",
    "    belief = inference.sum_product(fg, x1)\n",
    "    print(belief)\n",
    "    return (fg)\n"
   ]
  },
  {
   "cell_type": "markdown",
   "metadata": {},
   "source": [
    "### 1a. Implement sum-product algorithm "
   ]
  },
  {
   "cell_type": "code",
   "execution_count": 4,
   "metadata": {},
   "outputs": [],
   "source": [
    "# # numerically unstable \n",
    "\n",
    "# def get_beliefs(model, n_iter=10):\n",
    "    \n",
    "#     # initialize variable to factor messages \n",
    "#     for v in model.get_vnodes():\n",
    "#         for f in v.neighbors():\n",
    "#             initial_msg = rv.Discrete(np.ones(2,), v)\n",
    "#             model[v][f]['object'].set_message(v, f, initial_msg)\n",
    "\n",
    "#     # run parallel updates for n_iter times \n",
    "#     for i in range(n_iter):\n",
    "        \n",
    "#         # update factor-to-variable messages\n",
    "#         for f in model.get_fnodes():\n",
    "#             for v in f.neighbors():\n",
    "#                 msg = f.factor \n",
    "#                 for n in f.neighbors(exclusion=v):\n",
    "#                     msg *= model[n][f]['object'].get_message(n, f)\n",
    "#                 for n in f.neighbors(exclusion=v):\n",
    "#                     msg = msg.marginalize(n, normalize=False)\n",
    "#                 model[f][v]['object'].set_message(f, v, msg)\n",
    "                \n",
    "#         # update variable-to-factor messages \n",
    "#         for v in model.get_vnodes(): \n",
    "#             for f in v.neighbors():\n",
    "#                 msg = rv.Discrete(np.ones(2,), v)\n",
    "#                 for n in v.neighbors(exclusion=f):\n",
    "#                     msg *= model[n][v]['object'].get_message(n, v)\n",
    "#                 model[v][f]['object'].set_message(v, f, msg)\n",
    "\n",
    "#         # store beliefs of variable nodes \n",
    "#         beliefs = {}\n",
    "#         for v in model.get_vnodes():\n",
    "#             beliefs[v] = v.belief(model)\n",
    "    \n",
    "#     return beliefs"
   ]
  },
  {
   "cell_type": "code",
   "execution_count": 5,
   "metadata": {},
   "outputs": [],
   "source": [
    "def get_beliefs(model, n_iter=10):\n",
    "    \n",
    "    # initialize variable to factor messages \n",
    "    for v in model.get_vnodes():\n",
    "        for f in v.neighbors():\n",
    "            initial_msg = rv.Discrete(np.ones(2,), v)\n",
    "            model[v][f]['object'].set_message(v, f, initial_msg.normalize())\n",
    "\n",
    "    # run parallel updates for n_iter times \n",
    "    for i in range(n_iter):\n",
    "        \n",
    "        # update factor-to-variable messages\n",
    "        for f in model.get_fnodes():\n",
    "            for v in f.neighbors():\n",
    "                msg = f.factor \n",
    "                for n in f.neighbors(exclusion=v):\n",
    "                    msg *= model[n][f]['object'].get_message(n, f)\n",
    "                    msg = msg.normalize()\n",
    "                for n in f.neighbors(exclusion=v):\n",
    "                    msg = msg.marginalize(n, normalize=True)\n",
    "                model[f][v]['object'].set_message(f, v, msg.normalize())\n",
    "                \n",
    "        # update variable-to-factor messages \n",
    "        for v in model.get_vnodes(): \n",
    "            for f in v.neighbors():\n",
    "                msg = rv.Discrete(np.ones(2,), v)\n",
    "                for n in v.neighbors(exclusion=f):\n",
    "                    msg *= model[n][v]['object'].get_message(n, v)\n",
    "                    msg = msg.normalize()\n",
    "                model[v][f]['object'].set_message(v, f, msg.normalize())\n",
    "\n",
    "        # store beliefs of variable nodes \n",
    "        beliefs = {}\n",
    "        for v in model.get_vnodes():\n",
    "            belief = rv.Discrete(np.ones(2,), v)\n",
    "            for n in v.neighbors():\n",
    "                belief *= model[n][v]['object'].get_message(n, v)\n",
    "            beliefs[v] = belief.normalize()\n",
    "    \n",
    "    return beliefs"
   ]
  },
  {
   "cell_type": "code",
   "execution_count": 6,
   "metadata": {},
   "outputs": [],
   "source": [
    "# # attempt to take log, but answers don't seem correct\n",
    "\n",
    "# def get_beliefs_log(model, n_iter=10):\n",
    "    \n",
    "#     # initialize variable to factor messages \n",
    "#     for v in model.get_vnodes():\n",
    "#         for f in v.neighbors():\n",
    "#             initial_msg = rv.Discrete(np.ones(2,), v).normalize().log()\n",
    "#             model[v][f]['object'].set_message(v, f, initial_msg, logarithmic=True)\n",
    "\n",
    "#     # run parallel updates for n_iter times \n",
    "#     for i in range(n_iter):\n",
    "        \n",
    "#         # update factor-to-variable messages\n",
    "#         for f in model.get_fnodes():\n",
    "#             for v in f.neighbors():\n",
    "#                 sum_lambdas = rv.Discrete(np.zeros(2,), v)\n",
    "#                 for n in f.neighbors(exclusion=v):\n",
    "#                     sum_lambdas += model[n][f]['object'].get_message(n, f)\n",
    "#                 max_lambda = max(np.nan_to_num(sum_lambdas.pmf.flatten()))\n",
    "#                 sum_lambdas = rv.Discrete(sum_lambdas.pmf - max_lambda, v)\n",
    "#                 msg = rv.Discrete(np.exp(sum_lambdas.pmf), *sum_lambdas.dim)\n",
    "#                 msg = f.factor * msg\n",
    "#                 for n in f.neighbors(exclusion=v):\n",
    "#                     msg = msg.marginalize(n, normalize=False)\n",
    "#                 msg = msg.log()\n",
    "#                 msg = rv.Discrete(msg.pmf + max_lambda, v)\n",
    "#                 msg = msg.normalize()\n",
    "#                 model[f][v]['object'].set_message(f, v, msg, logarithmic=True)\n",
    "                \n",
    "#         # update variable-to-factor messages \n",
    "#         for v in model.get_vnodes(): \n",
    "#             for f in v.neighbors():\n",
    "#                 msg = rv.Discrete(np.zeros(2,), v)\n",
    "#                 for n in v.neighbors(exclusion=f):\n",
    "#                     msg += model[n][v]['object'].get_message(n, v)\n",
    "#                 model[v][f]['object'].set_message(v, f, msg, logarithmic=True)\n",
    "\n",
    "#         # store beliefs of variable nodes \n",
    "#         beliefs = {}\n",
    "#         for v in model.get_vnodes():\n",
    "#             log_b = v.belief(normalize=False)\n",
    "#             b = rv.Discrete(np.exp(log_b.pmf), log_b.dim).normalize()\n",
    "#             beliefs[v] = b\n",
    "    \n",
    "#     return beliefs"
   ]
  },
  {
   "cell_type": "markdown",
   "metadata": {},
   "source": [
    "### 1b. Test on 4-node factor graph provided "
   ]
  },
  {
   "cell_type": "code",
   "execution_count": 7,
   "metadata": {},
   "outputs": [
    {
     "name": "stdout",
     "output_type": "stream",
     "text": [
      "[0.65897284 0.34102716]\n",
      "Belief of variable nodes \n",
      "x1 [0.65897284 0.34102716]\n",
      "x2 [0.20513578 0.79486422]\n",
      "x3 [0.52640912 0.47359088]\n",
      "x4 [0.28679718 0.71320282]\n"
     ]
    }
   ],
   "source": [
    "fg = make_debug_graph()\n",
    "beliefs = get_beliefs(fg)\n",
    "print(\"Belief of variable nodes \")\n",
    "for (v,b) in beliefs.items():\n",
    "    print(v, b)"
   ]
  },
  {
   "cell_type": "markdown",
   "metadata": {},
   "source": [
    "## Q2 - Low-Density Priority Check (LDPC)"
   ]
  },
  {
   "cell_type": "code",
   "execution_count": 8,
   "metadata": {},
   "outputs": [],
   "source": [
    "from pyldpc import RegularH, CodingMatrixG # old version of API"
   ]
  },
  {
   "cell_type": "markdown",
   "metadata": {},
   "source": [
    "### Part a:  "
   ]
  },
  {
   "cell_type": "code",
   "execution_count": 11,
   "metadata": {},
   "outputs": [],
   "source": [
    "def get_factor_potentials(d_v): # where d_v = num of variable nodes in parity check equation \n",
    "    permutations = product([0,1], repeat=d_v)\n",
    "    phi = np.zeros([2 for i in range(d_v)])\n",
    "    for idx in permutations:\n",
    "        if sum(idx) % 2 == 0: \n",
    "            phi[idx] = 1\n",
    "        else:\n",
    "            phi[idx] = 0\n",
    "    return phi "
   ]
  },
  {
   "cell_type": "code",
   "execution_count": 12,
   "metadata": {},
   "outputs": [],
   "source": [
    "def make_ldpc_fg(H):\n",
    "    \"\"\" Given an arbitrary parity check matrix create a corresponding factor graph \"\"\"\n",
    "    \n",
    "    # initialize factor graph  \n",
    "    fg = graphs.FactorGraph()\n",
    "    \n",
    "    # infer the number of factor and variable nodes required\n",
    "    num_factors, num_variables = H.shape\n",
    "\n",
    "    # create factor nodes \n",
    "    fnodes = [] \n",
    "    for i in range(num_factors):\n",
    "        fnodes.append(nodes.FNode(\"f\" + str(i)))\n",
    "    \n",
    "    # create variable nodes \n",
    "    vnodes = [] \n",
    "    for j in range(num_variables):\n",
    "        vnodes.append(nodes.VNode(\"x\" + str(j), rv.Discrete))\n",
    "        \n",
    "    # add nodes to factor graph \n",
    "    fg.set_nodes(vnodes)\n",
    "    fg.set_nodes(fnodes)\n",
    "    \n",
    "    # add edges to factor graph based on H \n",
    "    for i in range(num_factors):\n",
    "        for j in range(num_variables):\n",
    "            if H[i,j] == 1:\n",
    "                fg.set_edge(fnodes[i], vnodes[j])\n",
    "                \n",
    "    # set factor potentials \n",
    "    for fnode in fg.get_fnodes():\n",
    "        vnodes2check = [vnode for vnode in fnode.neighbors()]\n",
    "        fnode_potentials = get_factor_potentials(len(vnodes2check))\n",
    "        fnode.factor = rv.Discrete(fnode_potentials, *vnodes2check)\n",
    "        \n",
    "    return fg"
   ]
  },
  {
   "cell_type": "code",
   "execution_count": 13,
   "metadata": {},
   "outputs": [
    {
     "name": "stdout",
     "output_type": "stream",
     "text": [
      "[[1 1 1 1 0 0 0 0]\n",
      " [0 0 0 0 1 1 1 1]\n",
      " [1 0 1 1 0 0 0 1]\n",
      " [0 1 0 0 1 1 1 0]]\n"
     ]
    }
   ],
   "source": [
    "# create parity check matrix (note d_v = ones per column, d_c = ones per row)\n",
    "H = RegularH(n=8, d_v=2, d_c=4)\n",
    "print(H)\n",
    "ldpc_fg = make_ldpc_fg(H)"
   ]
  },
  {
   "cell_type": "code",
   "execution_count": 63,
   "metadata": {},
   "outputs": [],
   "source": [
    "def evaluate_potential(model, codeword):\n",
    "    p = 1\n",
    "    for f in model.get_fnodes():\n",
    "        v_checked = [int(str(v)[1:]) for v in f.neighbors()]\n",
    "        idx = tuple([codeword[i] for i in v_checked])\n",
    "        p *= f.factor.pmf[idx]\n",
    "    return p"
   ]
  },
  {
   "cell_type": "code",
   "execution_count": 64,
   "metadata": {},
   "outputs": [
    {
     "name": "stdout",
     "output_type": "stream",
     "text": [
      "Given H = [[1 1 1 1 0 0 0 0]\n",
      " [0 0 0 0 1 1 1 1]\n",
      " [1 0 1 1 0 0 0 1]\n",
      " [0 1 0 0 1 1 1 0]], this code is expected to fail parity check: [1 0 0 0 0 0 0 0]\n",
      "Prob is 0.0\n"
     ]
    }
   ],
   "source": [
    "# define invalid codewords \n",
    "invalid_code = np.array([1, 0, 0, 0, 0, 0, 0, 0]) # should fail parity check \n",
    "print(\"Given H = {}, this code is expected to fail parity check: {}\".format(H, invalid_code))\n",
    "prob = evaluate_potential(ldpc_fg, invalid_code)\n",
    "print(\"Prob is {}\".format(prob))"
   ]
  },
  {
   "cell_type": "code",
   "execution_count": 65,
   "metadata": {},
   "outputs": [
    {
     "name": "stdout",
     "output_type": "stream",
     "text": [
      "Zeros should always pass parity check: [0 0 0 0 0 0 0 0]\n",
      "Prob is 1.0\n"
     ]
    }
   ],
   "source": [
    "# zero should pass \n",
    "valid_code = np.zeros(8, dtype=int)\n",
    "print(\"Zeros should always pass parity check: {}\".format(valid_code))\n",
    "prob = evaluate_potential(ldpc_fg, valid_code)\n",
    "print(\"Prob is {}\".format(prob))"
   ]
  },
  {
   "cell_type": "markdown",
   "metadata": {},
   "source": [
    "### Part b: 128-bit LDPC"
   ]
  },
  {
   "cell_type": "code",
   "execution_count": null,
   "metadata": {},
   "outputs": [],
   "source": [
    "def get_unary_potential(bit, err):\n",
    "    phi = np.zeros(shape=(2,))\n",
    "    phi[bit] = 1 - err \n",
    "    phi[1-bit] = err \n",
    "    return phi \n",
    "\n",
    "def set_unary_factors(fg, msg, err):\n",
    "    for vnode in fg.get_vnodes():\n",
    "        idx = int(str(vnode)[1:])\n",
    "        phi = get_unary_potential(msg[idx-1], err)\n",
    "        ufnode = nodes.FNode(\"u\" + str(idx))\n",
    "        ufnode.factor = rv.Discrete(phi, vnode)\n",
    "        fg.set_node(ufnode)\n",
    "        fg.set_edge(ufnode, vnode)\n",
    "    return fg"
   ]
  },
  {
   "cell_type": "code",
   "execution_count": null,
   "metadata": {},
   "outputs": [],
   "source": [
    "H_b = RegularH(n=256, d_v=4, d_c=8)\n",
    "print(H_b.shape)"
   ]
  },
  {
   "cell_type": "code",
   "execution_count": null,
   "metadata": {},
   "outputs": [],
   "source": [
    "G_b = CodingMatrixG(H_b)\n",
    "print(G_b.shape)"
   ]
  },
  {
   "cell_type": "code",
   "execution_count": null,
   "metadata": {},
   "outputs": [],
   "source": [
    "msg = np.zeros(256, dtype=int)\n",
    "fg_b = make_ldpc_fg(H_b)\n",
    "fg_b = set_unary_factors(fg_b, msg, 0.05)\n",
    "beliefs_b = get_beliefs(fg_b)\n",
    "for (v,b) in beliefs_b.items():\n",
    "    print(v, b)"
   ]
  },
  {
   "cell_type": "markdown",
   "metadata": {},
   "source": [
    "## Q4 - Messsage passing on a tree"
   ]
  },
  {
   "cell_type": "code",
   "execution_count": null,
   "metadata": {},
   "outputs": [],
   "source": [
    "from scipy.stats import norm"
   ]
  },
  {
   "cell_type": "code",
   "execution_count": null,
   "metadata": {},
   "outputs": [],
   "source": [
    "norm.pdf(50, loc=50, scale=np.sqrt(10))"
   ]
  },
  {
   "cell_type": "code",
   "execution_count": null,
   "metadata": {},
   "outputs": [],
   "source": [
    "norm.pdf(50, loc=60, scale=np.sqrt(10))"
   ]
  },
  {
   "cell_type": "code",
   "execution_count": null,
   "metadata": {},
   "outputs": [],
   "source": [
    "norm.pdf(60, loc=50, scale=np.sqrt(10))"
   ]
  },
  {
   "cell_type": "code",
   "execution_count": null,
   "metadata": {},
   "outputs": [],
   "source": [
    "norm.pdf(60, loc=60, scale=np.sqrt(10))"
   ]
  },
  {
   "cell_type": "code",
   "execution_count": null,
   "metadata": {},
   "outputs": [],
   "source": []
  }
 ],
 "metadata": {
  "anaconda-cloud": {},
  "celltoolbar": "Raw Cell Format",
  "kernelspec": {
   "display_name": "Python 3",
   "language": "python",
   "name": "python3"
  },
  "language_info": {
   "codemirror_mode": {
    "name": "ipython",
    "version": 3
   },
   "file_extension": ".py",
   "mimetype": "text/x-python",
   "name": "python",
   "nbconvert_exporter": "python",
   "pygments_lexer": "ipython3",
   "version": "3.6.7"
  }
 },
 "nbformat": 4,
 "nbformat_minor": 1
}
