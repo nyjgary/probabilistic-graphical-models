{
 "cells": [
  {
   "cell_type": "markdown",
   "metadata": {},
   "source": [
    "# DS 1005 Hwk 3 - Belief Propagation"
   ]
  },
  {
   "cell_type": "markdown",
   "metadata": {},
   "source": [
    "## Q1 - Sum-product algorithm "
   ]
  },
  {
   "cell_type": "code",
   "execution_count": 1,
   "metadata": {},
   "outputs": [],
   "source": [
    "import numpy as np \n",
    "import networkx as nx\n",
    "from fglib import graphs, nodes, rv, inference, utils\n",
    "from itertools import product"
   ]
  },
  {
   "cell_type": "code",
   "execution_count": 2,
   "metadata": {},
   "outputs": [
    {
     "name": "stdout",
     "output_type": "stream",
     "text": [
      "[[0.2 0.3]\n",
      " [0.2 0.3]]\n",
      "(2, 2)\n",
      "[[[0.2]\n",
      "  [0.3]]\n",
      "\n",
      " [[0.2]\n",
      "  [0.3]]]\n",
      "(2, 2, 1)\n",
      "[[[0.2, 0.8], [0.25, 0.75]], [[0.7, 0.3], [0.3, 0.7]]]\n",
      "[[[0.04  0.16 ]\n",
      "  [0.075 0.225]]\n",
      "\n",
      " [[0.14  0.06 ]\n",
      "  [0.09  0.21 ]]]\n",
      "(2, 2, 2)\n",
      "[0.345 0.655]\n",
      "[[0.1725 0.1725]\n",
      " [0.4585 0.1965]]\n",
      "(2, 2)\n"
     ]
    }
   ],
   "source": [
    "dist_f3 = [0.5, 0.5]\n",
    "dist_f4 = [0.4,0.6]\n",
    "px3x4=np.outer(dist_f3,dist_f4)\n",
    "print(px3x4)\n",
    "print(px3x4.shape)\n",
    "px3x4=np.reshape(px3x4, np.shape(px3x4)+(1,))\n",
    "print(px3x4)\n",
    "print(px3x4.shape)\n",
    "px2_conditioned_x3x4=[[[0.2,0.8],\n",
    "                     [0.25,0.75],],\n",
    "                     [[0.7,0.3],\n",
    "                     [0.3,0.7]]]\n",
    "print(px2_conditioned_x3x4)\n",
    "dist_f234 =px3x4*px2_conditioned_x3x4\n",
    "print(dist_f234)\n",
    "print(dist_f234.shape)\n",
    "px2= np.sum(dist_f234, axis=(0,1))\n",
    "print(px2)\n",
    "px1_conditioned_x2 = [[0.5,0.5],\n",
    "                     [0.7,0.3]]\n",
    "dist_f12 =px2[:,np.newaxis]*px1_conditioned_x2\n",
    "print(dist_f12)\n",
    "print(dist_f12.shape)"
   ]
  },
  {
   "cell_type": "code",
   "execution_count": 3,
   "metadata": {},
   "outputs": [],
   "source": [
    "def make_debug_graph():\n",
    "\n",
    "    # Create factor graph\n",
    "    fg = graphs.FactorGraph()\n",
    "\n",
    "    # Create variable nodes\n",
    "    x1 = nodes.VNode(\"x1\", rv.Discrete)\n",
    "    x2 = nodes.VNode(\"x2\", rv.Discrete)\n",
    "    x3 = nodes.VNode(\"x3\", rv.Discrete)\n",
    "    x4 = nodes.VNode(\"x4\", rv.Discrete)\n",
    "\n",
    "    # Create factor nodes\n",
    "    f12 = nodes.FNode(\"f12\")\n",
    "    f234 = nodes.FNode(\"f234\")\n",
    "    f3 = nodes.FNode(\"f3\")\n",
    "    f4 = nodes.FNode(\"f4\")\n",
    "\n",
    "    # Add nodes to factor graph\n",
    "    fg.set_nodes([x1, x2, x3, x4])\n",
    "    fg.set_nodes([f12, f234, f3,f4 ])\n",
    "\n",
    "    # Add edges to factor graph\n",
    "    fg.set_edge(x1, f12)\n",
    "    fg.set_edge(f12, x2)\n",
    "    fg.set_edge(x2, f234)\n",
    "    fg.set_edge(f234, x3)\n",
    "    fg.set_edge(f234, x4)\n",
    "    fg.set_edge(x3, f3)\n",
    "    fg.set_edge(x4, f4)\n",
    "\n",
    "    #add potential for f_3: p(x3)\n",
    "    dist_f3 = [0.5, 0.5]\n",
    "    f3.factor = rv.Discrete(dist_f3,x3)\n",
    "    \n",
    "    #add potential for f_4: p(x4)\n",
    "    dist_f4 = [0.4,0.6]\n",
    "    f4.factor = rv.Discrete(dist_f4,x4)\n",
    "    \n",
    "    # add potential for f_{234}: p(x2, x3, x4) = p(x2|x3,x4) p(x3,x4)\n",
    "    px3x4=np.outer(dist_f3,dist_f4)\n",
    "    px3x4=np.reshape(px3x4, np.shape(px3x4)+(1,))\n",
    "    px2_conditioned_x3x4=[[[0.2,0.8],\n",
    "                         [0.25,0.75],],\n",
    "                         [[0.7,0.3],\n",
    "                         [0.3,0.7]]]\n",
    "    \n",
    "    dist_f234 =px3x4*px2_conditioned_x3x4\n",
    "    f234.factor = rv.Discrete(dist_f234,x3,x4,x2)\n",
    "   \n",
    "    # add potential for f_{12}:  p (x1,x2) = p(x1 | x2) p(x2)\n",
    "    px1_conditioned_x2 = [[0.5,0.5],\n",
    "                         [0.7,0.3]]\n",
    "    px2= np.sum(dist_f234, axis=(0,1))\n",
    "    dist_f12 =px2[:,np.newaxis]*px1_conditioned_x2\n",
    "    f12.factor = rv.Discrete(dist_f12,x2,x1)\n",
    "    # Perform sum-product algorithm on factor graph\n",
    "    # and request belief of variable node x1\n",
    "    \n",
    "    belief = inference.sum_product(fg, x1)\n",
    "    print(belief)\n",
    "    return (fg)\n"
   ]
  },
  {
   "cell_type": "markdown",
   "metadata": {},
   "source": [
    "### 1a. Implement sum-product algorithm "
   ]
  },
  {
   "cell_type": "code",
   "execution_count": 4,
   "metadata": {},
   "outputs": [],
   "source": [
    "def get_beliefs(model, n_iter=10):\n",
    "    \n",
    "    # initialize variable to factor messages \n",
    "    for v in model.get_vnodes():\n",
    "        for f in v.neighbors():\n",
    "            initial_msg = rv.Discrete(np.ones(2,), v)\n",
    "            model[v][f]['object'].set_message(v, f, initial_msg)\n",
    "\n",
    "    # run parallel updates for n_iter times \n",
    "    for i in range(n_iter):\n",
    "        \n",
    "        # update factor-to-variable messages\n",
    "        for f in model.get_fnodes():\n",
    "            for v in f.neighbors():\n",
    "                msg = f.factor \n",
    "                for n in f.neighbors(exclusion=v):\n",
    "                    msg *= model[n][f]['object'].get_message(n, f)\n",
    "                for n in f.neighbors(exclusion=v):\n",
    "                    msg = msg.marginalize(n, normalize=False)\n",
    "                model[f][v]['object'].set_message(f, v, msg)\n",
    "                \n",
    "        # update variable-to-factor messages \n",
    "        for v in model.get_vnodes(): \n",
    "            for f in v.neighbors():\n",
    "                msg = rv.Discrete(np.ones(2,), v)\n",
    "                for n in v.neighbors(exclusion=f):\n",
    "                    msg *= model[n][v]['object'].get_message(n, v)\n",
    "                model[v][f]['object'].set_message(v, f, msg)\n",
    "\n",
    "        # store beliefs of variable nodes \n",
    "        beliefs = {}\n",
    "        for v in model.get_vnodes():\n",
    "            beliefs[v] = v.belief(model)\n",
    "    \n",
    "    return beliefs"
   ]
  },
  {
   "cell_type": "markdown",
   "metadata": {},
   "source": [
    "### 1b. Test on 4-node factor graph provided "
   ]
  },
  {
   "cell_type": "code",
   "execution_count": 6,
   "metadata": {},
   "outputs": [
    {
     "name": "stdout",
     "output_type": "stream",
     "text": [
      "[0.65897284 0.34102716]\n",
      "Belief of variable nodes \n",
      "x1 [0.65897284 0.34102716]\n",
      "x2 [0.20513578 0.79486422]\n",
      "x3 [0.52640912 0.47359088]\n",
      "x4 [0.28679718 0.71320282]\n"
     ]
    }
   ],
   "source": [
    "fg = make_debug_graph()\n",
    "beliefs = get_beliefs(fg)\n",
    "print(\"Belief of variable nodes \")\n",
    "for (v,b) in beliefs.items():\n",
    "    print(v, b)"
   ]
  },
  {
   "cell_type": "markdown",
   "metadata": {},
   "source": [
    "## Q2 - Low-Density Priority Check (LDPC)"
   ]
  },
  {
   "cell_type": "code",
   "execution_count": 8,
   "metadata": {},
   "outputs": [],
   "source": [
    "from pyldpc import RegularH, CodingMatrixG # old version of API"
   ]
  },
  {
   "cell_type": "markdown",
   "metadata": {},
   "source": [
    "### Part a:  "
   ]
  },
  {
   "cell_type": "code",
   "execution_count": 16,
   "metadata": {},
   "outputs": [],
   "source": [
    "def get_factor_potentials(d_v): # where d_v = num of variable nodes in parity check equation \n",
    "    permutations = product([0,1], repeat=d_v)\n",
    "    phi = np.zeros([2 for i in range(d_v)])\n",
    "    for idx in permutations:\n",
    "        if sum(idx) % 2 == 0: \n",
    "            phi[idx] = 1\n",
    "        else:\n",
    "            phi[idx] = 0\n",
    "    return phi "
   ]
  },
  {
   "cell_type": "code",
   "execution_count": 17,
   "metadata": {},
   "outputs": [],
   "source": [
    "def make_ldpc_fg(H):\n",
    "    \"\"\" Given an arbitrary parity check matrix create a corresponding factor graph \"\"\"\n",
    "    \n",
    "    # initialize factor graph  \n",
    "    fg = graphs.FactorGraph()\n",
    "    \n",
    "    # infer the number of factor and variable nodes required\n",
    "    num_factors, num_variables = H.shape\n",
    "\n",
    "    # create factor nodes \n",
    "    fnodes = [] \n",
    "    for i in range(num_factors):\n",
    "        fnodes.append(nodes.FNode(\"f\" + str(i)))\n",
    "    \n",
    "    # create variable nodes \n",
    "    vnodes = [] \n",
    "    for j in range(num_variables):\n",
    "        vnodes.append(nodes.VNode(\"x\" + str(j), rv.Discrete))\n",
    "        \n",
    "    # add nodes to factor graph \n",
    "    fg.set_nodes(vnodes)\n",
    "    fg.set_nodes(fnodes)\n",
    "    \n",
    "    # add edges to factor graph based on H \n",
    "    for i in range(num_factors):\n",
    "        for j in range(num_variables):\n",
    "            if H[i,j] == 1:\n",
    "                fg.set_edge(fnodes[i], vnodes[j])\n",
    "                \n",
    "    # set factor potentials \n",
    "    for fnode in fg.get_fnodes():\n",
    "        vnodes2check = [vnode for vnode in fnode.neighbors()]\n",
    "        fnode_potentials = get_factor_potentials(len(vnodes2check))\n",
    "        fnode.factor = rv.Discrete(fnode_potentials, *vnodes2check)\n",
    "        \n",
    "    return fg"
   ]
  },
  {
   "cell_type": "code",
   "execution_count": 18,
   "metadata": {},
   "outputs": [
    {
     "name": "stdout",
     "output_type": "stream",
     "text": [
      "[[1 1 1 1 0 0 0 0]\n",
      " [0 0 0 0 1 1 1 1]\n",
      " [0 0 1 1 0 1 1 0]\n",
      " [1 1 0 0 1 0 0 1]]\n"
     ]
    }
   ],
   "source": [
    "# create parity check matrix (note d_v = ones per column, d_c = ones per row)\n",
    "H = RegularH(n=8, d_v=2, d_c=4)\n",
    "print(H)\n",
    "ldpc_fg = make_ldpc_fg(H)"
   ]
  },
  {
   "cell_type": "code",
   "execution_count": 19,
   "metadata": {},
   "outputs": [
    {
     "name": "stdout",
     "output_type": "stream",
     "text": [
      "Given H = [[1 1 1 1 0 0 0 0]\n",
      " [0 0 0 0 1 1 1 1]\n",
      " [0 0 1 1 0 1 1 0]\n",
      " [1 1 0 0 1 0 0 1]], this code is expected to fail parity check: [1 0 0 0 0 0 0 0]\n"
     ]
    }
   ],
   "source": [
    "# define invalid codewords \n",
    "invalid_code = np.array([1, 0, 0, 0, 0, 0, 0, 0]) # should fail parity check \n",
    "print(\"Given H = {}, this code is expected to fail parity check: {}\".format(H, invalid_code))"
   ]
  },
  {
   "cell_type": "markdown",
   "metadata": {},
   "source": [
    "### Part b: 128-bit LDPC"
   ]
  },
  {
   "cell_type": "code",
   "execution_count": 20,
   "metadata": {},
   "outputs": [
    {
     "name": "stdout",
     "output_type": "stream",
     "text": [
      "(128, 256)\n"
     ]
    }
   ],
   "source": [
    "H_b = RegularH(n=256, d_v=4, d_c=8)\n",
    "print(H_b.shape)"
   ]
  },
  {
   "cell_type": "code",
   "execution_count": 21,
   "metadata": {},
   "outputs": [
    {
     "name": "stdout",
     "output_type": "stream",
     "text": [
      "(131, 256)\n"
     ]
    }
   ],
   "source": [
    "G_b = CodingMatrixG(H_b)\n",
    "print(G_b.shape)"
   ]
  },
  {
   "cell_type": "code",
   "execution_count": 22,
   "metadata": {},
   "outputs": [],
   "source": [
    "def get_unary_potential(bit, err):\n",
    "    phi = np.zeros(shape=(2,))\n",
    "    phi[bit] = 1 - err \n",
    "    phi[1-bit] = err \n",
    "    return phi \n",
    "\n",
    "def set_unary_factors(fg, msg, err):\n",
    "    for vnode in fg.get_vnodes():\n",
    "        idx = int(str(vnode)[1:])\n",
    "        phi = get_unary_potential(msg[idx-1], err)\n",
    "        ufnode = nodes.FNode(\"u\" + str(idx))\n",
    "        ufnode.factor = rv.Discrete(phi, vnode)\n",
    "        fg.set_node(ufnode)\n",
    "        fg.set_edge(ufnode, vnode)\n",
    "    return fg"
   ]
  },
  {
   "cell_type": "code",
   "execution_count": 23,
   "metadata": {},
   "outputs": [
    {
     "name": "stderr",
     "output_type": "stream",
     "text": [
      "/anaconda3/envs/py36rocket/lib/python3.6/site-packages/fglib/rv.py:217: RuntimeWarning: overflow encountered in multiply\n",
      "  pmf = self.pmf * other.pmf\n",
      "/anaconda3/envs/py36rocket/lib/python3.6/site-packages/fglib/rv.py:292: RuntimeWarning: invalid value encountered in true_divide\n",
      "  pmf = self.pmf / np.abs(np.sum(self.pmf))\n",
      "/anaconda3/envs/py36rocket/lib/python3.6/site-packages/fglib/rv.py:217: RuntimeWarning: invalid value encountered in multiply\n",
      "  pmf = self.pmf * other.pmf\n"
     ]
    }
   ],
   "source": [
    "msg = np.zeros(256, dtype=int)\n",
    "fg_b = make_ldpc_fg(H_b)\n",
    "fg_b = set_unary_factors(fg_b, msg, 0.05)\n",
    "beliefs_b = get_beliefs(fg_b)"
   ]
  },
  {
   "cell_type": "code",
   "execution_count": 24,
   "metadata": {},
   "outputs": [
    {
     "name": "stdout",
     "output_type": "stream",
     "text": [
      "x0 [nan nan]\n",
      "x1 [nan nan]\n",
      "x2 [nan nan]\n",
      "x3 [nan nan]\n",
      "x4 [nan nan]\n",
      "x5 [nan nan]\n",
      "x6 [nan nan]\n",
      "x7 [nan nan]\n",
      "x8 [nan nan]\n",
      "x9 [nan nan]\n",
      "x10 [nan nan]\n",
      "x11 [nan nan]\n",
      "x12 [nan nan]\n",
      "x13 [nan nan]\n",
      "x14 [nan nan]\n",
      "x15 [nan nan]\n",
      "x16 [nan nan]\n",
      "x17 [nan nan]\n",
      "x18 [nan nan]\n",
      "x19 [nan nan]\n",
      "x20 [nan nan]\n",
      "x21 [nan nan]\n",
      "x22 [nan nan]\n",
      "x23 [nan nan]\n",
      "x24 [nan nan]\n",
      "x25 [nan nan]\n",
      "x26 [nan nan]\n",
      "x27 [nan nan]\n",
      "x28 [nan nan]\n",
      "x29 [nan nan]\n",
      "x30 [nan nan]\n",
      "x31 [nan nan]\n",
      "x32 [nan nan]\n",
      "x33 [nan nan]\n",
      "x34 [nan nan]\n",
      "x35 [nan nan]\n",
      "x36 [nan nan]\n",
      "x37 [nan nan]\n",
      "x38 [nan nan]\n",
      "x39 [nan nan]\n",
      "x40 [nan nan]\n",
      "x41 [nan nan]\n",
      "x42 [nan nan]\n",
      "x43 [nan nan]\n",
      "x44 [nan nan]\n",
      "x45 [nan nan]\n",
      "x46 [nan nan]\n",
      "x47 [nan nan]\n",
      "x48 [nan nan]\n",
      "x49 [nan nan]\n",
      "x50 [nan nan]\n",
      "x51 [nan nan]\n",
      "x52 [nan nan]\n",
      "x53 [nan nan]\n",
      "x54 [nan nan]\n",
      "x55 [nan nan]\n",
      "x56 [nan nan]\n",
      "x57 [nan nan]\n",
      "x58 [nan nan]\n",
      "x59 [nan nan]\n",
      "x60 [nan nan]\n",
      "x61 [nan nan]\n",
      "x62 [nan nan]\n",
      "x63 [nan nan]\n",
      "x64 [nan nan]\n",
      "x65 [nan nan]\n",
      "x66 [nan nan]\n",
      "x67 [nan nan]\n",
      "x68 [nan nan]\n",
      "x69 [nan nan]\n",
      "x70 [nan nan]\n",
      "x71 [nan nan]\n",
      "x72 [nan nan]\n",
      "x73 [nan nan]\n",
      "x74 [nan nan]\n",
      "x75 [nan nan]\n",
      "x76 [nan nan]\n",
      "x77 [nan nan]\n",
      "x78 [nan nan]\n",
      "x79 [nan nan]\n",
      "x80 [nan nan]\n",
      "x81 [nan nan]\n",
      "x82 [nan nan]\n",
      "x83 [nan nan]\n",
      "x84 [nan nan]\n",
      "x85 [nan nan]\n",
      "x86 [nan nan]\n",
      "x87 [nan nan]\n",
      "x88 [nan nan]\n",
      "x89 [nan nan]\n",
      "x90 [nan nan]\n",
      "x91 [nan nan]\n",
      "x92 [nan nan]\n",
      "x93 [nan nan]\n",
      "x94 [nan nan]\n",
      "x95 [nan nan]\n",
      "x96 [nan nan]\n",
      "x97 [nan nan]\n",
      "x98 [nan nan]\n",
      "x99 [nan nan]\n",
      "x100 [nan nan]\n",
      "x101 [nan nan]\n",
      "x102 [nan nan]\n",
      "x103 [nan nan]\n",
      "x104 [nan nan]\n",
      "x105 [nan nan]\n",
      "x106 [nan nan]\n",
      "x107 [nan nan]\n",
      "x108 [nan nan]\n",
      "x109 [nan nan]\n",
      "x110 [nan nan]\n",
      "x111 [nan nan]\n",
      "x112 [nan nan]\n",
      "x113 [nan nan]\n",
      "x114 [nan nan]\n",
      "x115 [nan nan]\n",
      "x116 [nan nan]\n",
      "x117 [nan nan]\n",
      "x118 [nan nan]\n",
      "x119 [nan nan]\n",
      "x120 [nan nan]\n",
      "x121 [nan nan]\n",
      "x122 [nan nan]\n",
      "x123 [nan nan]\n",
      "x124 [nan nan]\n",
      "x125 [nan nan]\n",
      "x126 [nan nan]\n",
      "x127 [nan nan]\n",
      "x128 [nan nan]\n",
      "x129 [nan nan]\n",
      "x130 [nan nan]\n",
      "x131 [nan nan]\n",
      "x132 [nan nan]\n",
      "x133 [nan nan]\n",
      "x134 [nan nan]\n",
      "x135 [nan nan]\n",
      "x136 [nan nan]\n",
      "x137 [nan nan]\n",
      "x138 [nan nan]\n",
      "x139 [nan nan]\n",
      "x140 [nan nan]\n",
      "x141 [nan nan]\n",
      "x142 [nan nan]\n",
      "x143 [nan nan]\n",
      "x144 [nan nan]\n",
      "x145 [nan nan]\n",
      "x146 [nan nan]\n",
      "x147 [nan nan]\n",
      "x148 [nan nan]\n",
      "x149 [nan nan]\n",
      "x150 [nan nan]\n",
      "x151 [nan nan]\n",
      "x152 [nan nan]\n",
      "x153 [nan nan]\n",
      "x154 [nan nan]\n",
      "x155 [nan nan]\n",
      "x156 [nan nan]\n",
      "x157 [nan nan]\n",
      "x158 [nan nan]\n",
      "x159 [nan nan]\n",
      "x160 [nan nan]\n",
      "x161 [nan nan]\n",
      "x162 [nan nan]\n",
      "x163 [nan nan]\n",
      "x164 [nan nan]\n",
      "x165 [nan nan]\n",
      "x166 [nan nan]\n",
      "x167 [nan nan]\n",
      "x168 [nan nan]\n",
      "x169 [nan nan]\n",
      "x170 [nan nan]\n",
      "x171 [nan nan]\n",
      "x172 [nan nan]\n",
      "x173 [nan nan]\n",
      "x174 [nan nan]\n",
      "x175 [nan nan]\n",
      "x176 [nan nan]\n",
      "x177 [nan nan]\n",
      "x178 [nan nan]\n",
      "x179 [nan nan]\n",
      "x180 [nan nan]\n",
      "x181 [nan nan]\n",
      "x182 [nan nan]\n",
      "x183 [nan nan]\n",
      "x184 [nan nan]\n",
      "x185 [nan nan]\n",
      "x186 [nan nan]\n",
      "x187 [nan nan]\n",
      "x188 [nan nan]\n",
      "x189 [nan nan]\n",
      "x190 [nan nan]\n",
      "x191 [nan nan]\n",
      "x192 [nan nan]\n",
      "x193 [nan nan]\n",
      "x194 [nan nan]\n",
      "x195 [nan nan]\n",
      "x196 [nan nan]\n",
      "x197 [nan nan]\n",
      "x198 [nan nan]\n",
      "x199 [nan nan]\n",
      "x200 [nan nan]\n",
      "x201 [nan nan]\n",
      "x202 [nan nan]\n",
      "x203 [nan nan]\n",
      "x204 [nan nan]\n",
      "x205 [nan nan]\n",
      "x206 [nan nan]\n",
      "x207 [nan nan]\n",
      "x208 [nan nan]\n",
      "x209 [nan nan]\n",
      "x210 [nan nan]\n",
      "x211 [nan nan]\n",
      "x212 [nan nan]\n",
      "x213 [nan nan]\n",
      "x214 [nan nan]\n",
      "x215 [nan nan]\n",
      "x216 [nan nan]\n",
      "x217 [nan nan]\n",
      "x218 [nan nan]\n",
      "x219 [nan nan]\n",
      "x220 [nan nan]\n",
      "x221 [nan nan]\n",
      "x222 [nan nan]\n",
      "x223 [nan nan]\n",
      "x224 [nan nan]\n",
      "x225 [nan nan]\n",
      "x226 [nan nan]\n",
      "x227 [nan nan]\n",
      "x228 [nan nan]\n",
      "x229 [nan nan]\n",
      "x230 [nan nan]\n",
      "x231 [nan nan]\n",
      "x232 [nan nan]\n",
      "x233 [nan nan]\n",
      "x234 [nan nan]\n",
      "x235 [nan nan]\n",
      "x236 [nan nan]\n",
      "x237 [nan nan]\n",
      "x238 [nan nan]\n",
      "x239 [nan nan]\n",
      "x240 [nan nan]\n",
      "x241 [nan nan]\n",
      "x242 [nan nan]\n",
      "x243 [nan nan]\n",
      "x244 [nan nan]\n",
      "x245 [nan nan]\n",
      "x246 [nan nan]\n",
      "x247 [nan nan]\n",
      "x248 [nan nan]\n",
      "x249 [nan nan]\n",
      "x250 [nan nan]\n",
      "x251 [nan nan]\n",
      "x252 [nan nan]\n",
      "x253 [nan nan]\n",
      "x254 [nan nan]\n",
      "x255 [nan nan]\n"
     ]
    }
   ],
   "source": [
    "for (v,b) in beliefs_b.items():\n",
    "    print(v, b)"
   ]
  },
  {
   "cell_type": "markdown",
   "metadata": {},
   "source": [
    "## Q4 - Messsage passing on a tree"
   ]
  },
  {
   "cell_type": "code",
   "execution_count": null,
   "metadata": {},
   "outputs": [],
   "source": [
    "from scipy.stats import norm"
   ]
  },
  {
   "cell_type": "code",
   "execution_count": null,
   "metadata": {},
   "outputs": [],
   "source": [
    "norm.pdf(50, loc=50, scale=np.sqrt(10))"
   ]
  },
  {
   "cell_type": "code",
   "execution_count": null,
   "metadata": {},
   "outputs": [],
   "source": [
    "norm.pdf(50, loc=60, scale=np.sqrt(10))"
   ]
  },
  {
   "cell_type": "code",
   "execution_count": null,
   "metadata": {},
   "outputs": [],
   "source": [
    "norm.pdf(60, loc=50, scale=np.sqrt(10))"
   ]
  },
  {
   "cell_type": "code",
   "execution_count": null,
   "metadata": {},
   "outputs": [],
   "source": [
    "norm.pdf(60, loc=60, scale=np.sqrt(10))"
   ]
  },
  {
   "cell_type": "code",
   "execution_count": null,
   "metadata": {},
   "outputs": [],
   "source": []
  }
 ],
 "metadata": {
  "anaconda-cloud": {},
  "celltoolbar": "Raw Cell Format",
  "kernelspec": {
   "display_name": "Python 3",
   "language": "python",
   "name": "python3"
  },
  "language_info": {
   "codemirror_mode": {
    "name": "ipython",
    "version": 3
   },
   "file_extension": ".py",
   "mimetype": "text/x-python",
   "name": "python",
   "nbconvert_exporter": "python",
   "pygments_lexer": "ipython3",
   "version": "3.6.7"
  }
 },
 "nbformat": 4,
 "nbformat_minor": 1
}
