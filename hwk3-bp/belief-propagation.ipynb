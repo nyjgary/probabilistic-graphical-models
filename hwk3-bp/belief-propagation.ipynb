{
 "cells": [
  {
   "cell_type": "markdown",
   "metadata": {},
   "source": [
    "# DS 1005 Hwk 3 - Belief Propagation"
   ]
  },
  {
   "cell_type": "markdown",
   "metadata": {},
   "source": [
    "## Q1 - Sum-product algorithm "
   ]
  },
  {
   "cell_type": "code",
   "execution_count": 1,
   "metadata": {},
   "outputs": [],
   "source": [
    "import numpy as np \n",
    "import networkx as nx\n",
    "from fglib import graphs, nodes, rv, inference, utils\n",
    "from itertools import product\n",
    "import matplotlib.pyplot as plt\n",
    "import cv2\n",
    "%matplotlib inline"
   ]
  },
  {
   "cell_type": "code",
   "execution_count": 2,
   "metadata": {},
   "outputs": [
    {
     "name": "stdout",
     "output_type": "stream",
     "text": [
      "[[0.2 0.3]\n",
      " [0.2 0.3]]\n",
      "(2, 2)\n",
      "[[[0.2]\n",
      "  [0.3]]\n",
      "\n",
      " [[0.2]\n",
      "  [0.3]]]\n",
      "(2, 2, 1)\n",
      "[[[0.2, 0.8], [0.25, 0.75]], [[0.7, 0.3], [0.3, 0.7]]]\n",
      "[[[0.04  0.16 ]\n",
      "  [0.075 0.225]]\n",
      "\n",
      " [[0.14  0.06 ]\n",
      "  [0.09  0.21 ]]]\n",
      "(2, 2, 2)\n",
      "[0.345 0.655]\n",
      "[[0.1725 0.1725]\n",
      " [0.4585 0.1965]]\n",
      "(2, 2)\n"
     ]
    }
   ],
   "source": [
    "dist_f3 = [0.5, 0.5]\n",
    "dist_f4 = [0.4,0.6]\n",
    "px3x4=np.outer(dist_f3,dist_f4)\n",
    "print(px3x4)\n",
    "print(px3x4.shape)\n",
    "px3x4=np.reshape(px3x4, np.shape(px3x4)+(1,))\n",
    "print(px3x4)\n",
    "print(px3x4.shape)\n",
    "px2_conditioned_x3x4=[[[0.2,0.8],\n",
    "                     [0.25,0.75],],\n",
    "                     [[0.7,0.3],\n",
    "                     [0.3,0.7]]]\n",
    "print(px2_conditioned_x3x4)\n",
    "dist_f234 =px3x4*px2_conditioned_x3x4\n",
    "print(dist_f234)\n",
    "print(dist_f234.shape)\n",
    "px2= np.sum(dist_f234, axis=(0,1))\n",
    "print(px2)\n",
    "px1_conditioned_x2 = [[0.5,0.5],\n",
    "                     [0.7,0.3]]\n",
    "dist_f12 =px2[:,np.newaxis]*px1_conditioned_x2\n",
    "print(dist_f12)\n",
    "print(dist_f12.shape)"
   ]
  },
  {
   "cell_type": "code",
   "execution_count": 3,
   "metadata": {},
   "outputs": [],
   "source": [
    "def make_debug_graph():\n",
    "\n",
    "    # Create factor graph\n",
    "    fg = graphs.FactorGraph()\n",
    "\n",
    "    # Create variable nodes\n",
    "    x1 = nodes.VNode(\"x1\", rv.Discrete)\n",
    "    x2 = nodes.VNode(\"x2\", rv.Discrete)\n",
    "    x3 = nodes.VNode(\"x3\", rv.Discrete)\n",
    "    x4 = nodes.VNode(\"x4\", rv.Discrete)\n",
    "\n",
    "    # Create factor nodes\n",
    "    f12 = nodes.FNode(\"f12\")\n",
    "    f234 = nodes.FNode(\"f234\")\n",
    "    f3 = nodes.FNode(\"f3\")\n",
    "    f4 = nodes.FNode(\"f4\")\n",
    "\n",
    "    # Add nodes to factor graph\n",
    "    fg.set_nodes([x1, x2, x3, x4])\n",
    "    fg.set_nodes([f12, f234, f3,f4 ])\n",
    "\n",
    "    # Add edges to factor graph\n",
    "    fg.set_edge(x1, f12)\n",
    "    fg.set_edge(f12, x2)\n",
    "    fg.set_edge(x2, f234)\n",
    "    fg.set_edge(f234, x3)\n",
    "    fg.set_edge(f234, x4)\n",
    "    fg.set_edge(x3, f3)\n",
    "    fg.set_edge(x4, f4)\n",
    "\n",
    "    #add potential for f_3: p(x3)\n",
    "    dist_f3 = [0.5, 0.5]\n",
    "    f3.factor = rv.Discrete(dist_f3,x3)\n",
    "    \n",
    "    #add potential for f_4: p(x4)\n",
    "    dist_f4 = [0.4,0.6]\n",
    "    f4.factor = rv.Discrete(dist_f4,x4)\n",
    "    \n",
    "    # add potential for f_{234}: p(x2, x3, x4) = p(x2|x3,x4) p(x3,x4)\n",
    "    px3x4=np.outer(dist_f3,dist_f4)\n",
    "    px3x4=np.reshape(px3x4, np.shape(px3x4)+(1,))\n",
    "    px2_conditioned_x3x4=[[[0.2,0.8],\n",
    "                         [0.25,0.75],],\n",
    "                         [[0.7,0.3],\n",
    "                         [0.3,0.7]]]\n",
    "    \n",
    "    dist_f234 =px3x4*px2_conditioned_x3x4\n",
    "    f234.factor = rv.Discrete(dist_f234,x3,x4,x2)\n",
    "   \n",
    "    # add potential for f_{12}:  p (x1,x2) = p(x1 | x2) p(x2)\n",
    "    px1_conditioned_x2 = [[0.5,0.5],\n",
    "                         [0.7,0.3]]\n",
    "    px2= np.sum(dist_f234, axis=(0,1))\n",
    "    dist_f12 =px2[:,np.newaxis]*px1_conditioned_x2\n",
    "    f12.factor = rv.Discrete(dist_f12,x2,x1)\n",
    "    # Perform sum-product algorithm on factor graph\n",
    "    # and request belief of variable node x1\n",
    "    \n",
    "    belief = inference.sum_product(fg, x1)\n",
    "    print(belief)\n",
    "    return (fg)\n"
   ]
  },
  {
   "cell_type": "markdown",
   "metadata": {},
   "source": [
    "### 1a. Implement sum-product algorithm "
   ]
  },
  {
   "cell_type": "code",
   "execution_count": 4,
   "metadata": {},
   "outputs": [],
   "source": [
    "# # numerically unstable \n",
    "\n",
    "# def get_beliefs(model, n_iter=10):\n",
    "    \n",
    "#     # initialize variable to factor messages \n",
    "#     for v in model.get_vnodes():\n",
    "#         for f in v.neighbors():\n",
    "#             initial_msg = rv.Discrete(np.ones(2,), v)\n",
    "#             model[v][f]['object'].set_message(v, f, initial_msg)\n",
    "\n",
    "#     # run parallel updates for n_iter times \n",
    "#     for i in range(n_iter):\n",
    "        \n",
    "#         # update factor-to-variable messages\n",
    "#         for f in model.get_fnodes():\n",
    "#             for v in f.neighbors():\n",
    "#                 msg = f.factor \n",
    "#                 for n in f.neighbors(exclusion=v):\n",
    "#                     msg *= model[n][f]['object'].get_message(n, f)\n",
    "#                 for n in f.neighbors(exclusion=v):\n",
    "#                     msg = msg.marginalize(n, normalize=False)\n",
    "#                 model[f][v]['object'].set_message(f, v, msg)\n",
    "                \n",
    "#         # update variable-to-factor messages \n",
    "#         for v in model.get_vnodes(): \n",
    "#             for f in v.neighbors():\n",
    "#                 msg = rv.Discrete(np.ones(2,), v)\n",
    "#                 for n in v.neighbors(exclusion=f):\n",
    "#                     msg *= model[n][v]['object'].get_message(n, v)\n",
    "#                 model[v][f]['object'].set_message(v, f, msg)\n",
    "\n",
    "#         # store beliefs of variable nodes \n",
    "#         beliefs = {}\n",
    "#         for v in model.get_vnodes():\n",
    "#             beliefs[v] = v.belief(model)\n",
    "    \n",
    "#     return beliefs"
   ]
  },
  {
   "cell_type": "code",
   "execution_count": 16,
   "metadata": {},
   "outputs": [],
   "source": [
    "# def get_beliefs(model, n_iter=10):\n",
    "    \n",
    "#     # initialize variable to factor messages \n",
    "#     for v in model.get_vnodes():\n",
    "#         for f in v.neighbors():\n",
    "#             initial_msg = rv.Discrete(np.ones(2,), v)\n",
    "#             model[v][f]['object'].set_message(v, f, initial_msg.normalize())\n",
    "\n",
    "#     # run parallel updates for n_iter times \n",
    "#     for i in range(n_iter):\n",
    "        \n",
    "#         # update factor-to-variable messages\n",
    "#         for f in model.get_fnodes():\n",
    "#             for v in f.neighbors():\n",
    "#                 msg = f.factor \n",
    "#                 for n in f.neighbors(exclusion=v):\n",
    "#                     msg *= model[n][f]['object'].get_message(n, f)\n",
    "#                     msg = msg.normalize()\n",
    "#                 for n in f.neighbors(exclusion=v):\n",
    "#                     msg = msg.marginalize(n, normalize=True)\n",
    "#                 model[f][v]['object'].set_message(f, v, msg.normalize())\n",
    "                \n",
    "#         # update variable-to-factor messages \n",
    "#         for v in model.get_vnodes(): \n",
    "#             for f in v.neighbors():\n",
    "#                 msg = rv.Discrete(np.ones(2,), v)\n",
    "#                 for n in v.neighbors(exclusion=f):\n",
    "#                     msg *= model[n][v]['object'].get_message(n, v)\n",
    "#                     msg = msg.normalize()\n",
    "#                 model[v][f]['object'].set_message(v, f, msg.normalize())\n",
    "\n",
    "#         # store beliefs of variable nodes \n",
    "#         beliefs = {}\n",
    "#         for v in model.get_vnodes():\n",
    "#             belief = rv.Discrete(np.ones(2,), v)\n",
    "#             for n in v.neighbors():\n",
    "#                 belief *= model[n][v]['object'].get_message(n, v)\n",
    "#             beliefs[v] = belief.normalize()\n",
    "    \n",
    "#     return beliefs\n",
    "\n",
    "def get_beliefs_at_iter(beliefs_history, n_iter):\n",
    "    beliefs_at_iter = {}\n",
    "    for v in beliefs_history: \n",
    "        beliefs_at_iter[v] = beliefs_history[v][n_iter]\n",
    "    return beliefs_at_iter \n",
    "\n",
    "def get_beliefs(model, n_iter=10):\n",
    "    \n",
    "    beliefs_history = {v:[] for v in model.get_vnodes()}\n",
    "    \n",
    "    # initialize variable to factor messages \n",
    "    for v in model.get_vnodes():\n",
    "        for f in v.neighbors():\n",
    "            initial_msg = rv.Discrete(np.ones(2,), v)\n",
    "            model[v][f]['object'].set_message(v, f, initial_msg.normalize())\n",
    "\n",
    "    # run parallel updates for n_iter times \n",
    "    for i in range(n_iter):\n",
    "        \n",
    "        # update factor-to-variable messages\n",
    "        for f in model.get_fnodes():\n",
    "            for v in f.neighbors():\n",
    "                msg = f.factor \n",
    "                for n in f.neighbors(exclusion=v):\n",
    "                    msg *= model[n][f]['object'].get_message(n, f)\n",
    "                    msg = msg.normalize()\n",
    "                for n in f.neighbors(exclusion=v):\n",
    "                    msg = msg.marginalize(n, normalize=True)\n",
    "                model[f][v]['object'].set_message(f, v, msg.normalize())\n",
    "                \n",
    "        # update variable-to-factor messages \n",
    "        for v in model.get_vnodes(): \n",
    "            for f in v.neighbors():\n",
    "                msg = rv.Discrete(np.ones(2,), v)\n",
    "                for n in v.neighbors(exclusion=f):\n",
    "                    msg *= model[n][v]['object'].get_message(n, v)\n",
    "                    msg = msg.normalize()\n",
    "                model[v][f]['object'].set_message(v, f, msg.normalize())\n",
    "\n",
    "        # store beliefs of variable nodes \n",
    "        for v in model.get_vnodes():\n",
    "            belief = rv.Discrete(np.ones(2,), v)\n",
    "            for n in v.neighbors():\n",
    "                belief *= model[n][v]['object'].get_message(n, v)\n",
    "            beliefs_history[v].append(belief.normalize())\n",
    "            \n",
    "    beliefs = get_beliefs_at_iter(beliefs_history, n_iter-1)\n",
    "    \n",
    "    return beliefs, beliefs_history"
   ]
  },
  {
   "cell_type": "code",
   "execution_count": 17,
   "metadata": {},
   "outputs": [],
   "source": [
    "# # attempt to take log, but answers don't seem correct\n",
    "\n",
    "# def get_beliefs_log(model, n_iter=10):\n",
    "    \n",
    "#     # initialize variable to factor messages \n",
    "#     for v in model.get_vnodes():\n",
    "#         for f in v.neighbors():\n",
    "#             initial_msg = rv.Discrete(np.ones(2,), v).normalize().log()\n",
    "#             model[v][f]['object'].set_message(v, f, initial_msg, logarithmic=True)\n",
    "\n",
    "#     # run parallel updates for n_iter times \n",
    "#     for i in range(n_iter):\n",
    "        \n",
    "#         # update factor-to-variable messages\n",
    "#         for f in model.get_fnodes():\n",
    "#             for v in f.neighbors():\n",
    "#                 sum_lambdas = rv.Discrete(np.zeros(2,), v)\n",
    "#                 for n in f.neighbors(exclusion=v):\n",
    "#                     sum_lambdas += model[n][f]['object'].get_message(n, f)\n",
    "#                 max_lambda = max(np.nan_to_num(sum_lambdas.pmf.flatten()))\n",
    "#                 sum_lambdas = rv.Discrete(sum_lambdas.pmf - max_lambda, v)\n",
    "#                 msg = rv.Discrete(np.exp(sum_lambdas.pmf), *sum_lambdas.dim)\n",
    "#                 msg = f.factor * msg\n",
    "#                 for n in f.neighbors(exclusion=v):\n",
    "#                     msg = msg.marginalize(n, normalize=False)\n",
    "#                 msg = msg.log()\n",
    "#                 msg = rv.Discrete(msg.pmf + max_lambda, v)\n",
    "#                 msg = msg.normalize()\n",
    "#                 model[f][v]['object'].set_message(f, v, msg, logarithmic=True)\n",
    "                \n",
    "#         # update variable-to-factor messages \n",
    "#         for v in model.get_vnodes(): \n",
    "#             for f in v.neighbors():\n",
    "#                 msg = rv.Discrete(np.zeros(2,), v)\n",
    "#                 for n in v.neighbors(exclusion=f):\n",
    "#                     msg += model[n][v]['object'].get_message(n, v)\n",
    "#                 model[v][f]['object'].set_message(v, f, msg, logarithmic=True)\n",
    "\n",
    "#         # store beliefs of variable nodes \n",
    "#         beliefs = {}\n",
    "#         for v in model.get_vnodes():\n",
    "#             log_b = v.belief(normalize=False)\n",
    "#             b = rv.Discrete(np.exp(log_b.pmf), log_b.dim).normalize()\n",
    "#             beliefs[v] = b\n",
    "    \n",
    "#     return beliefs"
   ]
  },
  {
   "cell_type": "markdown",
   "metadata": {},
   "source": [
    "### 1b. Test on 4-node factor graph provided "
   ]
  },
  {
   "cell_type": "code",
   "execution_count": 20,
   "metadata": {},
   "outputs": [
    {
     "name": "stdout",
     "output_type": "stream",
     "text": [
      "[0.65897284 0.34102716]\n",
      "x1 [0.65897284 0.34102716]\n",
      "x2 [0.20513578 0.79486422]\n",
      "x3 [0.52640912 0.47359088]\n",
      "x4 [0.28679718 0.71320282]\n"
     ]
    }
   ],
   "source": [
    "fg = make_debug_graph()\n",
    "beliefs, _ = get_beliefs(fg)\n",
    "for (v,b) in beliefs.items():\n",
    "    print(v, b)"
   ]
  },
  {
   "cell_type": "markdown",
   "metadata": {},
   "source": [
    "## Q2 - Low-Density Priority Check (LDPC)"
   ]
  },
  {
   "cell_type": "code",
   "execution_count": 21,
   "metadata": {},
   "outputs": [],
   "source": [
    "from pyldpc import RegularH, CodingMatrixG # old version of API"
   ]
  },
  {
   "cell_type": "markdown",
   "metadata": {},
   "source": [
    "### Part a:  "
   ]
  },
  {
   "cell_type": "code",
   "execution_count": 22,
   "metadata": {},
   "outputs": [],
   "source": [
    "def get_factor_potentials(d_v): # where d_v = num of variable nodes in parity check equation \n",
    "    permutations = product([0,1], repeat=d_v)\n",
    "    phi = np.zeros([2 for i in range(d_v)])\n",
    "    for idx in permutations:\n",
    "        if sum(idx) % 2 == 0: \n",
    "            phi[idx] = 1\n",
    "        else:\n",
    "            phi[idx] = 0\n",
    "    return phi "
   ]
  },
  {
   "cell_type": "code",
   "execution_count": 23,
   "metadata": {},
   "outputs": [],
   "source": [
    "def make_ldpc_fg(H):\n",
    "    \"\"\" Given an arbitrary parity check matrix create a corresponding factor graph \"\"\"\n",
    "    \n",
    "    # initialize factor graph  \n",
    "    fg = graphs.FactorGraph()\n",
    "    \n",
    "    # infer the number of factor and variable nodes required\n",
    "    num_factors, num_variables = H.shape\n",
    "\n",
    "    # create factor nodes \n",
    "    fnodes = [] \n",
    "    for i in range(num_factors):\n",
    "        fnodes.append(nodes.FNode(\"f\" + str(i)))\n",
    "    \n",
    "    # create variable nodes \n",
    "    vnodes = [] \n",
    "    for j in range(num_variables):\n",
    "        vnodes.append(nodes.VNode(\"x\" + str(j), rv.Discrete))\n",
    "        \n",
    "    # add nodes to factor graph \n",
    "    fg.set_nodes(vnodes)\n",
    "    fg.set_nodes(fnodes)\n",
    "    \n",
    "    # add edges to factor graph based on H \n",
    "    for i in range(num_factors):\n",
    "        for j in range(num_variables):\n",
    "            if H[i,j] == 1:\n",
    "                fg.set_edge(fnodes[i], vnodes[j])\n",
    "                \n",
    "    # set factor potentials \n",
    "    for fnode in fg.get_fnodes():\n",
    "        vnodes2check = [vnode for vnode in fnode.neighbors()]\n",
    "        fnode_potentials = get_factor_potentials(len(vnodes2check))\n",
    "        fnode.factor = rv.Discrete(fnode_potentials, *vnodes2check)\n",
    "        \n",
    "    return fg"
   ]
  },
  {
   "cell_type": "code",
   "execution_count": 24,
   "metadata": {},
   "outputs": [
    {
     "name": "stdout",
     "output_type": "stream",
     "text": [
      "[[1 1 1 1 0 0 0 0]\n",
      " [0 0 0 0 1 1 1 1]\n",
      " [1 0 0 1 1 1 0 0]\n",
      " [0 1 1 0 0 0 1 1]]\n"
     ]
    }
   ],
   "source": [
    "# create parity check matrix (note d_v = ones per column, d_c = ones per row)\n",
    "H = RegularH(n=8, d_v=2, d_c=4)\n",
    "print(H)\n",
    "ldpc_fg = make_ldpc_fg(H)"
   ]
  },
  {
   "cell_type": "code",
   "execution_count": 25,
   "metadata": {},
   "outputs": [],
   "source": [
    "def evaluate_potential(model, codeword):\n",
    "    p = 1\n",
    "    for f in model.get_fnodes():\n",
    "        v_checked = [int(str(v)[1:]) for v in f.neighbors()]\n",
    "        idx = tuple([codeword[i] for i in v_checked])\n",
    "        p *= f.factor.pmf[idx]\n",
    "    return p"
   ]
  },
  {
   "cell_type": "code",
   "execution_count": 26,
   "metadata": {},
   "outputs": [
    {
     "name": "stdout",
     "output_type": "stream",
     "text": [
      "Given H = [[1 1 1 1 0 0 0 0]\n",
      " [0 0 0 0 1 1 1 1]\n",
      " [1 0 0 1 1 1 0 0]\n",
      " [0 1 1 0 0 0 1 1]], this code is expected to fail parity check: [1 0 0 0 0 0 0 0]\n",
      "Prob is 0.0\n"
     ]
    }
   ],
   "source": [
    "# define invalid codewords \n",
    "invalid_code = np.array([1, 0, 0, 0, 0, 0, 0, 0]) # should fail parity check \n",
    "print(\"Given H = {}, this code is expected to fail parity check: {}\".format(H, invalid_code))\n",
    "prob = evaluate_potential(ldpc_fg, invalid_code)\n",
    "print(\"Prob is {}\".format(prob))"
   ]
  },
  {
   "cell_type": "code",
   "execution_count": 27,
   "metadata": {},
   "outputs": [
    {
     "name": "stdout",
     "output_type": "stream",
     "text": [
      "Zeros should always pass parity check: [0 0 0 0 0 0 0 0]\n",
      "Prob is 1.0\n"
     ]
    }
   ],
   "source": [
    "# zero should pass \n",
    "valid_code = np.zeros(8, dtype=int)\n",
    "print(\"Zeros should always pass parity check: {}\".format(valid_code))\n",
    "prob = evaluate_potential(ldpc_fg, valid_code)\n",
    "print(\"Prob is {}\".format(prob))"
   ]
  },
  {
   "cell_type": "markdown",
   "metadata": {},
   "source": [
    "### Part b: 128-bit LDPC"
   ]
  },
  {
   "cell_type": "code",
   "execution_count": 84,
   "metadata": {},
   "outputs": [],
   "source": [
    "def get_unary_potential(bit, err):\n",
    "    phi = np.zeros(shape=(2,))\n",
    "    phi[bit] = 1 - err \n",
    "    phi[1-bit] = err \n",
    "    return phi \n",
    "\n",
    "def set_unary_factors(fg, msg, err):\n",
    "    for vnode in fg.get_vnodes():\n",
    "        idx = int(str(vnode)[1:])\n",
    "        phi = get_unary_potential(msg[idx-1], err)\n",
    "        ufnode = nodes.FNode(\"u\" + str(idx))\n",
    "        ufnode.factor = rv.Discrete(phi, vnode)\n",
    "        fg.set_node(ufnode)\n",
    "        fg.set_edge(ufnode, vnode)\n",
    "    return fg\n",
    "\n",
    "def transmit(original, err):\n",
    "    is_flipped = np.random.rand(len(original)) < err\n",
    "    transmitted = np.where(is_flipped, 1 - original, original)\n",
    "    return transmitted\n",
    "\n",
    "def decode_msg(beliefs):\n",
    "    decoded = np.zeros(len(beliefs))\n",
    "    for v in beliefs:\n",
    "        pos = int(str(v)[1:]) \n",
    "        decoded[pos] = np.asscalar(np.argmax(beliefs[v].pmf))\n",
    "    return decoded "
   ]
  },
  {
   "cell_type": "code",
   "execution_count": 77,
   "metadata": {},
   "outputs": [
    {
     "data": {
      "text/plain": [
       "array([0, 1, 0, 0, 0, 0, 0, 0, 1, 0, 0, 0, 0, 1, 0, 0, 0, 0, 0, 0, 0, 0,\n",
       "       0, 0, 0, 0, 0, 0, 0, 0, 0, 0, 0, 0, 0, 0, 0, 0, 0, 0, 1, 0, 0, 1,\n",
       "       1, 0, 0, 0, 0, 0, 0, 0, 0, 0, 0, 0, 0, 0, 0, 0, 0, 0, 0, 0, 0, 1,\n",
       "       1, 0, 0, 0, 0, 1, 0, 0, 0, 0, 0, 0, 0, 1, 0, 0, 0, 0, 1, 0, 0, 0,\n",
       "       0, 0, 0, 0, 1, 0, 1, 0, 1, 0, 0, 0, 0, 0, 0, 0, 0, 0, 0, 0, 0, 1,\n",
       "       1, 1, 0, 0, 0, 0, 0, 0, 0, 0, 0, 0, 0, 0, 0, 0, 0, 0, 1, 0, 0, 0,\n",
       "       0, 0, 0, 1, 0, 0, 0, 0, 0, 0, 0, 0, 0, 0, 0, 0, 1, 0, 1, 1, 0, 0,\n",
       "       0, 0, 0, 0, 1, 0, 0, 0, 0, 0, 0, 0, 0, 0, 0, 0, 1, 0, 0, 0, 1, 0,\n",
       "       0, 0, 0, 0, 0, 0, 0, 0, 0, 0, 0, 0, 0, 0, 0, 0, 0, 1, 0, 1, 0, 1,\n",
       "       0, 0, 0, 0, 0, 0, 0, 0, 1, 0, 0, 0, 0, 0, 1, 0, 1, 1, 0, 0, 0, 0,\n",
       "       0, 0, 0, 0, 0, 0, 0, 0, 0, 0, 0, 0, 0, 0, 0, 0, 0, 0, 1, 1, 0, 0,\n",
       "       0, 0, 0, 0, 0, 0, 1, 0, 0, 0, 1, 0, 0, 0])"
      ]
     },
     "execution_count": 77,
     "metadata": {},
     "output_type": "execute_result"
    }
   ],
   "source": [
    "original_codeword = np.zeros(256, dtype=int)\n",
    "transmitted = transmit(original_codeword, err=.1)\n",
    "transmitted"
   ]
  },
  {
   "cell_type": "code",
   "execution_count": 78,
   "metadata": {},
   "outputs": [
    {
     "name": "stdout",
     "output_type": "stream",
     "text": [
      "(128, 256)\n"
     ]
    }
   ],
   "source": [
    "H1 = RegularH(n=256, d_v=4, d_c=8)\n",
    "print(H1.shape)"
   ]
  },
  {
   "cell_type": "code",
   "execution_count": 79,
   "metadata": {},
   "outputs": [
    {
     "name": "stdout",
     "output_type": "stream",
     "text": [
      "x0 [0.94504289 0.05495711]\n",
      "x1 [0.88295866 0.11704134]\n",
      "x2 [0.20666575 0.79333425]\n",
      "x3 [0.78309033 0.21690967]\n",
      "x4 [0.86809207 0.13190793]\n",
      "x5 [0.8701322 0.1298678]\n",
      "x6 [0.87335381 0.12664619]\n",
      "x7 [0.87818204 0.12181796]\n",
      "x8 [0.95773763 0.04226237]\n",
      "x9 [0.05054357 0.94945643]\n",
      "x10 [0.91955259 0.08044741]\n",
      "x11 [0.96983824 0.03016176]\n",
      "x12 [0.95479126 0.04520874]\n",
      "x13 [0.86282672 0.13717328]\n",
      "x14 [0.08346968 0.91653032]\n",
      "x15 [0.94302801 0.05697199]\n",
      "x16 [0.90704603 0.09295397]\n",
      "x17 [0.79715222 0.20284778]\n",
      "x18 [0.89561944 0.10438056]\n",
      "x19 [0.84158793 0.15841207]\n",
      "x20 [0.88548316 0.11451684]\n",
      "x21 [0.85242952 0.14757048]\n",
      "x22 [0.81829142 0.18170858]\n",
      "x23 [0.92996302 0.07003698]\n",
      "x24 [0.95886693 0.04113307]\n",
      "x25 [0.98389706 0.01610294]\n",
      "x26 [0.94394363 0.05605637]\n",
      "x27 [0.98460733 0.01539267]\n",
      "x28 [0.86748615 0.13251385]\n",
      "x29 [0.957511 0.042489]\n",
      "x30 [0.95788898 0.04211102]\n",
      "x31 [0.93742183 0.06257817]\n",
      "x32 [0.97126048 0.02873952]\n",
      "x33 [0.93522862 0.06477138]\n",
      "x34 [0.9570813 0.0429187]\n",
      "x35 [0.89964355 0.10035645]\n",
      "x36 [0.88955438 0.11044562]\n",
      "x37 [0.81317322 0.18682678]\n",
      "x38 [0.91090346 0.08909654]\n",
      "x39 [0.94263953 0.05736047]\n",
      "x40 [0.93928359 0.06071641]\n",
      "x41 [0.23163664 0.76836336]\n",
      "x42 [0.81806696 0.18193304]\n",
      "x43 [0.91409064 0.08590936]\n",
      "x44 [0.20444021 0.79555979]\n",
      "x45 [0.13643509 0.86356491]\n",
      "x46 [0.81955381 0.18044619]\n",
      "x47 [0.93638823 0.06361177]\n",
      "x48 [0.93192714 0.06807286]\n",
      "x49 [0.85428085 0.14571915]\n",
      "x50 [0.72916179 0.27083821]\n",
      "x51 [0.83560963 0.16439037]\n",
      "x52 [0.85425084 0.14574916]\n",
      "x53 [0.89350468 0.10649532]\n",
      "x54 [0.82549878 0.17450122]\n",
      "x55 [0.88941233 0.11058767]\n",
      "x56 [0.88194691 0.11805309]\n",
      "x57 [0.91347287 0.08652713]\n",
      "x58 [0.94880324 0.05119676]\n",
      "x59 [0.95641036 0.04358964]\n",
      "x60 [0.88902042 0.11097958]\n",
      "x61 [0.93722777 0.06277223]\n",
      "x62 [0.87747867 0.12252133]\n",
      "x63 [0.82545149 0.17454851]\n",
      "x64 [0.9676569 0.0323431]\n",
      "x65 [0.71915866 0.28084134]\n",
      "x66 [0.1553974 0.8446026]\n",
      "x67 [0.21172057 0.78827943]\n",
      "x68 [0.90758786 0.09241214]\n",
      "x69 [0.9053217 0.0946783]\n",
      "x70 [0.9337504 0.0662496]\n",
      "x71 [0.86398914 0.13601086]\n",
      "x72 [0.34725112 0.65274888]\n",
      "x73 [0.93723076 0.06276924]\n",
      "x74 [0.95022383 0.04977617]\n",
      "x75 [0.80340211 0.19659789]\n",
      "x76 [0.87549283 0.12450717]\n",
      "x77 [0.87634079 0.12365921]\n",
      "x78 [0.8670551 0.1329449]\n",
      "x79 [0.91376023 0.08623977]\n",
      "x80 [0.10690169 0.89309831]\n",
      "x81 [0.94259275 0.05740725]\n",
      "x82 [0.95870438 0.04129562]\n",
      "x83 [0.93792777 0.06207223]\n",
      "x84 [0.94048431 0.05951569]\n",
      "x85 [0.05818232 0.94181768]\n",
      "x86 [0.87007193 0.12992807]\n",
      "x87 [0.94110902 0.05889098]\n",
      "x88 [0.81677206 0.18322794]\n",
      "x89 [0.96490313 0.03509687]\n",
      "x90 [0.95037428 0.04962572]\n",
      "x91 [0.88324735 0.11675265]\n",
      "x92 [0.91616932 0.08383068]\n",
      "x93 [0.15507464 0.84492536]\n",
      "x94 [0.92860289 0.07139711]\n",
      "x95 [0.04963106 0.95036894]\n",
      "x96 [0.89344472 0.10655528]\n",
      "x97 [0.04211839 0.95788161]\n",
      "x98 [0.94130996 0.05869004]\n",
      "x99 [0.79530038 0.20469962]\n",
      "x100 [0.72828267 0.27171733]\n",
      "x101 [0.87669776 0.12330224]\n",
      "x102 [0.83494408 0.16505592]\n",
      "x103 [0.84630826 0.15369174]\n",
      "x104 [0.94836929 0.05163071]\n",
      "x105 [0.89034591 0.10965409]\n",
      "x106 [0.97862967 0.02137033]\n",
      "x107 [0.96949846 0.03050154]\n",
      "x108 [0.95623492 0.04376508]\n",
      "x109 [0.95270956 0.04729044]\n",
      "x110 [0.05239806 0.94760194]\n",
      "x111 [0.12664061 0.87335939]\n",
      "x112 [0.07504677 0.92495323]\n",
      "x113 [0.92882097 0.07117903]\n",
      "x114 [0.87765241 0.12234759]\n",
      "x115 [0.94579644 0.05420356]\n",
      "x116 [0.93414877 0.06585123]\n",
      "x117 [0.69022257 0.30977743]\n",
      "x118 [0.83699081 0.16300919]\n",
      "x119 [0.64048397 0.35951603]\n",
      "x120 [0.93185056 0.06814944]\n",
      "x121 [0.90367546 0.09632454]\n",
      "x122 [0.8771029 0.1228971]\n",
      "x123 [0.81994788 0.18005212]\n",
      "x124 [0.89216064 0.10783936]\n",
      "x125 [0.89773752 0.10226248]\n",
      "x126 [0.88539974 0.11460026]\n",
      "x127 [0.94020322 0.05979678]\n",
      "x128 [0.86154548 0.13845452]\n",
      "x129 [0.4005644 0.5994356]\n",
      "x130 [0.73301671 0.26698329]\n",
      "x131 [0.92180533 0.07819467]\n",
      "x132 [0.91501513 0.08498487]\n",
      "x133 [0.87484103 0.12515897]\n",
      "x134 [0.95439822 0.04560178]\n",
      "x135 [0.85588456 0.14411544]\n",
      "x136 [0.30112824 0.69887176]\n",
      "x137 [0.96425798 0.03574202]\n",
      "x138 [0.9634188 0.0365812]\n",
      "x139 [0.80047726 0.19952274]\n",
      "x140 [0.74481 0.25519]\n",
      "x141 [0.85198306 0.14801694]\n",
      "x142 [0.88778701 0.11221299]\n",
      "x143 [0.80760291 0.19239709]\n",
      "x144 [0.96218252 0.03781748]\n",
      "x145 [0.92190756 0.07809244]\n",
      "x146 [0.94409375 0.05590625]\n",
      "x147 [0.93491807 0.06508193]\n",
      "x148 [0.90947389 0.09052611]\n",
      "x149 [0.18317332 0.81682668]\n",
      "x150 [0.91880978 0.08119022]\n",
      "x151 [0.13137873 0.86862127]\n",
      "x152 [0.12041045 0.87958955]\n",
      "x153 [0.89401544 0.10598456]\n",
      "x154 [0.86984261 0.13015739]\n",
      "x155 [0.96126919 0.03873081]\n",
      "x156 [0.94493511 0.05506489]\n",
      "x157 [0.92499174 0.07500826]\n",
      "x158 [0.90484631 0.09515369]\n",
      "x159 [0.06879134 0.93120866]\n",
      "x160 [0.90941583 0.09058417]\n",
      "x161 [0.93744079 0.06255921]\n",
      "x162 [0.92823688 0.07176312]\n",
      "x163 [0.89839085 0.10160915]\n",
      "x164 [0.95010891 0.04989109]\n",
      "x165 [0.95233897 0.04766103]\n",
      "x166 [0.93778963 0.06221037]\n",
      "x167 [0.86862497 0.13137503]\n",
      "x168 [0.83609296 0.16390704]\n",
      "x169 [0.92727163 0.07272837]\n",
      "x170 [0.80884931 0.19115069]\n",
      "x171 [0.10590903 0.89409097]\n",
      "x172 [0.97056125 0.02943875]\n",
      "x173 [0.97431403 0.02568597]\n",
      "x174 [0.81070434 0.18929566]\n",
      "x175 [0.1249333 0.8750667]\n",
      "x176 [0.95012529 0.04987471]\n",
      "x177 [0.90430659 0.09569341]\n",
      "x178 [0.93472814 0.06527186]\n",
      "x179 [0.92982749 0.07017251]\n",
      "x180 [0.87647034 0.12352966]\n",
      "x181 [0.83381535 0.16618465]\n",
      "x182 [0.90169579 0.09830421]\n",
      "x183 [0.92188258 0.07811742]\n",
      "x184 [0.95761199 0.04238801]\n",
      "x185 [0.91674245 0.08325755]\n",
      "x186 [0.88082666 0.11917334]\n",
      "x187 [0.91263845 0.08736155]\n",
      "x188 [0.9584007 0.0415993]\n",
      "x189 [0.88744816 0.11255184]\n",
      "x190 [0.83042904 0.16957096]\n",
      "x191 [0.91101258 0.08898742]\n",
      "x192 [0.96151897 0.03848103]\n",
      "x193 [0.91592929 0.08407071]\n",
      "x194 [0.16583851 0.83416149]\n",
      "x195 [0.84085628 0.15914372]\n",
      "x196 [0.21045402 0.78954598]\n",
      "x197 [0.94044989 0.05955011]\n",
      "x198 [0.26229501 0.73770499]\n",
      "x199 [0.79504162 0.20495838]\n",
      "x200 [0.61744929 0.38255071]\n",
      "x201 [0.79360978 0.20639022]\n",
      "x202 [0.75938022 0.24061978]\n",
      "x203 [0.75880313 0.24119687]\n",
      "x204 [0.91005001 0.08994999]\n",
      "x205 [0.62227046 0.37772954]\n",
      "x206 [0.88750902 0.11249098]\n",
      "x207 [0.09126525 0.90873475]\n",
      "x208 [0.9277239 0.0722761]\n",
      "x209 [0.97179182 0.02820818]\n",
      "x210 [0.97237382 0.02762618]\n",
      "x211 [0.93632965 0.06367035]\n",
      "x212 [0.9106567 0.0893433]\n",
      "x213 [0.07502573 0.92497427]\n",
      "x214 [0.96177007 0.03822993]\n",
      "x215 [0.15737916 0.84262084]\n",
      "x216 [0.16993845 0.83006155]\n",
      "x217 [0.86437499 0.13562501]\n",
      "x218 [0.945137 0.054863]\n",
      "x219 [0.95866086 0.04133914]\n",
      "x220 [0.92072919 0.07927081]\n",
      "x221 [0.76227762 0.23772238]\n",
      "x222 [0.8484179 0.1515821]\n",
      "x223 [0.62779115 0.37220885]\n",
      "x224 [0.89752857 0.10247143]\n",
      "x225 [0.91423187 0.08576813]\n",
      "x226 [0.94548841 0.05451159]\n",
      "x227 [0.94289822 0.05710178]\n",
      "x228 [0.94687427 0.05312573]\n",
      "x229 [0.89382365 0.10617635]\n",
      "x230 [0.93807316 0.06192684]\n",
      "x231 [0.81285961 0.18714039]\n",
      "x232 [0.91505664 0.08494336]\n",
      "x233 [0.715506 0.284494]\n",
      "x234 [0.88372527 0.11627473]\n",
      "x235 [0.85028877 0.14971123]\n",
      "x236 [0.71451285 0.28548715]\n",
      "x237 [0.90922861 0.09077139]\n",
      "x238 [0.94437616 0.05562384]\n",
      "x239 [0.20387719 0.79612281]\n",
      "x240 [0.47849895 0.52150105]\n",
      "x241 [0.76704161 0.23295839]\n",
      "x242 [0.82678822 0.17321178]\n",
      "x243 [0.93663349 0.06336651]\n",
      "x244 [0.88218153 0.11781847]\n",
      "x245 [0.86570102 0.13429898]\n",
      "x246 [0.92245721 0.07754279]\n",
      "x247 [0.97523952 0.02476048]\n",
      "x248 [0.86280908 0.13719092]\n",
      "x249 [0.12696648 0.87303352]\n",
      "x250 [0.83497887 0.16502113]\n",
      "x251 [0.93912695 0.06087305]\n",
      "x252 [0.81991012 0.18008988]\n",
      "x253 [0.19936487 0.80063513]\n",
      "x254 [0.89882249 0.10117751]\n",
      "x255 [0.87230984 0.12769016]\n"
     ]
    }
   ],
   "source": [
    "ldpc_fg1 = make_ldpc_fg(H1)\n",
    "ldpc_fg1 = set_unary_factors(ldpc_fg1, transmitted, 0.1)\n",
    "beliefs, beliefs_history = get_beliefs(ldpc_fg1, 50)\n",
    "for (v,b) in beliefs.items():\n",
    "    print(v, b)"
   ]
  },
  {
   "cell_type": "code",
   "execution_count": 85,
   "metadata": {},
   "outputs": [
    {
     "data": {
      "text/plain": [
       "array([0., 0., 1., 0., 0., 0., 0., 0., 0., 1., 0., 0., 0., 0., 1., 0., 0.,\n",
       "       0., 0., 0., 0., 0., 0., 0., 0., 0., 0., 0., 0., 0., 0., 0., 0., 0.,\n",
       "       0., 0., 0., 0., 0., 0., 0., 1., 0., 0., 1., 1., 0., 0., 0., 0., 0.,\n",
       "       0., 0., 0., 0., 0., 0., 0., 0., 0., 0., 0., 0., 0., 0., 0., 1., 1.,\n",
       "       0., 0., 0., 0., 1., 0., 0., 0., 0., 0., 0., 0., 1., 0., 0., 0., 0.,\n",
       "       1., 0., 0., 0., 0., 0., 0., 0., 1., 0., 1., 0., 1., 0., 0., 0., 0.,\n",
       "       0., 0., 0., 0., 0., 0., 0., 0., 1., 1., 1., 0., 0., 0., 0., 0., 0.,\n",
       "       0., 0., 0., 0., 0., 0., 0., 0., 0., 0., 1., 0., 0., 0., 0., 0., 0.,\n",
       "       1., 0., 0., 0., 0., 0., 0., 0., 0., 0., 0., 0., 0., 1., 0., 1., 1.,\n",
       "       0., 0., 0., 0., 0., 0., 1., 0., 0., 0., 0., 0., 0., 0., 0., 0., 0.,\n",
       "       0., 1., 0., 0., 0., 1., 0., 0., 0., 0., 0., 0., 0., 0., 0., 0., 0.,\n",
       "       0., 0., 0., 0., 0., 0., 0., 1., 0., 1., 0., 1., 0., 0., 0., 0., 0.,\n",
       "       0., 0., 0., 1., 0., 0., 0., 0., 0., 1., 0., 1., 1., 0., 0., 0., 0.,\n",
       "       0., 0., 0., 0., 0., 0., 0., 0., 0., 0., 0., 0., 0., 0., 0., 0., 0.,\n",
       "       0., 1., 1., 0., 0., 0., 0., 0., 0., 0., 0., 1., 0., 0., 0., 1., 0.,\n",
       "       0.])"
      ]
     },
     "execution_count": 85,
     "metadata": {},
     "output_type": "execute_result"
    }
   ],
   "source": [
    "decode_msg(beliefs)"
   ]
  },
  {
   "cell_type": "markdown",
   "metadata": {},
   "source": [
    "### Part C "
   ]
  },
  {
   "cell_type": "code",
   "execution_count": null,
   "metadata": {},
   "outputs": [],
   "source": []
  },
  {
   "cell_type": "markdown",
   "metadata": {},
   "source": [
    "### Part E "
   ]
  },
  {
   "cell_type": "code",
   "execution_count": null,
   "metadata": {},
   "outputs": [],
   "source": [
    "img = cv2.imread('binary-image.png',2)\n",
    "img = cv2.resize(img, (40, 40))\n",
    "ret, bw_img = cv2.threshold(img,127,255,cv2.THRESH_BINARY)\n",
    "#cv2.imshow(\"Binary Image\",bw_img)\n",
    "plt.imshow(bw_img)"
   ]
  },
  {
   "cell_type": "code",
   "execution_count": null,
   "metadata": {},
   "outputs": [],
   "source": [
    "img_code = (bw_img / 255).astype(int)\n",
    "img_code_flattened = img_code.flatten()\n",
    "img_code_transmitted = transmit(img_code_flattened, err=0.05)\n",
    "transmitted_reshaped = img_code_transmitted.reshape(img_code.shape)\n",
    "plt.imshow(transmitted_reshaped)"
   ]
  },
  {
   "cell_type": "code",
   "execution_count": null,
   "metadata": {},
   "outputs": [],
   "source": [
    "H2 = RegularH(n=256, d_v=64, d_c=128)\n",
    "print(H2.shape)"
   ]
  },
  {
   "cell_type": "code",
   "execution_count": null,
   "metadata": {},
   "outputs": [],
   "source": [
    "ldpc_fg2 = make_ldpc_fg(H2)"
   ]
  },
  {
   "cell_type": "code",
   "execution_count": null,
   "metadata": {},
   "outputs": [],
   "source": [
    "H2.mean()"
   ]
  },
  {
   "cell_type": "markdown",
   "metadata": {},
   "source": [
    "## Q4 - Messsage passing on a tree"
   ]
  },
  {
   "cell_type": "code",
   "execution_count": null,
   "metadata": {},
   "outputs": [],
   "source": [
    "from scipy.stats import norm"
   ]
  },
  {
   "cell_type": "code",
   "execution_count": null,
   "metadata": {},
   "outputs": [],
   "source": [
    "norm.pdf(50, loc=50, scale=np.sqrt(10))"
   ]
  },
  {
   "cell_type": "code",
   "execution_count": null,
   "metadata": {},
   "outputs": [],
   "source": [
    "norm.pdf(50, loc=60, scale=np.sqrt(10))"
   ]
  },
  {
   "cell_type": "code",
   "execution_count": null,
   "metadata": {},
   "outputs": [],
   "source": [
    "norm.pdf(60, loc=50, scale=np.sqrt(10))"
   ]
  },
  {
   "cell_type": "code",
   "execution_count": null,
   "metadata": {},
   "outputs": [],
   "source": [
    "norm.pdf(60, loc=60, scale=np.sqrt(10))"
   ]
  },
  {
   "cell_type": "code",
   "execution_count": null,
   "metadata": {},
   "outputs": [],
   "source": []
  }
 ],
 "metadata": {
  "anaconda-cloud": {},
  "celltoolbar": "Raw Cell Format",
  "kernelspec": {
   "display_name": "Python 3",
   "language": "python",
   "name": "python3"
  },
  "language_info": {
   "codemirror_mode": {
    "name": "ipython",
    "version": 3
   },
   "file_extension": ".py",
   "mimetype": "text/x-python",
   "name": "python",
   "nbconvert_exporter": "python",
   "pygments_lexer": "ipython3",
   "version": "3.6.7"
  }
 },
 "nbformat": 4,
 "nbformat_minor": 1
}
